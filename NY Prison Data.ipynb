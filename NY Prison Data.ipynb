{
 "cells": [
  {
   "cell_type": "markdown",
   "metadata": {},
   "source": [
    "# Table of contents\n",
    "1. [Cleaning](#cleaning)\n",
    "2. [Exploring to Answer Unasked Questions (EDA)](#myanswers)"
   ]
  },
  {
   "cell_type": "code",
   "execution_count": 1,
   "metadata": {},
   "outputs": [],
   "source": [
    "import numpy as np\n",
    "import pandas as pd \n",
    "import matplotlib.pyplot as plt\n",
    "import seaborn as sns\n",
    "from sklearn.preprocessing import Imputer\n",
    "from datetime import datetime"
   ]
  },
  {
   "cell_type": "markdown",
   "metadata": {},
   "source": [
    "## Cleaning the Dataframe <a name=\"cleaning\"></a>"
   ]
  },
  {
   "cell_type": "code",
   "execution_count": 2,
   "metadata": {},
   "outputs": [
    {
     "data": {
      "text/html": [
       "<div>\n",
       "<style scoped>\n",
       "    .dataframe tbody tr th:only-of-type {\n",
       "        vertical-align: middle;\n",
       "    }\n",
       "\n",
       "    .dataframe tbody tr th {\n",
       "        vertical-align: top;\n",
       "    }\n",
       "\n",
       "    .dataframe thead th {\n",
       "        text-align: right;\n",
       "    }\n",
       "</style>\n",
       "<table border=\"1\" class=\"dataframe\">\n",
       "  <thead>\n",
       "    <tr style=\"text-align: right;\">\n",
       "      <th></th>\n",
       "      <th>0</th>\n",
       "      <th>1</th>\n",
       "      <th>2</th>\n",
       "      <th>3</th>\n",
       "      <th>4</th>\n",
       "    </tr>\n",
       "  </thead>\n",
       "  <tbody>\n",
       "    <tr>\n",
       "      <th>INMATEID</th>\n",
       "      <td>20159382</td>\n",
       "      <td>20120917</td>\n",
       "      <td>20174220</td>\n",
       "      <td>20174619</td>\n",
       "      <td>20175929</td>\n",
       "    </tr>\n",
       "    <tr>\n",
       "      <th>ADMITTED_DT</th>\n",
       "      <td>2015-11-14T18:22:02</td>\n",
       "      <td>2013-10-11T18:34:33</td>\n",
       "      <td>2016-10-25T16:33:35</td>\n",
       "      <td>2016-11-03T18:11:30</td>\n",
       "      <td>2016-12-09T02:20:21</td>\n",
       "    </tr>\n",
       "    <tr>\n",
       "      <th>DISCHARGED_DT</th>\n",
       "      <td>NaN</td>\n",
       "      <td>NaN</td>\n",
       "      <td>NaN</td>\n",
       "      <td>NaN</td>\n",
       "      <td>NaN</td>\n",
       "    </tr>\n",
       "    <tr>\n",
       "      <th>CUSTODY_LEVEL</th>\n",
       "      <td>NaN</td>\n",
       "      <td>NaN</td>\n",
       "      <td>NaN</td>\n",
       "      <td>NaN</td>\n",
       "      <td>NaN</td>\n",
       "    </tr>\n",
       "    <tr>\n",
       "      <th>BRADH</th>\n",
       "      <td>N</td>\n",
       "      <td>N</td>\n",
       "      <td>N</td>\n",
       "      <td>N</td>\n",
       "      <td>N</td>\n",
       "    </tr>\n",
       "    <tr>\n",
       "      <th>RACE</th>\n",
       "      <td>NaN</td>\n",
       "      <td>NaN</td>\n",
       "      <td>NaN</td>\n",
       "      <td>NaN</td>\n",
       "      <td>NaN</td>\n",
       "    </tr>\n",
       "    <tr>\n",
       "      <th>GENDER</th>\n",
       "      <td>NaN</td>\n",
       "      <td>NaN</td>\n",
       "      <td>NaN</td>\n",
       "      <td>NaN</td>\n",
       "      <td>NaN</td>\n",
       "    </tr>\n",
       "    <tr>\n",
       "      <th>AGE</th>\n",
       "      <td>NaN</td>\n",
       "      <td>NaN</td>\n",
       "      <td>NaN</td>\n",
       "      <td>NaN</td>\n",
       "      <td>NaN</td>\n",
       "    </tr>\n",
       "    <tr>\n",
       "      <th>INMATE_STATUS_CODE</th>\n",
       "      <td>DE</td>\n",
       "      <td>DE</td>\n",
       "      <td>DE</td>\n",
       "      <td>DE</td>\n",
       "      <td>DE</td>\n",
       "    </tr>\n",
       "    <tr>\n",
       "      <th>SEALED</th>\n",
       "      <td>N</td>\n",
       "      <td>N</td>\n",
       "      <td>N</td>\n",
       "      <td>N</td>\n",
       "      <td>N</td>\n",
       "    </tr>\n",
       "    <tr>\n",
       "      <th>SRG_FLG</th>\n",
       "      <td>N</td>\n",
       "      <td>N</td>\n",
       "      <td>N</td>\n",
       "      <td>N</td>\n",
       "      <td>N</td>\n",
       "    </tr>\n",
       "    <tr>\n",
       "      <th>TOP_CHARGE</th>\n",
       "      <td>NaN</td>\n",
       "      <td>NaN</td>\n",
       "      <td>NaN</td>\n",
       "      <td>NaN</td>\n",
       "      <td>NaN</td>\n",
       "    </tr>\n",
       "    <tr>\n",
       "      <th>INFRACTION</th>\n",
       "      <td>N</td>\n",
       "      <td>N</td>\n",
       "      <td>N</td>\n",
       "      <td>N</td>\n",
       "      <td>N</td>\n",
       "    </tr>\n",
       "  </tbody>\n",
       "</table>\n",
       "</div>"
      ],
      "text/plain": [
       "                                      0                    1  \\\n",
       "INMATEID                       20159382             20120917   \n",
       "ADMITTED_DT         2015-11-14T18:22:02  2013-10-11T18:34:33   \n",
       "DISCHARGED_DT                       NaN                  NaN   \n",
       "CUSTODY_LEVEL                       NaN                  NaN   \n",
       "BRADH                                 N                    N   \n",
       "RACE                                NaN                  NaN   \n",
       "GENDER                              NaN                  NaN   \n",
       "AGE                                 NaN                  NaN   \n",
       "INMATE_STATUS_CODE                   DE                   DE   \n",
       "SEALED                                N                    N   \n",
       "SRG_FLG                               N                    N   \n",
       "TOP_CHARGE                          NaN                  NaN   \n",
       "INFRACTION                            N                    N   \n",
       "\n",
       "                                      2                    3  \\\n",
       "INMATEID                       20174220             20174619   \n",
       "ADMITTED_DT         2016-10-25T16:33:35  2016-11-03T18:11:30   \n",
       "DISCHARGED_DT                       NaN                  NaN   \n",
       "CUSTODY_LEVEL                       NaN                  NaN   \n",
       "BRADH                                 N                    N   \n",
       "RACE                                NaN                  NaN   \n",
       "GENDER                              NaN                  NaN   \n",
       "AGE                                 NaN                  NaN   \n",
       "INMATE_STATUS_CODE                   DE                   DE   \n",
       "SEALED                                N                    N   \n",
       "SRG_FLG                               N                    N   \n",
       "TOP_CHARGE                          NaN                  NaN   \n",
       "INFRACTION                            N                    N   \n",
       "\n",
       "                                      4  \n",
       "INMATEID                       20175929  \n",
       "ADMITTED_DT         2016-12-09T02:20:21  \n",
       "DISCHARGED_DT                       NaN  \n",
       "CUSTODY_LEVEL                       NaN  \n",
       "BRADH                                 N  \n",
       "RACE                                NaN  \n",
       "GENDER                              NaN  \n",
       "AGE                                 NaN  \n",
       "INMATE_STATUS_CODE                   DE  \n",
       "SEALED                                N  \n",
       "SRG_FLG                               N  \n",
       "TOP_CHARGE                          NaN  \n",
       "INFRACTION                            N  "
      ]
     },
     "execution_count": 2,
     "metadata": {},
     "output_type": "execute_result"
    }
   ],
   "source": [
    "df = pd.read_csv(\"daily-inmates-in-custody.csv\")\n",
    "df.head().T"
   ]
  },
  {
   "cell_type": "code",
   "execution_count": 3,
   "metadata": {},
   "outputs": [
    {
     "data": {
      "text/html": [
       "<div>\n",
       "<style scoped>\n",
       "    .dataframe tbody tr th:only-of-type {\n",
       "        vertical-align: middle;\n",
       "    }\n",
       "\n",
       "    .dataframe tbody tr th {\n",
       "        vertical-align: top;\n",
       "    }\n",
       "\n",
       "    .dataframe thead th {\n",
       "        text-align: right;\n",
       "    }\n",
       "</style>\n",
       "<table border=\"1\" class=\"dataframe\">\n",
       "  <thead>\n",
       "    <tr style=\"text-align: right;\">\n",
       "      <th></th>\n",
       "      <th>0</th>\n",
       "      <th>1</th>\n",
       "      <th>2</th>\n",
       "      <th>3</th>\n",
       "      <th>4</th>\n",
       "    </tr>\n",
       "  </thead>\n",
       "  <tbody>\n",
       "    <tr>\n",
       "      <th>INMATE_ID</th>\n",
       "      <td>20159382</td>\n",
       "      <td>20120917</td>\n",
       "      <td>20174220</td>\n",
       "      <td>20174619</td>\n",
       "      <td>20175929</td>\n",
       "    </tr>\n",
       "    <tr>\n",
       "      <th>ADMITTED_DT</th>\n",
       "      <td>2015-11-14T18:22:02</td>\n",
       "      <td>2013-10-11T18:34:33</td>\n",
       "      <td>2016-10-25T16:33:35</td>\n",
       "      <td>2016-11-03T18:11:30</td>\n",
       "      <td>2016-12-09T02:20:21</td>\n",
       "    </tr>\n",
       "    <tr>\n",
       "      <th>DISCHARGED_DT</th>\n",
       "      <td>NaN</td>\n",
       "      <td>NaN</td>\n",
       "      <td>NaN</td>\n",
       "      <td>NaN</td>\n",
       "      <td>NaN</td>\n",
       "    </tr>\n",
       "    <tr>\n",
       "      <th>CUSTODY_LEVEL</th>\n",
       "      <td>NaN</td>\n",
       "      <td>NaN</td>\n",
       "      <td>NaN</td>\n",
       "      <td>NaN</td>\n",
       "      <td>NaN</td>\n",
       "    </tr>\n",
       "    <tr>\n",
       "      <th>MENTAL_OBSERVATION</th>\n",
       "      <td>N</td>\n",
       "      <td>N</td>\n",
       "      <td>N</td>\n",
       "      <td>N</td>\n",
       "      <td>N</td>\n",
       "    </tr>\n",
       "    <tr>\n",
       "      <th>RACE</th>\n",
       "      <td>NaN</td>\n",
       "      <td>NaN</td>\n",
       "      <td>NaN</td>\n",
       "      <td>NaN</td>\n",
       "      <td>NaN</td>\n",
       "    </tr>\n",
       "    <tr>\n",
       "      <th>GENDER</th>\n",
       "      <td>NaN</td>\n",
       "      <td>NaN</td>\n",
       "      <td>NaN</td>\n",
       "      <td>NaN</td>\n",
       "      <td>NaN</td>\n",
       "    </tr>\n",
       "    <tr>\n",
       "      <th>AGE</th>\n",
       "      <td>NaN</td>\n",
       "      <td>NaN</td>\n",
       "      <td>NaN</td>\n",
       "      <td>NaN</td>\n",
       "      <td>NaN</td>\n",
       "    </tr>\n",
       "    <tr>\n",
       "      <th>INMATE_STATUS_CODE</th>\n",
       "      <td>DE</td>\n",
       "      <td>DE</td>\n",
       "      <td>DE</td>\n",
       "      <td>DE</td>\n",
       "      <td>DE</td>\n",
       "    </tr>\n",
       "    <tr>\n",
       "      <th>SEALED</th>\n",
       "      <td>N</td>\n",
       "      <td>N</td>\n",
       "      <td>N</td>\n",
       "      <td>N</td>\n",
       "      <td>N</td>\n",
       "    </tr>\n",
       "    <tr>\n",
       "      <th>GANG_AFFILIATION</th>\n",
       "      <td>N</td>\n",
       "      <td>N</td>\n",
       "      <td>N</td>\n",
       "      <td>N</td>\n",
       "      <td>N</td>\n",
       "    </tr>\n",
       "    <tr>\n",
       "      <th>TOP_CHARGE</th>\n",
       "      <td>NaN</td>\n",
       "      <td>NaN</td>\n",
       "      <td>NaN</td>\n",
       "      <td>NaN</td>\n",
       "      <td>NaN</td>\n",
       "    </tr>\n",
       "    <tr>\n",
       "      <th>INFRACTION</th>\n",
       "      <td>N</td>\n",
       "      <td>N</td>\n",
       "      <td>N</td>\n",
       "      <td>N</td>\n",
       "      <td>N</td>\n",
       "    </tr>\n",
       "  </tbody>\n",
       "</table>\n",
       "</div>"
      ],
      "text/plain": [
       "                                      0                    1  \\\n",
       "INMATE_ID                      20159382             20120917   \n",
       "ADMITTED_DT         2015-11-14T18:22:02  2013-10-11T18:34:33   \n",
       "DISCHARGED_DT                       NaN                  NaN   \n",
       "CUSTODY_LEVEL                       NaN                  NaN   \n",
       "MENTAL_OBSERVATION                    N                    N   \n",
       "RACE                                NaN                  NaN   \n",
       "GENDER                              NaN                  NaN   \n",
       "AGE                                 NaN                  NaN   \n",
       "INMATE_STATUS_CODE                   DE                   DE   \n",
       "SEALED                                N                    N   \n",
       "GANG_AFFILIATION                      N                    N   \n",
       "TOP_CHARGE                          NaN                  NaN   \n",
       "INFRACTION                            N                    N   \n",
       "\n",
       "                                      2                    3  \\\n",
       "INMATE_ID                      20174220             20174619   \n",
       "ADMITTED_DT         2016-10-25T16:33:35  2016-11-03T18:11:30   \n",
       "DISCHARGED_DT                       NaN                  NaN   \n",
       "CUSTODY_LEVEL                       NaN                  NaN   \n",
       "MENTAL_OBSERVATION                    N                    N   \n",
       "RACE                                NaN                  NaN   \n",
       "GENDER                              NaN                  NaN   \n",
       "AGE                                 NaN                  NaN   \n",
       "INMATE_STATUS_CODE                   DE                   DE   \n",
       "SEALED                                N                    N   \n",
       "GANG_AFFILIATION                      N                    N   \n",
       "TOP_CHARGE                          NaN                  NaN   \n",
       "INFRACTION                            N                    N   \n",
       "\n",
       "                                      4  \n",
       "INMATE_ID                      20175929  \n",
       "ADMITTED_DT         2016-12-09T02:20:21  \n",
       "DISCHARGED_DT                       NaN  \n",
       "CUSTODY_LEVEL                       NaN  \n",
       "MENTAL_OBSERVATION                    N  \n",
       "RACE                                NaN  \n",
       "GENDER                              NaN  \n",
       "AGE                                 NaN  \n",
       "INMATE_STATUS_CODE                   DE  \n",
       "SEALED                                N  \n",
       "GANG_AFFILIATION                      N  \n",
       "TOP_CHARGE                          NaN  \n",
       "INFRACTION                            N  "
      ]
     },
     "execution_count": 3,
     "metadata": {},
     "output_type": "execute_result"
    }
   ],
   "source": [
    "original_colnames = df.columns\n",
    "new_colnames = ['INMATE_ID', 'ADMITTED_DT', 'DISCHARGED_DT', 'CUSTODY_LEVEL', 'MENTAL_OBSERVATION', 'RACE', 'GENDER', 'AGE', 'INMATE_STATUS_CODE', 'SEALED', 'GANG_AFFILIATION', 'TOP_CHARGE', 'INFRACTION']\n",
    "df = df.rename(columns=dict(zip(original_colnames, new_colnames)))\n",
    "df.head().T"
   ]
  },
  {
   "cell_type": "code",
   "execution_count": 4,
   "metadata": {},
   "outputs": [
    {
     "data": {
      "text/html": [
       "<div>\n",
       "<style scoped>\n",
       "    .dataframe tbody tr th:only-of-type {\n",
       "        vertical-align: middle;\n",
       "    }\n",
       "\n",
       "    .dataframe tbody tr th {\n",
       "        vertical-align: top;\n",
       "    }\n",
       "\n",
       "    .dataframe thead th {\n",
       "        text-align: right;\n",
       "    }\n",
       "</style>\n",
       "<table border=\"1\" class=\"dataframe\">\n",
       "  <thead>\n",
       "    <tr style=\"text-align: right;\">\n",
       "      <th></th>\n",
       "      <th>8223</th>\n",
       "      <th>8224</th>\n",
       "      <th>8225</th>\n",
       "      <th>8226</th>\n",
       "      <th>8227</th>\n",
       "    </tr>\n",
       "  </thead>\n",
       "  <tbody>\n",
       "    <tr>\n",
       "      <th>INMATE_ID</th>\n",
       "      <td>20101081</td>\n",
       "      <td>80499</td>\n",
       "      <td>168995</td>\n",
       "      <td>20197793</td>\n",
       "      <td>20185441</td>\n",
       "    </tr>\n",
       "    <tr>\n",
       "      <th>ADMITTED_DT</th>\n",
       "      <td>2018-08-27T12:43:45</td>\n",
       "      <td>2018-08-26T01:16:28</td>\n",
       "      <td>2018-08-27T13:46:28</td>\n",
       "      <td>2018-08-24T20:59:00</td>\n",
       "      <td>2018-06-27T19:18:55</td>\n",
       "    </tr>\n",
       "    <tr>\n",
       "      <th>DISCHARGED_DT</th>\n",
       "      <td>NaN</td>\n",
       "      <td>NaN</td>\n",
       "      <td>NaN</td>\n",
       "      <td>NaN</td>\n",
       "      <td>NaN</td>\n",
       "    </tr>\n",
       "    <tr>\n",
       "      <th>CUSTODY_LEVEL</th>\n",
       "      <td>MED</td>\n",
       "      <td>MIN</td>\n",
       "      <td>MED</td>\n",
       "      <td>MIN</td>\n",
       "      <td>MAX</td>\n",
       "    </tr>\n",
       "    <tr>\n",
       "      <th>MENTAL_OBSERVATION</th>\n",
       "      <td>N</td>\n",
       "      <td>N</td>\n",
       "      <td>N</td>\n",
       "      <td>N</td>\n",
       "      <td>Y</td>\n",
       "    </tr>\n",
       "    <tr>\n",
       "      <th>RACE</th>\n",
       "      <td>O</td>\n",
       "      <td>B</td>\n",
       "      <td>O</td>\n",
       "      <td>W</td>\n",
       "      <td>O</td>\n",
       "    </tr>\n",
       "    <tr>\n",
       "      <th>GENDER</th>\n",
       "      <td>M</td>\n",
       "      <td>M</td>\n",
       "      <td>M</td>\n",
       "      <td>F</td>\n",
       "      <td>M</td>\n",
       "    </tr>\n",
       "    <tr>\n",
       "      <th>AGE</th>\n",
       "      <td>48</td>\n",
       "      <td>51</td>\n",
       "      <td>30</td>\n",
       "      <td>42</td>\n",
       "      <td>21</td>\n",
       "    </tr>\n",
       "    <tr>\n",
       "      <th>INMATE_STATUS_CODE</th>\n",
       "      <td>DE</td>\n",
       "      <td>DE</td>\n",
       "      <td>DE</td>\n",
       "      <td>DE</td>\n",
       "      <td>DE</td>\n",
       "    </tr>\n",
       "    <tr>\n",
       "      <th>SEALED</th>\n",
       "      <td>N</td>\n",
       "      <td>N</td>\n",
       "      <td>N</td>\n",
       "      <td>N</td>\n",
       "      <td>N</td>\n",
       "    </tr>\n",
       "    <tr>\n",
       "      <th>GANG_AFFILIATION</th>\n",
       "      <td>N</td>\n",
       "      <td>N</td>\n",
       "      <td>N</td>\n",
       "      <td>N</td>\n",
       "      <td>Y</td>\n",
       "    </tr>\n",
       "    <tr>\n",
       "      <th>TOP_CHARGE</th>\n",
       "      <td>130.35</td>\n",
       "      <td>160.15</td>\n",
       "      <td>120.05</td>\n",
       "      <td>140.20</td>\n",
       "      <td>125.27</td>\n",
       "    </tr>\n",
       "    <tr>\n",
       "      <th>INFRACTION</th>\n",
       "      <td>N</td>\n",
       "      <td>N</td>\n",
       "      <td>N</td>\n",
       "      <td>N</td>\n",
       "      <td>Y</td>\n",
       "    </tr>\n",
       "  </tbody>\n",
       "</table>\n",
       "</div>"
      ],
      "text/plain": [
       "                                   8223                 8224  \\\n",
       "INMATE_ID                      20101081                80499   \n",
       "ADMITTED_DT         2018-08-27T12:43:45  2018-08-26T01:16:28   \n",
       "DISCHARGED_DT                       NaN                  NaN   \n",
       "CUSTODY_LEVEL                       MED                  MIN   \n",
       "MENTAL_OBSERVATION                    N                    N   \n",
       "RACE                                  O                    B   \n",
       "GENDER                                M                    M   \n",
       "AGE                                  48                   51   \n",
       "INMATE_STATUS_CODE                   DE                   DE   \n",
       "SEALED                                N                    N   \n",
       "GANG_AFFILIATION                      N                    N   \n",
       "TOP_CHARGE                       130.35               160.15   \n",
       "INFRACTION                            N                    N   \n",
       "\n",
       "                                   8225                 8226  \\\n",
       "INMATE_ID                        168995             20197793   \n",
       "ADMITTED_DT         2018-08-27T13:46:28  2018-08-24T20:59:00   \n",
       "DISCHARGED_DT                       NaN                  NaN   \n",
       "CUSTODY_LEVEL                       MED                  MIN   \n",
       "MENTAL_OBSERVATION                    N                    N   \n",
       "RACE                                  O                    W   \n",
       "GENDER                                M                    F   \n",
       "AGE                                  30                   42   \n",
       "INMATE_STATUS_CODE                   DE                   DE   \n",
       "SEALED                                N                    N   \n",
       "GANG_AFFILIATION                      N                    N   \n",
       "TOP_CHARGE                       120.05               140.20   \n",
       "INFRACTION                            N                    N   \n",
       "\n",
       "                                   8227  \n",
       "INMATE_ID                      20185441  \n",
       "ADMITTED_DT         2018-06-27T19:18:55  \n",
       "DISCHARGED_DT                       NaN  \n",
       "CUSTODY_LEVEL                       MAX  \n",
       "MENTAL_OBSERVATION                    Y  \n",
       "RACE                                  O  \n",
       "GENDER                                M  \n",
       "AGE                                  21  \n",
       "INMATE_STATUS_CODE                   DE  \n",
       "SEALED                                N  \n",
       "GANG_AFFILIATION                      Y  \n",
       "TOP_CHARGE                       125.27  \n",
       "INFRACTION                            Y  "
      ]
     },
     "execution_count": 4,
     "metadata": {},
     "output_type": "execute_result"
    }
   ],
   "source": [
    "df.tail().T"
   ]
  },
  {
   "cell_type": "markdown",
   "metadata": {},
   "source": [
    "It looks like a lot of the inmates have not been released yet. Also, the older the data is, the less complete it is. Race, gender, age, and top charge are values that are missing from the oldest records. We can also see from the head of the dataframe that the dataframe is not in chronological order."
   ]
  },
  {
   "cell_type": "code",
   "execution_count": 5,
   "metadata": {},
   "outputs": [
    {
     "name": "stdout",
     "output_type": "stream",
     "text": [
      "<class 'pandas.core.frame.DataFrame'>\n",
      "RangeIndex: 8228 entries, 0 to 8227\n",
      "Data columns (total 13 columns):\n",
      "INMATE_ID             8228 non-null int64\n",
      "ADMITTED_DT           8228 non-null object\n",
      "DISCHARGED_DT         0 non-null float64\n",
      "CUSTODY_LEVEL         8107 non-null object\n",
      "MENTAL_OBSERVATION    8228 non-null object\n",
      "RACE                  8206 non-null object\n",
      "GENDER                8206 non-null object\n",
      "AGE                   8218 non-null float64\n",
      "INMATE_STATUS_CODE    8228 non-null object\n",
      "SEALED                8228 non-null object\n",
      "GANG_AFFILIATION      8228 non-null object\n",
      "TOP_CHARGE            7294 non-null object\n",
      "INFRACTION            8228 non-null object\n",
      "dtypes: float64(2), int64(1), object(10)\n",
      "memory usage: 835.7+ KB\n"
     ]
    }
   ],
   "source": [
    "df.info()"
   ]
  },
  {
   "cell_type": "markdown",
   "metadata": {},
   "source": [
    "We will check to see if all of the files of the inmates are sealed since that is what the head and tail of the dataframe seem to indicate."
   ]
  },
  {
   "cell_type": "code",
   "execution_count": 6,
   "metadata": {},
   "outputs": [
    {
     "data": {
      "text/plain": [
       "1.0"
      ]
     },
     "execution_count": 6,
     "metadata": {},
     "output_type": "execute_result"
    }
   ],
   "source": [
    "sealed = df['SEALED'].dropna()\n",
    "sealed = sealed.map({'Y' :0, 'N' :1})\n",
    "sum(sealed)/len(sealed)"
   ]
  },
  {
   "cell_type": "markdown",
   "metadata": {},
   "source": [
    "This shows that 100% of the values for the SEALED column are 'N' for no. Since they are all consistent, we will remove the column from the dataframe. It will have no bearing on our results unless and until the results can be compared with results where the inmates' records are sealed.\n",
    "\n",
    "We will also remove the column DISCHARGED_DT from the dataframe as all of those values are NaN."
   ]
  },
  {
   "cell_type": "code",
   "execution_count": 7,
   "metadata": {},
   "outputs": [],
   "source": [
    "df = df.drop(['DISCHARGED_DT', 'SEALED'],axis=1)"
   ]
  },
  {
   "cell_type": "code",
   "execution_count": 8,
   "metadata": {},
   "outputs": [
    {
     "data": {
      "text/html": [
       "<div>\n",
       "<style scoped>\n",
       "    .dataframe tbody tr th:only-of-type {\n",
       "        vertical-align: middle;\n",
       "    }\n",
       "\n",
       "    .dataframe tbody tr th {\n",
       "        vertical-align: top;\n",
       "    }\n",
       "\n",
       "    .dataframe thead th {\n",
       "        text-align: right;\n",
       "    }\n",
       "</style>\n",
       "<table border=\"1\" class=\"dataframe\">\n",
       "  <thead>\n",
       "    <tr style=\"text-align: right;\">\n",
       "      <th></th>\n",
       "      <th>INMATE_ID</th>\n",
       "      <th>ADMITTED_DT</th>\n",
       "      <th>CUSTODY_LEVEL</th>\n",
       "      <th>MENTAL_OBSERVATION</th>\n",
       "      <th>RACE</th>\n",
       "      <th>GENDER</th>\n",
       "      <th>AGE</th>\n",
       "      <th>INMATE_STATUS_CODE</th>\n",
       "      <th>GANG_AFFILIATION</th>\n",
       "      <th>TOP_CHARGE</th>\n",
       "      <th>INFRACTION</th>\n",
       "    </tr>\n",
       "  </thead>\n",
       "  <tbody>\n",
       "    <tr>\n",
       "      <th>0</th>\n",
       "      <td>20159382</td>\n",
       "      <td>2015-11-14T18:22:02</td>\n",
       "      <td>NaN</td>\n",
       "      <td>N</td>\n",
       "      <td>NaN</td>\n",
       "      <td>NaN</td>\n",
       "      <td>NaN</td>\n",
       "      <td>DE</td>\n",
       "      <td>N</td>\n",
       "      <td>NaN</td>\n",
       "      <td>N</td>\n",
       "    </tr>\n",
       "    <tr>\n",
       "      <th>1</th>\n",
       "      <td>20120917</td>\n",
       "      <td>2013-10-11T18:34:33</td>\n",
       "      <td>NaN</td>\n",
       "      <td>N</td>\n",
       "      <td>NaN</td>\n",
       "      <td>NaN</td>\n",
       "      <td>NaN</td>\n",
       "      <td>DE</td>\n",
       "      <td>N</td>\n",
       "      <td>NaN</td>\n",
       "      <td>N</td>\n",
       "    </tr>\n",
       "    <tr>\n",
       "      <th>2</th>\n",
       "      <td>20174220</td>\n",
       "      <td>2016-10-25T16:33:35</td>\n",
       "      <td>NaN</td>\n",
       "      <td>N</td>\n",
       "      <td>NaN</td>\n",
       "      <td>NaN</td>\n",
       "      <td>NaN</td>\n",
       "      <td>DE</td>\n",
       "      <td>N</td>\n",
       "      <td>NaN</td>\n",
       "      <td>N</td>\n",
       "    </tr>\n",
       "    <tr>\n",
       "      <th>3</th>\n",
       "      <td>20174619</td>\n",
       "      <td>2016-11-03T18:11:30</td>\n",
       "      <td>NaN</td>\n",
       "      <td>N</td>\n",
       "      <td>NaN</td>\n",
       "      <td>NaN</td>\n",
       "      <td>NaN</td>\n",
       "      <td>DE</td>\n",
       "      <td>N</td>\n",
       "      <td>NaN</td>\n",
       "      <td>N</td>\n",
       "    </tr>\n",
       "    <tr>\n",
       "      <th>4</th>\n",
       "      <td>20175929</td>\n",
       "      <td>2016-12-09T02:20:21</td>\n",
       "      <td>NaN</td>\n",
       "      <td>N</td>\n",
       "      <td>NaN</td>\n",
       "      <td>NaN</td>\n",
       "      <td>NaN</td>\n",
       "      <td>DE</td>\n",
       "      <td>N</td>\n",
       "      <td>NaN</td>\n",
       "      <td>N</td>\n",
       "    </tr>\n",
       "  </tbody>\n",
       "</table>\n",
       "</div>"
      ],
      "text/plain": [
       "   INMATE_ID          ADMITTED_DT CUSTODY_LEVEL MENTAL_OBSERVATION RACE  \\\n",
       "0   20159382  2015-11-14T18:22:02           NaN                  N  NaN   \n",
       "1   20120917  2013-10-11T18:34:33           NaN                  N  NaN   \n",
       "2   20174220  2016-10-25T16:33:35           NaN                  N  NaN   \n",
       "3   20174619  2016-11-03T18:11:30           NaN                  N  NaN   \n",
       "4   20175929  2016-12-09T02:20:21           NaN                  N  NaN   \n",
       "\n",
       "  GENDER  AGE INMATE_STATUS_CODE GANG_AFFILIATION TOP_CHARGE INFRACTION  \n",
       "0    NaN  NaN                 DE                N        NaN          N  \n",
       "1    NaN  NaN                 DE                N        NaN          N  \n",
       "2    NaN  NaN                 DE                N        NaN          N  \n",
       "3    NaN  NaN                 DE                N        NaN          N  \n",
       "4    NaN  NaN                 DE                N        NaN          N  "
      ]
     },
     "execution_count": 8,
     "metadata": {},
     "output_type": "execute_result"
    }
   ],
   "source": [
    "df.head()"
   ]
  },
  {
   "cell_type": "markdown",
   "metadata": {},
   "source": [
    "According to cell 5, there are more than 100 missing values from TOP_CHARGE and CUSTODY_LEVEL. However there are only 22 missing from RACE and GENDER and less missing from AGE. Since that is less than 0.2% of overall data, we will drop the rows where there are any NaN values in RACE and GENDER. We will delete the rows that have missing values from CUSTODY_LEVEL as well (less than 1.5% of total data). We will save guessing the values of top charges for more accurate machine learning than imputation. There are 121 custody level values missing. There are 934 top charge values missing."
   ]
  },
  {
   "cell_type": "code",
   "execution_count": 9,
   "metadata": {},
   "outputs": [],
   "source": [
    "df = df.dropna(axis=0, how='any', subset=['CUSTODY_LEVEL']) "
   ]
  },
  {
   "cell_type": "code",
   "execution_count": 10,
   "metadata": {},
   "outputs": [
    {
     "data": {
      "text/html": [
       "<div>\n",
       "<style scoped>\n",
       "    .dataframe tbody tr th:only-of-type {\n",
       "        vertical-align: middle;\n",
       "    }\n",
       "\n",
       "    .dataframe tbody tr th {\n",
       "        vertical-align: top;\n",
       "    }\n",
       "\n",
       "    .dataframe thead th {\n",
       "        text-align: right;\n",
       "    }\n",
       "</style>\n",
       "<table border=\"1\" class=\"dataframe\">\n",
       "  <thead>\n",
       "    <tr style=\"text-align: right;\">\n",
       "      <th></th>\n",
       "      <th>6</th>\n",
       "      <th>7</th>\n",
       "      <th>8</th>\n",
       "      <th>9</th>\n",
       "      <th>10</th>\n",
       "    </tr>\n",
       "  </thead>\n",
       "  <tbody>\n",
       "    <tr>\n",
       "      <th>INMATE_ID</th>\n",
       "      <td>56220</td>\n",
       "      <td>99982</td>\n",
       "      <td>110074</td>\n",
       "      <td>20146640</td>\n",
       "      <td>20183607</td>\n",
       "    </tr>\n",
       "    <tr>\n",
       "      <th>ADMITTED_DT</th>\n",
       "      <td>2017-04-04T13:05:26</td>\n",
       "      <td>2017-08-21T12:37:51</td>\n",
       "      <td>2017-06-02T20:47:27</td>\n",
       "      <td>2017-08-01T11:45:11</td>\n",
       "      <td>2017-06-18T12:05:26</td>\n",
       "    </tr>\n",
       "    <tr>\n",
       "      <th>CUSTODY_LEVEL</th>\n",
       "      <td>MIN</td>\n",
       "      <td>MED</td>\n",
       "      <td>MAX</td>\n",
       "      <td>MAX</td>\n",
       "      <td>MIN</td>\n",
       "    </tr>\n",
       "    <tr>\n",
       "      <th>MENTAL_OBSERVATION</th>\n",
       "      <td>Y</td>\n",
       "      <td>Y</td>\n",
       "      <td>N</td>\n",
       "      <td>Y</td>\n",
       "      <td>Y</td>\n",
       "    </tr>\n",
       "    <tr>\n",
       "      <th>RACE</th>\n",
       "      <td>B</td>\n",
       "      <td>O</td>\n",
       "      <td>O</td>\n",
       "      <td>B</td>\n",
       "      <td>B</td>\n",
       "    </tr>\n",
       "    <tr>\n",
       "      <th>GENDER</th>\n",
       "      <td>M</td>\n",
       "      <td>M</td>\n",
       "      <td>M</td>\n",
       "      <td>M</td>\n",
       "      <td>M</td>\n",
       "    </tr>\n",
       "    <tr>\n",
       "      <th>AGE</th>\n",
       "      <td>42</td>\n",
       "      <td>59</td>\n",
       "      <td>38</td>\n",
       "      <td>20</td>\n",
       "      <td>63</td>\n",
       "    </tr>\n",
       "    <tr>\n",
       "      <th>INMATE_STATUS_CODE</th>\n",
       "      <td>DE</td>\n",
       "      <td>DE</td>\n",
       "      <td>DE</td>\n",
       "      <td>DE</td>\n",
       "      <td>DE</td>\n",
       "    </tr>\n",
       "    <tr>\n",
       "      <th>GANG_AFFILIATION</th>\n",
       "      <td>N</td>\n",
       "      <td>N</td>\n",
       "      <td>N</td>\n",
       "      <td>Y</td>\n",
       "      <td>N</td>\n",
       "    </tr>\n",
       "    <tr>\n",
       "      <th>TOP_CHARGE</th>\n",
       "      <td>120.05</td>\n",
       "      <td>130.50</td>\n",
       "      <td>110-125.25</td>\n",
       "      <td>160.10</td>\n",
       "      <td>120.10</td>\n",
       "    </tr>\n",
       "    <tr>\n",
       "      <th>INFRACTION</th>\n",
       "      <td>N</td>\n",
       "      <td>N</td>\n",
       "      <td>N</td>\n",
       "      <td>Y</td>\n",
       "      <td>N</td>\n",
       "    </tr>\n",
       "  </tbody>\n",
       "</table>\n",
       "</div>"
      ],
      "text/plain": [
       "                                     6                    7   \\\n",
       "INMATE_ID                         56220                99982   \n",
       "ADMITTED_DT         2017-04-04T13:05:26  2017-08-21T12:37:51   \n",
       "CUSTODY_LEVEL                       MIN                  MED   \n",
       "MENTAL_OBSERVATION                    Y                    Y   \n",
       "RACE                                  B                    O   \n",
       "GENDER                                M                    M   \n",
       "AGE                                  42                   59   \n",
       "INMATE_STATUS_CODE                   DE                   DE   \n",
       "GANG_AFFILIATION                      N                    N   \n",
       "TOP_CHARGE                       120.05               130.50   \n",
       "INFRACTION                            N                    N   \n",
       "\n",
       "                                     8                    9   \\\n",
       "INMATE_ID                        110074             20146640   \n",
       "ADMITTED_DT         2017-06-02T20:47:27  2017-08-01T11:45:11   \n",
       "CUSTODY_LEVEL                       MAX                  MAX   \n",
       "MENTAL_OBSERVATION                    N                    Y   \n",
       "RACE                                  O                    B   \n",
       "GENDER                                M                    M   \n",
       "AGE                                  38                   20   \n",
       "INMATE_STATUS_CODE                   DE                   DE   \n",
       "GANG_AFFILIATION                      N                    Y   \n",
       "TOP_CHARGE                   110-125.25               160.10   \n",
       "INFRACTION                            N                    Y   \n",
       "\n",
       "                                     10  \n",
       "INMATE_ID                      20183607  \n",
       "ADMITTED_DT         2017-06-18T12:05:26  \n",
       "CUSTODY_LEVEL                       MIN  \n",
       "MENTAL_OBSERVATION                    Y  \n",
       "RACE                                  B  \n",
       "GENDER                                M  \n",
       "AGE                                  63  \n",
       "INMATE_STATUS_CODE                   DE  \n",
       "GANG_AFFILIATION                      N  \n",
       "TOP_CHARGE                       120.10  \n",
       "INFRACTION                            N  "
      ]
     },
     "execution_count": 10,
     "metadata": {},
     "output_type": "execute_result"
    }
   ],
   "source": [
    "df.head().T"
   ]
  },
  {
   "cell_type": "code",
   "execution_count": 11,
   "metadata": {},
   "outputs": [
    {
     "name": "stdout",
     "output_type": "stream",
     "text": [
      "<class 'pandas.core.frame.DataFrame'>\n",
      "Int64Index: 8107 entries, 6 to 8227\n",
      "Data columns (total 11 columns):\n",
      "INMATE_ID             8107 non-null int64\n",
      "ADMITTED_DT           8107 non-null object\n",
      "CUSTODY_LEVEL         8107 non-null object\n",
      "MENTAL_OBSERVATION    8107 non-null object\n",
      "RACE                  8095 non-null object\n",
      "GENDER                8095 non-null object\n",
      "AGE                   8107 non-null float64\n",
      "INMATE_STATUS_CODE    8107 non-null object\n",
      "GANG_AFFILIATION      8107 non-null object\n",
      "TOP_CHARGE            7232 non-null object\n",
      "INFRACTION            8107 non-null object\n",
      "dtypes: float64(1), int64(1), object(9)\n",
      "memory usage: 760.0+ KB\n"
     ]
    }
   ],
   "source": [
    "df.info()"
   ]
  },
  {
   "cell_type": "markdown",
   "metadata": {},
   "source": [
    "We can see that dropping the rows with any NaN values in the CUSTODY_LEVEL column also dropped some rows with NaN values in the RACE, GENDER, and AGE columns. We will drop the remaining 12 in RACE and GENDER."
   ]
  },
  {
   "cell_type": "code",
   "execution_count": 12,
   "metadata": {},
   "outputs": [
    {
     "name": "stdout",
     "output_type": "stream",
     "text": [
      "<class 'pandas.core.frame.DataFrame'>\n",
      "Int64Index: 8095 entries, 6 to 8227\n",
      "Data columns (total 11 columns):\n",
      "INMATE_ID             8095 non-null int64\n",
      "ADMITTED_DT           8095 non-null object\n",
      "CUSTODY_LEVEL         8095 non-null object\n",
      "MENTAL_OBSERVATION    8095 non-null object\n",
      "RACE                  8095 non-null object\n",
      "GENDER                8095 non-null object\n",
      "AGE                   8095 non-null float64\n",
      "INMATE_STATUS_CODE    8095 non-null object\n",
      "GANG_AFFILIATION      8095 non-null object\n",
      "TOP_CHARGE            7222 non-null object\n",
      "INFRACTION            8095 non-null object\n",
      "dtypes: float64(1), int64(1), object(9)\n",
      "memory usage: 758.9+ KB\n"
     ]
    }
   ],
   "source": [
    "df = df.dropna(axis=0, how='any', subset=['RACE', 'GENDER']) \n",
    "df.info()"
   ]
  },
  {
   "cell_type": "markdown",
   "metadata": {},
   "source": [
    "Now all columns have the same number of values except for TOP_CHARGE which we will leave be until we reach the machine learning portion of this project. The total percentage of dropped values is 1.6%. Leaving us with 98.4% of our original dataframe. Now we will break the ADMITTED_DT into column for year, month, and day."
   ]
  },
  {
   "cell_type": "code",
   "execution_count": 13,
   "metadata": {},
   "outputs": [],
   "source": [
    "df['YEAR'] = df['ADMITTED_DT'].apply(lambda x: datetime.strptime(x, '%Y-%m-%dT%H:%M:%S').year)\n",
    "df['MONTH'] = df['ADMITTED_DT'].apply(lambda x: datetime.strptime(x, '%Y-%m-%dT%H:%M:%S').month)\n",
    "df['DAY'] = df['ADMITTED_DT'].apply(lambda x: datetime.strptime(x, '%Y-%m-%dT%H:%M:%S').day)\n",
    "df['HOUR'] = df['ADMITTED_DT'].apply(lambda x: datetime.strptime(x, '%Y-%m-%dT%H:%M:%S').hour)"
   ]
  },
  {
   "cell_type": "code",
   "execution_count": 14,
   "metadata": {},
   "outputs": [
    {
     "data": {
      "text/html": [
       "<div>\n",
       "<style scoped>\n",
       "    .dataframe tbody tr th:only-of-type {\n",
       "        vertical-align: middle;\n",
       "    }\n",
       "\n",
       "    .dataframe tbody tr th {\n",
       "        vertical-align: top;\n",
       "    }\n",
       "\n",
       "    .dataframe thead th {\n",
       "        text-align: right;\n",
       "    }\n",
       "</style>\n",
       "<table border=\"1\" class=\"dataframe\">\n",
       "  <thead>\n",
       "    <tr style=\"text-align: right;\">\n",
       "      <th></th>\n",
       "      <th>6</th>\n",
       "      <th>7</th>\n",
       "      <th>8</th>\n",
       "      <th>9</th>\n",
       "      <th>10</th>\n",
       "    </tr>\n",
       "  </thead>\n",
       "  <tbody>\n",
       "    <tr>\n",
       "      <th>INMATE_ID</th>\n",
       "      <td>56220</td>\n",
       "      <td>99982</td>\n",
       "      <td>110074</td>\n",
       "      <td>20146640</td>\n",
       "      <td>20183607</td>\n",
       "    </tr>\n",
       "    <tr>\n",
       "      <th>ADMITTED_DT</th>\n",
       "      <td>2017-04-04T13:05:26</td>\n",
       "      <td>2017-08-21T12:37:51</td>\n",
       "      <td>2017-06-02T20:47:27</td>\n",
       "      <td>2017-08-01T11:45:11</td>\n",
       "      <td>2017-06-18T12:05:26</td>\n",
       "    </tr>\n",
       "    <tr>\n",
       "      <th>CUSTODY_LEVEL</th>\n",
       "      <td>MIN</td>\n",
       "      <td>MED</td>\n",
       "      <td>MAX</td>\n",
       "      <td>MAX</td>\n",
       "      <td>MIN</td>\n",
       "    </tr>\n",
       "    <tr>\n",
       "      <th>MENTAL_OBSERVATION</th>\n",
       "      <td>Y</td>\n",
       "      <td>Y</td>\n",
       "      <td>N</td>\n",
       "      <td>Y</td>\n",
       "      <td>Y</td>\n",
       "    </tr>\n",
       "    <tr>\n",
       "      <th>RACE</th>\n",
       "      <td>B</td>\n",
       "      <td>O</td>\n",
       "      <td>O</td>\n",
       "      <td>B</td>\n",
       "      <td>B</td>\n",
       "    </tr>\n",
       "    <tr>\n",
       "      <th>GENDER</th>\n",
       "      <td>M</td>\n",
       "      <td>M</td>\n",
       "      <td>M</td>\n",
       "      <td>M</td>\n",
       "      <td>M</td>\n",
       "    </tr>\n",
       "    <tr>\n",
       "      <th>AGE</th>\n",
       "      <td>42</td>\n",
       "      <td>59</td>\n",
       "      <td>38</td>\n",
       "      <td>20</td>\n",
       "      <td>63</td>\n",
       "    </tr>\n",
       "    <tr>\n",
       "      <th>INMATE_STATUS_CODE</th>\n",
       "      <td>DE</td>\n",
       "      <td>DE</td>\n",
       "      <td>DE</td>\n",
       "      <td>DE</td>\n",
       "      <td>DE</td>\n",
       "    </tr>\n",
       "    <tr>\n",
       "      <th>GANG_AFFILIATION</th>\n",
       "      <td>N</td>\n",
       "      <td>N</td>\n",
       "      <td>N</td>\n",
       "      <td>Y</td>\n",
       "      <td>N</td>\n",
       "    </tr>\n",
       "    <tr>\n",
       "      <th>TOP_CHARGE</th>\n",
       "      <td>120.05</td>\n",
       "      <td>130.50</td>\n",
       "      <td>110-125.25</td>\n",
       "      <td>160.10</td>\n",
       "      <td>120.10</td>\n",
       "    </tr>\n",
       "    <tr>\n",
       "      <th>INFRACTION</th>\n",
       "      <td>N</td>\n",
       "      <td>N</td>\n",
       "      <td>N</td>\n",
       "      <td>Y</td>\n",
       "      <td>N</td>\n",
       "    </tr>\n",
       "    <tr>\n",
       "      <th>YEAR</th>\n",
       "      <td>2017</td>\n",
       "      <td>2017</td>\n",
       "      <td>2017</td>\n",
       "      <td>2017</td>\n",
       "      <td>2017</td>\n",
       "    </tr>\n",
       "    <tr>\n",
       "      <th>MONTH</th>\n",
       "      <td>4</td>\n",
       "      <td>8</td>\n",
       "      <td>6</td>\n",
       "      <td>8</td>\n",
       "      <td>6</td>\n",
       "    </tr>\n",
       "    <tr>\n",
       "      <th>DAY</th>\n",
       "      <td>4</td>\n",
       "      <td>21</td>\n",
       "      <td>2</td>\n",
       "      <td>1</td>\n",
       "      <td>18</td>\n",
       "    </tr>\n",
       "    <tr>\n",
       "      <th>HOUR</th>\n",
       "      <td>13</td>\n",
       "      <td>12</td>\n",
       "      <td>20</td>\n",
       "      <td>11</td>\n",
       "      <td>12</td>\n",
       "    </tr>\n",
       "  </tbody>\n",
       "</table>\n",
       "</div>"
      ],
      "text/plain": [
       "                                     6                    7   \\\n",
       "INMATE_ID                         56220                99982   \n",
       "ADMITTED_DT         2017-04-04T13:05:26  2017-08-21T12:37:51   \n",
       "CUSTODY_LEVEL                       MIN                  MED   \n",
       "MENTAL_OBSERVATION                    Y                    Y   \n",
       "RACE                                  B                    O   \n",
       "GENDER                                M                    M   \n",
       "AGE                                  42                   59   \n",
       "INMATE_STATUS_CODE                   DE                   DE   \n",
       "GANG_AFFILIATION                      N                    N   \n",
       "TOP_CHARGE                       120.05               130.50   \n",
       "INFRACTION                            N                    N   \n",
       "YEAR                               2017                 2017   \n",
       "MONTH                                 4                    8   \n",
       "DAY                                   4                   21   \n",
       "HOUR                                 13                   12   \n",
       "\n",
       "                                     8                    9   \\\n",
       "INMATE_ID                        110074             20146640   \n",
       "ADMITTED_DT         2017-06-02T20:47:27  2017-08-01T11:45:11   \n",
       "CUSTODY_LEVEL                       MAX                  MAX   \n",
       "MENTAL_OBSERVATION                    N                    Y   \n",
       "RACE                                  O                    B   \n",
       "GENDER                                M                    M   \n",
       "AGE                                  38                   20   \n",
       "INMATE_STATUS_CODE                   DE                   DE   \n",
       "GANG_AFFILIATION                      N                    Y   \n",
       "TOP_CHARGE                   110-125.25               160.10   \n",
       "INFRACTION                            N                    Y   \n",
       "YEAR                               2017                 2017   \n",
       "MONTH                                 6                    8   \n",
       "DAY                                   2                    1   \n",
       "HOUR                                 20                   11   \n",
       "\n",
       "                                     10  \n",
       "INMATE_ID                      20183607  \n",
       "ADMITTED_DT         2017-06-18T12:05:26  \n",
       "CUSTODY_LEVEL                       MIN  \n",
       "MENTAL_OBSERVATION                    Y  \n",
       "RACE                                  B  \n",
       "GENDER                                M  \n",
       "AGE                                  63  \n",
       "INMATE_STATUS_CODE                   DE  \n",
       "GANG_AFFILIATION                      N  \n",
       "TOP_CHARGE                       120.10  \n",
       "INFRACTION                            N  \n",
       "YEAR                               2017  \n",
       "MONTH                                 6  \n",
       "DAY                                  18  \n",
       "HOUR                                 12  "
      ]
     },
     "execution_count": 14,
     "metadata": {},
     "output_type": "execute_result"
    }
   ],
   "source": [
    "df.head().T"
   ]
  },
  {
   "cell_type": "code",
   "execution_count": 15,
   "metadata": {},
   "outputs": [],
   "source": [
    "df = df.drop(['ADMITTED_DT'],axis=1)"
   ]
  },
  {
   "cell_type": "markdown",
   "metadata": {},
   "source": [
    "## Exploratory Data Analysis (EDA) <a name=\"myanswers\"></a>\n",
    "\n",
    "Let's see some graphs to explore the data."
   ]
  },
  {
   "cell_type": "code",
   "execution_count": 49,
   "metadata": {},
   "outputs": [
    {
     "data": {
      "text/plain": [
       "<matplotlib.axes._subplots.AxesSubplot at 0x14699200e80>"
      ]
     },
     "execution_count": 49,
     "metadata": {},
     "output_type": "execute_result"
    },
    {
     "data": {
      "image/png": "[encoded data removed]",
      "text/plain": [
       "<matplotlib.figure.Figure at 0x14698e8d5c0>"
      ]
     },
     "metadata": {},
     "output_type": "display_data"
    }
   ],
   "source": [
    "sns.countplot(x = \"GENDER\", data = df, palette=\"Set2\")"
   ]
  },
  {
   "cell_type": "code",
   "execution_count": 17,
   "metadata": {},
   "outputs": [
    {
     "data": {
      "text/plain": [
       "(      INMATE_ID CUSTODY_LEVEL MENTAL_OBSERVATION RACE GENDER   AGE  \\\n",
       " 21     20164663           MED                  Y    B      F  26.0   \n",
       " 50     20178702           MED                  Y    B      F  24.0   \n",
       " 131    20168420           MED                  Y    B      F  57.0   \n",
       " 156    20187452           MIN                  Y    B      F  45.0   \n",
       " 174    20181480           MED                  N    O      F  44.0   \n",
       " 203       96010           MAX                  Y    O      F  30.0   \n",
       " 221    20158122           MED                  Y    B      F  23.0   \n",
       " 224    20189924           MIN                  N    W      F  56.0   \n",
       " 282    20188210           MIN                  Y    W      F  48.0   \n",
       " 284    20182758           MIN                  Y    B      F  27.0   \n",
       " 363      142345           MAX                  Y    W      F  34.0   \n",
       " 366    20051772           MIN                  N    O      F  40.0   \n",
       " 390    20183323           MIN                  Y    W      F  37.0   \n",
       " 424    20180929           MIN                  Y    B      F  39.0   \n",
       " 448    20156027           MED                  Y    B      F  49.0   \n",
       " 462    20174812           MAX                  Y    B      F  32.0   \n",
       " 478    20188330           MED                  Y    O      F  20.0   \n",
       " 486    20171623           MED                  Y    O      F  57.0   \n",
       " 492        9607           MIN                  Y    B      F  44.0   \n",
       " 514    20176741           MIN                  Y    B      F  27.0   \n",
       " 555    20179633           MED                  Y    O      F  32.0   \n",
       " 568       77081           MED                  Y    B      F  55.0   \n",
       " 584       45580           MED                  Y    B      F  38.0   \n",
       " 635    20118099           MIN                  Y    B      F  55.0   \n",
       " 642    20192281           MED                  Y    B      F  22.0   \n",
       " 689    20191577           MED                  Y    B      F  34.0   \n",
       " 707    20043899           MAX                  Y    B      F  25.0   \n",
       " 718    10009478           MED                  Y    O      F  35.0   \n",
       " 725    20158082           MED                  Y    B      F  30.0   \n",
       " 745    20189057           MED                  N    A      F  23.0   \n",
       " ...         ...           ...                ...  ...    ...   ...   \n",
       " 8016   20197811           MIN                  Y    W      F  36.0   \n",
       " 8020   20197773           MED                  Y    O      F  51.0   \n",
       " 8027   10005349           MIN                  Y    W      F  45.0   \n",
       " 8033   20171740           MAX                  N    B      F  21.0   \n",
       " 8037   20197857           MIN                  N    B      F  25.0   \n",
       " 8058   20159918           MAX                  Y    B      F  41.0   \n",
       " 8059   20134179           MIN                  N    O      F  21.0   \n",
       " 8071   20185954           MIN                  Y    B      F  44.0   \n",
       " 8078   20172903           MIN                  Y    W      F  40.0   \n",
       " 8081   20183537           MED                  N    B      F  32.0   \n",
       " 8086   20176911           MED                  N    O      F  18.0   \n",
       " 8091   20011859           MAX                  Y    B      F  29.0   \n",
       " 8100   20197810           MIN                  Y    W      F  39.0   \n",
       " 8101   20197776           MIN                  Y    W      F  31.0   \n",
       " 8112      80529           MED                  N    B      F  29.0   \n",
       " 8118   20197815           MIN                  Y    W      F  30.0   \n",
       " 8127   20075258           MIN                  N    O      F  27.0   \n",
       " 8128   20193194           MED                  Y    B      F  23.0   \n",
       " 8132   20175035           MIN                  Y    W      F  45.0   \n",
       " 8152   20012040           MIN                  N    W      F  53.0   \n",
       " 8167       2837           MIN                  Y    B      F  51.0   \n",
       " 8170      36653           MED                  Y    B      F  49.0   \n",
       " 8182   20027886           MAX                  N    O      F  26.0   \n",
       " 8184   20063922           MED                  N    O      F  25.0   \n",
       " 8189   20197850           MIN                  N    W      F  26.0   \n",
       " 8200   20175679           MAX                  Y    O      F  19.0   \n",
       " 8207     106442           MIN                  Y    B      F  48.0   \n",
       " 8209      98512           MAX                  N    B      F  28.0   \n",
       " 8216   20196134           MIN                  N    B      F  55.0   \n",
       " 8226   20197793           MIN                  N    W      F  42.0   \n",
       " \n",
       "      INMATE_STATUS_CODE GANG_AFFILIATION  TOP_CHARGE INFRACTION  YEAR  MONTH  \\\n",
       " 21                   DE                N      125.25          N  2016      3   \n",
       " 50                   DE                N      120.10          N  2017      2   \n",
       " 131                  DE                N      125.25          N  2016      6   \n",
       " 156                  DE                N      125.15          N  2017      9   \n",
       " 174                  DE                N         NaN          N  2017      4   \n",
       " 203                  DE                N  110-125.25          Y  2017      6   \n",
       " 221                  DE                N      125.25          Y  2015     10   \n",
       " 224                  DE                N      460.20          N  2017     12   \n",
       " 282                  DE                N  110-125.25          N  2017     10   \n",
       " 284                  DE                N      150.15          N  2017      5   \n",
       " 363                  DE                N      140.20          N  2018      1   \n",
       " 366                  CS                N      220.31          N  2018      1   \n",
       " 390                  CS                N         NaN          N  2018      1   \n",
       " 424                  DE                N  110-120.10          N  2017     12   \n",
       " 448                  DE                N      125.25          Y  2015      9   \n",
       " 462                  DE                N      125.25          N  2017      9   \n",
       " 478                  DE                N  110-230.30          Y  2017     10   \n",
       " 486                  DE                N      125.25          N  2016      8   \n",
       " 492                  DE                N      155.42          N  2018      2   \n",
       " 514                  CS                N      265.01          N  2018      2   \n",
       " 555                  DE                N      125.20          N  2017      3   \n",
       " 568                  DE                N      120.05          Y  2017     11   \n",
       " 584                  DE                N      130.65          N  2018      2   \n",
       " 635                  DE                N      155.40          N  2017     10   \n",
       " 642                  DE                N      140.30          N  2018      2   \n",
       " 689                  DE                N      125.25          Y  2018      1   \n",
       " 707                  DE                N      125.25          Y  2016      8   \n",
       " 718                  DE                N      135.25          N  2018      1   \n",
       " 725                  DE                N      125.25          Y  2015     10   \n",
       " 745                  DE                N      125.25          N  2017     11   \n",
       " ...                 ...              ...         ...        ...   ...    ...   \n",
       " 8016                 DE                N      215.51          N  2018      8   \n",
       " 8020                 DE                N        OJCW          N  2018      8   \n",
       " 8027                 DE                N      155.25          N  2018      8   \n",
       " 8033                 DE                N      160.10          Y  2018      6   \n",
       " 8037                 DE                N      155.25          N  2018      8   \n",
       " 8058                 CS                N      155.25          N  2018      8   \n",
       " 8059                 CS                N         NaN          Y  2018      1   \n",
       " 8071                 DE                N      120.05          N  2018      8   \n",
       " 8078                 DE                N      155.35          N  2018      6   \n",
       " 8081                 DE                N      120.00          N  2018      8   \n",
       " 8086                 DE                Y         NaN          N  2018      8   \n",
       " 8091                 DE                Y      160.10          N  2018      8   \n",
       " 8100                 DE                N      220.39          N  2018      8   \n",
       " 8101                 DE                N     VTL 511          N  2018      8   \n",
       " 8112                 DE                N      120.00          N  2018      8   \n",
       " 8118                 DE                N      165.45          N  2018      8   \n",
       " 8127                 DE                N      155.25          N  2018      8   \n",
       " 8128                 DE                N  110-140.30          Y  2018      3   \n",
       " 8132                 DE                N      120.05          N  2018      8   \n",
       " 8152                 DE                N  110-125.25          N  2018      8   \n",
       " 8167                 DE                N      220.39          N  2018      6   \n",
       " 8170                 DE                N         NaN          Y  2018      1   \n",
       " 8182                 DE                N      220.39          N  2018      8   \n",
       " 8184                 DE                N      120.00          N  2018      8   \n",
       " 8189                 DE                N      215.50          N  2018      8   \n",
       " 8200                 DE                N      125.25          Y  2016     12   \n",
       " 8207                 DE                N      155.30          Y  2018      4   \n",
       " 8209                 DE                N      230.00          N  2018      8   \n",
       " 8216                 DE                N  FOA 900.00          N  2018      8   \n",
       " 8226                 DE                N      140.20          N  2018      8   \n",
       " \n",
       "       DAY  HOUR  \n",
       " 21     16    11  \n",
       " 50     19    21  \n",
       " 131     9    16  \n",
       " 156    29    15  \n",
       " 174    28    20  \n",
       " 203     1     0  \n",
       " 221    17     0  \n",
       " 224     5    18  \n",
       " 282    20     1  \n",
       " 284    29     1  \n",
       " 363     9    11  \n",
       " 366     9    16  \n",
       " 390    11    12  \n",
       " 424    27    10  \n",
       " 448     1    14  \n",
       " 462    11    20  \n",
       " 478    23     0  \n",
       " 486    21    17  \n",
       " 492     1    14  \n",
       " 514     5    15  \n",
       " 555    15    21  \n",
       " 568     1     1  \n",
       " 584    18    18  \n",
       " 635    19    13  \n",
       " 642    16    19  \n",
       " 689    26    11  \n",
       " 707     9    11  \n",
       " 718    30    14  \n",
       " 725    16    12  \n",
       " 745    11     0  \n",
       " ...   ...   ...  \n",
       " 8016   25    13  \n",
       " 8020   24     1  \n",
       " 8027   26    23  \n",
       " 8033    6    11  \n",
       " 8037   27    18  \n",
       " 8058   17    13  \n",
       " 8059    8    15  \n",
       " 8071   24    16  \n",
       " 8078   26    12  \n",
       " 8081   26     1  \n",
       " 8086   24    14  \n",
       " 8091   16    21  \n",
       " 8100   25    13  \n",
       " 8101   24    12  \n",
       " 8112   11    16  \n",
       " 8118   25    15  \n",
       " 8127   26     1  \n",
       " 8128   21    19  \n",
       " 8132    1    11  \n",
       " 8152   26    20  \n",
       " 8167   28    12  \n",
       " 8170    3    12  \n",
       " 8182   24     1  \n",
       " 8184   26    12  \n",
       " 8189   27    17  \n",
       " 8200    2    14  \n",
       " 8207   13     0  \n",
       " 8209   24     1  \n",
       " 8216   15     0  \n",
       " 8226   24    20  \n",
       " \n",
       " [524 rows x 14 columns],\n",
       "       INMATE_ID CUSTODY_LEVEL MENTAL_OBSERVATION RACE GENDER   AGE  \\\n",
       " 6         56220           MIN                  Y    B      M  42.0   \n",
       " 7         99982           MED                  Y    O      M  59.0   \n",
       " 8        110074           MAX                  N    O      M  38.0   \n",
       " 9      20146640           MAX                  Y    B      M  20.0   \n",
       " 10     20183607           MIN                  Y    B      M  63.0   \n",
       " 11     20176350           MIN                  N    B      M  43.0   \n",
       " 12     20185084           MIN                  N    O      M  54.0   \n",
       " 13     20012686           MAX                  N    B      M  27.0   \n",
       " 14        33612           MIN                  N    O      M  59.0   \n",
       " 15        14086           MAX                  Y    B      M  29.0   \n",
       " 16     20158451           MAX                  Y    O      M  20.0   \n",
       " 17     20129249           MIN                  N    O      M  28.0   \n",
       " 18     20183749           MED                  N    B      M  53.0   \n",
       " 19     20171615           MED                  Y    O      M  34.0   \n",
       " 20     20173039           MED                  Y    W      M  61.0   \n",
       " 22     20180187           MED                  Y    O      M  23.0   \n",
       " 23     20183380           MED                  N    O      M  52.0   \n",
       " 24     20016096           MAX                  Y    B      M  26.0   \n",
       " 25     20022115           MIN                  N    W      M  58.0   \n",
       " 26     20167903           MED                  N    B      M  45.0   \n",
       " 27       148019           MAX                  N    B      M  26.0   \n",
       " 29     20179169           MED                  N    B      M  45.0   \n",
       " 30     20103129           MIN                  Y    B      M  54.0   \n",
       " 31     20004328           MED                  N    B      M  54.0   \n",
       " 32     20069545           MAX                  N    B      M  33.0   \n",
       " 34        36794           MED                  Y    B      M  30.0   \n",
       " 35     20164170           MED                  Y    O      M  52.0   \n",
       " 36       102366           MAX                  Y    B      M  31.0   \n",
       " 37     20120656           MAX                  N    O      M  22.0   \n",
       " 38     20151078           MAX                  Y    O      M  34.0   \n",
       " ...         ...           ...                ...  ...    ...   ...   \n",
       " 8187   20028114           MAX                  N    O      M  39.0   \n",
       " 8188   20050718           MIN                  Y    O      M  28.0   \n",
       " 8190   10015213           MED                  N    B      M  29.0   \n",
       " 8191     138498           MIN                  N    O      M  61.0   \n",
       " 8192   20170482           MAX                  Y    B      M  24.0   \n",
       " 8193   20197078           MIN                  Y    B      M  27.0   \n",
       " 8194     128884           MAX                  Y    O      M  35.0   \n",
       " 8196      25898           MED                  N    B      M  38.0   \n",
       " 8197     106903           MED                  N    B      M  33.0   \n",
       " 8198   20196526           MIN                  N    B      M  33.0   \n",
       " 8199   20140653           MED                  Y    B      M  23.0   \n",
       " 8201      32416           MIN                  N    B      M  54.0   \n",
       " 8202   20187524           MIN                  N    O      M  53.0   \n",
       " 8204   20185468           MIN                  Y    B      M  25.0   \n",
       " 8205   20147365           MIN                  Y    W      M  59.0   \n",
       " 8208   20093377           MED                  N    W      M  34.0   \n",
       " 8211   20195969           MED                  N    O      M  26.0   \n",
       " 8212     163702           MED                  N    B      M  59.0   \n",
       " 8213     142994           MIN                  N    B      M  54.0   \n",
       " 8214   20098126           MED                  Y    B      M  28.0   \n",
       " 8215      37117           MED                  N    B      M  30.0   \n",
       " 8217   20133838           MED                  N    A      M  20.0   \n",
       " 8218   20055073           MAX                  N    B      M  23.0   \n",
       " 8219      18773           MAX                  Y    B      M  34.0   \n",
       " 8220      85763           MIN                  N    W      M  39.0   \n",
       " 8221      27139           MED                  Y    B      M  62.0   \n",
       " 8223   20101081           MED                  N    O      M  48.0   \n",
       " 8224      80499           MIN                  N    B      M  51.0   \n",
       " 8225     168995           MED                  N    O      M  30.0   \n",
       " 8227   20185441           MAX                  Y    O      M  21.0   \n",
       " \n",
       "      INMATE_STATUS_CODE GANG_AFFILIATION  TOP_CHARGE INFRACTION  YEAR  MONTH  \\\n",
       " 6                    DE                N      120.05          N  2017      4   \n",
       " 7                    DE                N      130.50          N  2017      8   \n",
       " 8                    DE                N  110-125.25          N  2017      6   \n",
       " 9                    DE                Y      160.10          Y  2017      8   \n",
       " 10                   DE                N      120.10          N  2017      6   \n",
       " 11                   DE                N  110-125.25          N  2016     12   \n",
       " 12                   DE                N      220.21          N  2017      7   \n",
       " 13                   DE                Y      160.15          Y  2017      4   \n",
       " 14                   DE                N      220.16          Y  2016     10   \n",
       " 15                   DE                N      125.25          N  2012      6   \n",
       " 16                   DE                N      125.25          Y  2015     10   \n",
       " 17                   CS                N         NaN          N  2016      4   \n",
       " 18                   DE                N      125.25          N  2017      6   \n",
       " 19                   DE                N      125.25          N  2016      8   \n",
       " 20                   DE                N      130.50          N  2016      9   \n",
       " 22                   DE                N      125.25          Y  2017      3   \n",
       " 23                   DE                N      130.75          N  2017      6   \n",
       " 24                   DE                Y      125.25          Y  2016     11   \n",
       " 25                   DE                N      140.25          N  2017      7   \n",
       " 26                   DE                N      125.25          N  2016      5   \n",
       " 27                   DE                N      160.10          Y  2016      7   \n",
       " 29                  DEP                N      105.10          N  2017      3   \n",
       " 30                   DE                N      220.39          Y  2017      1   \n",
       " 31                  DEP                N      125.25          Y  2017      6   \n",
       " 32                   DE                Y  110-125.25          Y  2016     12   \n",
       " 34                   DE                Y      125.25          Y  2015      9   \n",
       " 35                   DE                N      125.25          N  2016      3   \n",
       " 36                   DE                Y      125.25          Y  2015      3   \n",
       " 37                   DE                N  110-125.25          Y  2016      8   \n",
       " 38                   DE                N      130.75          Y  2015      5   \n",
       " ...                 ...              ...         ...        ...   ...    ...   \n",
       " 8187                 DE                N      120.00          N  2018      8   \n",
       " 8188                 DE                N      220.03          N  2018      8   \n",
       " 8190                 DE                N      160.10          N  2018      8   \n",
       " 8191                 DE                N   511(1)(A)          N  2018      8   \n",
       " 8192                 DE                N      150.15          Y  2018      2   \n",
       " 8193                 DE                N      130.52          N  2018      7   \n",
       " 8194                DNS                Y         NaN          Y  2016      6   \n",
       " 8196                 DE                Y      220.39          N  2018      8   \n",
       " 8197                 DE                N      165.09          N  2018      8   \n",
       " 8198                 DE                N      265.03          N  2018      8   \n",
       " 8199                 DE                Y      265.03          N  2018      6   \n",
       " 8201                 DE                N      120.00          N  2018      8   \n",
       " 8202                 CS                N  VTL 511(3)          N  2018      8   \n",
       " 8204                 DE                N      160.15          N  2017      8   \n",
       " 8205                 DE                N      215.51          N  2018      8   \n",
       " 8208                 DE                N  110-120.10          N  2018      8   \n",
       " 8211                 DE                N   511(1)(A)          N  2018      6   \n",
       " 8212                DPV                N   AC 000.00          N  2018      8   \n",
       " 8213                 DE                N          CO          N  2018      7   \n",
       " 8214                 DE                N      215.15          N  2018      8   \n",
       " 8215                 DE                Y  110-125.25          Y  2018      3   \n",
       " 8217                DEP                N      120.00          N  2018      8   \n",
       " 8218                 DE                N      265.03          N  2018      8   \n",
       " 8219                DPV                Y         NaN          N  2018      6   \n",
       " 8220                 CS                N      120.00          N  2018      8   \n",
       " 8221                DNS                N   AC 000.00          N  2018      5   \n",
       " 8223                 DE                N      130.35          N  2018      8   \n",
       " 8224                 DE                N      160.15          N  2018      8   \n",
       " 8225                 DE                N      120.05          N  2018      8   \n",
       " 8227                 DE                Y      125.27          Y  2018      6   \n",
       " \n",
       "       DAY  HOUR  \n",
       " 6       4    13  \n",
       " 7      21    12  \n",
       " 8       2    20  \n",
       " 9       1    11  \n",
       " 10     18    12  \n",
       " 11     21    11  \n",
       " 12     27     1  \n",
       " 13     14    15  \n",
       " 14      1    20  \n",
       " 15      1    20  \n",
       " 16     24    13  \n",
       " 17      2    19  \n",
       " 18     22     1  \n",
       " 19     21     2  \n",
       " 20     24    20  \n",
       " 22     29     1  \n",
       " 23     13     2  \n",
       " 24      5    17  \n",
       " 25     14    15  \n",
       " 26     28    12  \n",
       " 27     29     1  \n",
       " 29      3    23  \n",
       " 30      7     1  \n",
       " 31      3    18  \n",
       " 32      4    12  \n",
       " 34     18     5  \n",
       " 35      5    13  \n",
       " 36     25    21  \n",
       " 37     16    21  \n",
       " 38     15    23  \n",
       " ...   ...   ...  \n",
       " 8187   27    12  \n",
       " 8188   23    11  \n",
       " 8190   27    17  \n",
       " 8191   27     1  \n",
       " 8192   24     0  \n",
       " 8193   30    12  \n",
       " 8194    9     1  \n",
       " 8196   27    13  \n",
       " 8197   26    22  \n",
       " 8198   27    16  \n",
       " 8199   16    19  \n",
       " 8201   25    23  \n",
       " 8202   27    11  \n",
       " 8204    5     1  \n",
       " 8205   23     1  \n",
       " 8208   15    12  \n",
       " 8211   19    13  \n",
       " 8212   22    13  \n",
       " 8213   25    14  \n",
       " 8214   24    11  \n",
       " 8215   13    14  \n",
       " 8217   27     1  \n",
       " 8218   26    15  \n",
       " 8219   13    17  \n",
       " 8220   14     0  \n",
       " 8221    8     0  \n",
       " 8223   27    12  \n",
       " 8224   26     1  \n",
       " 8225   27    13  \n",
       " 8227   27    19  \n",
       " \n",
       " [7571 rows x 14 columns])"
      ]
     },
     "execution_count": 17,
     "metadata": {},
     "output_type": "execute_result"
    }
   ],
   "source": [
    "female = df[df.GENDER == 'F']\n",
    "male = df[df.GENDER == 'M'] \n",
    "female, male"
   ]
  },
  {
   "cell_type": "code",
   "execution_count": 18,
   "metadata": {},
   "outputs": [
    {
     "data": {
      "text/plain": [
       "INMATE_ID             14.448473\n",
       "CUSTODY_LEVEL         14.448473\n",
       "MENTAL_OBSERVATION    14.448473\n",
       "RACE                  14.448473\n",
       "GENDER                14.448473\n",
       "AGE                   14.448473\n",
       "INMATE_STATUS_CODE    14.448473\n",
       "GANG_AFFILIATION      14.448473\n",
       "TOP_CHARGE            15.156600\n",
       "INFRACTION            14.448473\n",
       "YEAR                  14.448473\n",
       "MONTH                 14.448473\n",
       "DAY                   14.448473\n",
       "HOUR                  14.448473\n",
       "dtype: float64"
      ]
     },
     "execution_count": 18,
     "metadata": {},
     "output_type": "execute_result"
    }
   ],
   "source": [
    "ratio = male.count()/female.count()\n",
    "ratio"
   ]
  },
  {
   "cell_type": "markdown",
   "metadata": {},
   "source": [
    "There are 14.45 times as many incarcertaed men as there are women. The outlier in the ratio for top charge is explained by more men's charges being recorded and more women's charges not being recorded in the provided dataset. We will see if the absence of recording occurred in the same month in the same year for both genders later. First let us compare the incarceration of males and females in a more proportioned graph."
   ]
  },
  {
   "cell_type": "code",
   "execution_count": 72,
   "metadata": {},
   "outputs": [
    {
     "data": {
      "text/plain": [
       "Text(0.5,1,'Number of Male Prisoners Under Mental Observation')"
      ]
     },
     "execution_count": 72,
     "metadata": {},
     "output_type": "execute_result"
    },
    {
     "data": {
      "image/png": "[encoded data removed]",
      "text/plain": [
       "<matplotlib.figure.Figure at 0x1469b6f0240>"
      ]
     },
     "metadata": {},
     "output_type": "display_data"
    }
   ],
   "source": [
    "sns.countplot(x = 'MENTAL_OBSERVATION', hue = 'GENDER', data = male, palette=\"Set2\")\n",
    "plt.title('Number of Male Prisoners Under Mental Observation')"
   ]
  },
  {
   "cell_type": "code",
   "execution_count": 74,
   "metadata": {},
   "outputs": [
    {
     "data": {
      "text/plain": [
       "Text(0.5,1,'Number of Female Prisoners Under Mental Observation')"
      ]
     },
     "execution_count": 74,
     "metadata": {},
     "output_type": "execute_result"
    },
    {
     "data": {
      "image/png": "[encoded data removed]",
      "text/plain": [
       "<matplotlib.figure.Figure at 0x1469b9df438>"
      ]
     },
     "metadata": {},
     "output_type": "display_data"
    }
   ],
   "source": [
    "sns.countplot(x = 'MENTAL_OBSERVATION', hue = 'GENDER', data = female, palette=\"Set2\")\n",
    "plt.title('Number of Female Prisoners Under Mental Observation')"
   ]
  },
  {
   "cell_type": "code",
   "execution_count": 76,
   "metadata": {},
   "outputs": [
    {
     "data": {
      "text/plain": [
       "Text(0.5,1,'Number of Male Prisoners with Gang Affiliations')"
      ]
     },
     "execution_count": 76,
     "metadata": {},
     "output_type": "execute_result"
    },
    {
     "data": {
      "image/png": "[encoded data removed]",
      "text/plain": [
       "<matplotlib.figure.Figure at 0x1469b7be128>"
      ]
     },
     "metadata": {},
     "output_type": "display_data"
    }
   ],
   "source": [
    "sns.countplot(x = 'GANG_AFFILIATION', hue = 'GENDER', data = male, palette=\"Set2\")\n",
    "plt.title('Number of Male Prisoners with Gang Affiliations')"
   ]
  },
  {
   "cell_type": "code",
   "execution_count": 77,
   "metadata": {},
   "outputs": [
    {
     "data": {
      "text/plain": [
       "Text(0.5,1,'Number of Female Prisoners with Gang Affiliations')"
      ]
     },
     "execution_count": 77,
     "metadata": {},
     "output_type": "execute_result"
    },
    {
     "data": {
      "image/png": "[encoded data removed]",
      "text/plain": [
       "<matplotlib.figure.Figure at 0x1469ce18400>"
      ]
     },
     "metadata": {},
     "output_type": "display_data"
    }
   ],
   "source": [
    "sns.countplot(x = 'GANG_AFFILIATION', hue = 'GENDER', data = female, palette=\"Set2\")\n",
    "plt.title('Number of Female Prisoners with Gang Affiliations')"
   ]
  },
  {
   "cell_type": "markdown",
   "metadata": {},
   "source": [
    "Thankfully there does not seem to be a great amount of relative gang affiliation among the inmates. We expected to see higher numbers but we are happily wrong. We are hoping that means that gang life is not proliferant in the City of New York instead of taking the low numbers to mean that a good number of gang members have not caught or incarcerated yet. It could be that the gang members are committing no crime to be arrested for or that they are very good at not getting caught. We will leave that to the appropriate departments and experts to decide."
   ]
  },
  {
   "cell_type": "code",
   "execution_count": 50,
   "metadata": {},
   "outputs": [
    {
     "data": {
      "text/plain": [
       "Text(0.5,1,'Level of Security of Prisoners by Gender')"
      ]
     },
     "execution_count": 50,
     "metadata": {},
     "output_type": "execute_result"
    },
    {
     "data": {
      "image/png": "[encoded data removed]",
      "text/plain": [
       "<matplotlib.figure.Figure at 0x14699356c18>"
      ]
     },
     "metadata": {},
     "output_type": "display_data"
    }
   ],
   "source": [
    "sns.countplot(x = 'CUSTODY_LEVEL', hue = 'GENDER', data = male, palette=\"Set2\")\n",
    "plt.title('Level of Security of Male PrisonerS')"
   ]
  },
  {
   "cell_type": "code",
   "execution_count": 62,
   "metadata": {},
   "outputs": [
    {
     "data": {
      "text/plain": [
       "Text(0.5,1,'Level of Security of Prisoners by Gender')"
      ]
     },
     "execution_count": 62,
     "metadata": {},
     "output_type": "execute_result"
    },
    {
     "data": {
      "image/png": "[encoded data removed]",
      "text/plain": [
       "<matplotlib.figure.Figure at 0x1469b2fbfd0>"
      ]
     },
     "metadata": {},
     "output_type": "display_data"
    }
   ],
   "source": [
    "sns.countplot(x = 'CUSTODY_LEVEL', hue = 'GENDER', data = female, palette=\"Set2\", order = df['CUSTODY_LEVEL'].value_counts().index)\n",
    "plt.title('Level of Security of Prisoners by Gender')"
   ]
  },
  {
   "cell_type": "markdown",
   "metadata": {},
   "source": [
    "We can see that the highest proportion of men and women are at medium security custody level and that the least proportion is in maximum security. That holds true for both genders. Now we will see if the absence of recording top charges in the records occurred in the same month in the same year for both genders."
   ]
  },
  {
   "cell_type": "code",
   "execution_count": 21,
   "metadata": {},
   "outputs": [
    {
     "name": "stdout",
     "output_type": "stream",
     "text": [
      "<class 'pandas.core.frame.DataFrame'>\n",
      "Int64Index: 873 entries, 17 to 8219\n",
      "Data columns (total 14 columns):\n",
      "INMATE_ID             873 non-null int64\n",
      "CUSTODY_LEVEL         873 non-null object\n",
      "MENTAL_OBSERVATION    873 non-null object\n",
      "RACE                  873 non-null object\n",
      "GENDER                873 non-null object\n",
      "AGE                   873 non-null float64\n",
      "INMATE_STATUS_CODE    873 non-null object\n",
      "GANG_AFFILIATION      873 non-null object\n",
      "TOP_CHARGE            0 non-null object\n",
      "INFRACTION            873 non-null object\n",
      "YEAR                  873 non-null int64\n",
      "MONTH                 873 non-null int64\n",
      "DAY                   873 non-null int64\n",
      "HOUR                  873 non-null int64\n",
      "dtypes: float64(1), int64(5), object(8)\n",
      "memory usage: 102.3+ KB\n"
     ]
    },
    {
     "data": {
      "text/plain": [
       "(      INMATE_ID CUSTODY_LEVEL MENTAL_OBSERVATION RACE GENDER   AGE  \\\n",
       " 17     20129249           MIN                  N    O      M  28.0   \n",
       " 57     20128576           MIN                  N    B      M  62.0   \n",
       " 58       171020           MIN                  N    O      M  46.0   \n",
       " 63       131514           MIN                  N    W      M  46.0   \n",
       " 158      116457           MAX                  N    B      M  36.0   \n",
       " 174    20181480           MED                  N    O      F  44.0   \n",
       " 196    20178828           MIN                  N    B      M  19.0   \n",
       " 274    20026314           MIN                  N    B      M  27.0   \n",
       " 332    20154667           MIN                  N    B      M  30.0   \n",
       " 343      100687           MIN                  N    B      M  36.0   \n",
       " 368       89889           MIN                  N    B      M  45.0   \n",
       " 390    20183323           MIN                  Y    W      F  37.0   \n",
       " 433      117067           MIN                  N    B      M  54.0   \n",
       " 480       60123           MED                  N    O      M  46.0   \n",
       " 520       49557           MIN                  Y    O      M  54.0   \n",
       " 629       83391           MIN                  N    O      M  51.0   \n",
       " 848       70416           MIN                  N    B      M  31.0   \n",
       " 904    20023860           MED                  N    B      M  53.0   \n",
       " 913    20119845           MED                  Y    B      M  26.0   \n",
       " 981    20050520           MED                  Y    B      M  50.0   \n",
       " 998       87959           MED                  Y    W      M  32.0   \n",
       " 1062   20130134           MED                  N    B      M  50.0   \n",
       " 1086      96920           MIN                  N    B      M  31.0   \n",
       " 1092      27124           MIN                  N    B      M  49.0   \n",
       " 1111   20175556           MIN                  N    W      M  42.0   \n",
       " 1125      41192           MIN                  N    O      M  29.0   \n",
       " 1171   20078411           MAX                  N    B      M  23.0   \n",
       " 1203   20194105           MED                  N    W      M  57.0   \n",
       " 1214   20178800           MED                  Y    B      F  18.0   \n",
       " 1219   20117268           MED                  N    O      M  56.0   \n",
       " ...         ...           ...                ...  ...    ...   ...   \n",
       " 8029   20115210           MAX                  Y    W      M  26.0   \n",
       " 8031   20085221           MAX                  Y    O      M  23.0   \n",
       " 8046   20121063           MED                  Y    B      M  32.0   \n",
       " 8053   20000233           MIN                  N    O      M  39.0   \n",
       " 8059   20134179           MIN                  N    O      F  21.0   \n",
       " 8061      14055           MAX                  Y    W      M  41.0   \n",
       " 8067   20197849           MIN                  N    B      M  53.0   \n",
       " 8074   20112534           MIN                  Y    O      M  62.0   \n",
       " 8085      59881           MIN                  N    O      M  36.0   \n",
       " 8086   20176911           MED                  N    O      F  18.0   \n",
       " 8092   20189090           MED                  N    O      M  55.0   \n",
       " 8096     104108           MAX                  N    B      M  32.0   \n",
       " 8097     156509           MED                  N    B      M  36.0   \n",
       " 8121   20157836           MAX                  N    B      M  20.0   \n",
       " 8131     170820           MED                  N    O      M  34.0   \n",
       " 8136   20050789           MED                  Y    W      M  32.0   \n",
       " 8140      49708           MIN                  N    W      M  55.0   \n",
       " 8141      75238           MED                  N    B      M  31.0   \n",
       " 8143     165369           MIN                  N    B      M  33.0   \n",
       " 8145   10015039           MED                  Y    O      M  30.0   \n",
       " 8147       4379           MED                  N    B      M  35.0   \n",
       " 8148      39052           MED                  Y    B      M  29.0   \n",
       " 8151   20067014           MED                  N    B      M  29.0   \n",
       " 8170      36653           MED                  Y    B      F  49.0   \n",
       " 8171   20173948           MAX                  Y    B      M  35.0   \n",
       " 8172      30348           MIN                  Y    B      M  49.0   \n",
       " 8175   20096736           MIN                  N    B      M  44.0   \n",
       " 8179   10009076           MIN                  Y    W      M  48.0   \n",
       " 8194     128884           MAX                  Y    O      M  35.0   \n",
       " 8219      18773           MAX                  Y    B      M  34.0   \n",
       " \n",
       "      INMATE_STATUS_CODE GANG_AFFILIATION TOP_CHARGE INFRACTION  YEAR  MONTH  \\\n",
       " 17                   CS                N        NaN          N  2016      4   \n",
       " 57                   CS                N        NaN          N  2016      4   \n",
       " 58                   DE                N        NaN          N  2017      8   \n",
       " 63                   DE                N        NaN          N  2015     10   \n",
       " 158                  DE                Y        NaN          N  2017     10   \n",
       " 174                  DE                N        NaN          N  2017      4   \n",
       " 196                  DE                N        NaN          Y  2017     10   \n",
       " 274                  DE                N        NaN          N  2017      1   \n",
       " 332                  DE                N        NaN          N  2017      1   \n",
       " 343                  CS                N        NaN          N  2018      1   \n",
       " 368                  CS                N        NaN          N  2017      3   \n",
       " 390                  CS                N        NaN          N  2018      1   \n",
       " 433                  CS                N        NaN          N  2018      1   \n",
       " 480                 DPV                N        NaN          N  2017      5   \n",
       " 520                 DPV                N        NaN          N  2017      9   \n",
       " 629                  DE                N        NaN          N  2017     11   \n",
       " 848                  CS                N        NaN          N  2018      1   \n",
       " 904                  CS                N        NaN          N  2018      3   \n",
       " 913                  DE                Y        NaN          N  2016     12   \n",
       " 981                 DPV                N        NaN          N  2018      4   \n",
       " 998                 DNS                N        NaN          N  2017     11   \n",
       " 1062                 DE                N        NaN          N  2016     12   \n",
       " 1086                 CS                N        NaN          N  2018      1   \n",
       " 1092                 DE                N        NaN          N  2018      4   \n",
       " 1111                 DE                N        NaN          N  2016     11   \n",
       " 1125                 CS                N        NaN          N  2018      4   \n",
       " 1171                DPV                Y        NaN          Y  2018      3   \n",
       " 1203                 DE                N        NaN          N  2018      4   \n",
       " 1214                 CS                N        NaN          N  2018      2   \n",
       " 1219                DPV                N        NaN          N  2018      1   \n",
       " ...                 ...              ...        ...        ...   ...    ...   \n",
       " 8029                DPV                Y        NaN          N  2018      7   \n",
       " 8031                DNS                N        NaN          N  2017      7   \n",
       " 8046                 DE                N        NaN          N  2018      8   \n",
       " 8053                DNS                N        NaN          N  2018      8   \n",
       " 8059                 CS                N        NaN          Y  2018      1   \n",
       " 8061                SSR                N        NaN          Y  2018      3   \n",
       " 8067                DPV                N        NaN          N  2018      8   \n",
       " 8074                DPV                N        NaN          N  2017     11   \n",
       " 8085                SSR                N        NaN          Y  2018      2   \n",
       " 8086                 DE                Y        NaN          N  2018      8   \n",
       " 8092                SSR                N        NaN          N  2018      6   \n",
       " 8096                DPV                Y        NaN          N  2018      8   \n",
       " 8097                DPV                N        NaN          N  2018      8   \n",
       " 8121                 DE                N        NaN          N  2018      8   \n",
       " 8131                DPV                N        NaN          N  2018      8   \n",
       " 8136                DEP                N        NaN          N  2017     12   \n",
       " 8140                 DE                N        NaN          N  2018      7   \n",
       " 8141                DPV                N        NaN          N  2018      7   \n",
       " 8143                DPV                N        NaN          N  2018      8   \n",
       " 8145                DPV                N        NaN          Y  2017     10   \n",
       " 8147                DPV                N        NaN          N  2018      4   \n",
       " 8148                DEP                N        NaN          N  2018      4   \n",
       " 8151                DPV                N        NaN          N  2018      8   \n",
       " 8170                 DE                N        NaN          Y  2018      1   \n",
       " 8171                 DE                N        NaN          N  2018      8   \n",
       " 8172                SSR                N        NaN          N  2017     12   \n",
       " 8175                DNS                N        NaN          N  2018      8   \n",
       " 8179                DPV                N        NaN          N  2018      8   \n",
       " 8194                DNS                Y        NaN          Y  2016      6   \n",
       " 8219                DPV                Y        NaN          N  2018      6   \n",
       " \n",
       "       DAY  HOUR  \n",
       " 17      2    19  \n",
       " 57      2    13  \n",
       " 58      7     1  \n",
       " 63     29    10  \n",
       " 158    31    13  \n",
       " 174    28    20  \n",
       " 196    30    16  \n",
       " 274     7    22  \n",
       " 332    31    16  \n",
       " 343     9    11  \n",
       " 368    24    10  \n",
       " 390    11    12  \n",
       " 433    19     1  \n",
       " 480    19    13  \n",
       " 520    22    11  \n",
       " 629     4     1  \n",
       " 848    22    16  \n",
       " 904    21    15  \n",
       " 913    28    16  \n",
       " 981     2    11  \n",
       " 998     8    17  \n",
       " 1062   16    13  \n",
       " 1086   31    23  \n",
       " 1092    1    20  \n",
       " 1111   29    20  \n",
       " 1125   16    17  \n",
       " 1171    1    13  \n",
       " 1203   20    10  \n",
       " 1214    2    12  \n",
       " 1219   31    19  \n",
       " ...   ...   ...  \n",
       " 8029   17    15  \n",
       " 8031   31    17  \n",
       " 8046   14    10  \n",
       " 8053   27    15  \n",
       " 8059    8    15  \n",
       " 8061   29     0  \n",
       " 8067   27    17  \n",
       " 8074    6    11  \n",
       " 8085   25    11  \n",
       " 8086   24    14  \n",
       " 8092   29    11  \n",
       " 8096   27    14  \n",
       " 8097   26    12  \n",
       " 8121   21    13  \n",
       " 8131   23    18  \n",
       " 8136    1     1  \n",
       " 8140   30    17  \n",
       " 8141    7    11  \n",
       " 8143   27    18  \n",
       " 8145   17     1  \n",
       " 8147   12     0  \n",
       " 8148   23    13  \n",
       " 8151   28     1  \n",
       " 8170    3    12  \n",
       " 8171    1    15  \n",
       " 8172   31    16  \n",
       " 8175   24    17  \n",
       " 8179   14    14  \n",
       " 8194    9     1  \n",
       " 8219   13    17  \n",
       " \n",
       " [873 rows x 14 columns], None)"
      ]
     },
     "execution_count": 21,
     "metadata": {},
     "output_type": "execute_result"
    }
   ],
   "source": [
    "df1 = df[df.isnull().any(axis=1)]\n",
    "df1, df1.info()"
   ]
  },
  {
   "cell_type": "code",
   "execution_count": 52,
   "metadata": {},
   "outputs": [
    {
     "data": {
      "text/plain": [
       "<seaborn.axisgrid.FacetGrid at 0x1469abf44a8>"
      ]
     },
     "execution_count": 52,
     "metadata": {},
     "output_type": "execute_result"
    },
    {
     "data": {
      "image/png": "[encoded data removed]",
      "text/plain": [
       "<matplotlib.figure.Figure at 0x1469abf41d0>"
      ]
     },
     "metadata": {},
     "output_type": "display_data"
    }
   ],
   "source": [
    "sns.factorplot(x=\"YEAR\", hue=\"GENDER\", data=df1, kind=\"count\", order=np.arange(2015,2019), palette=\"Set2\")"
   ]
  },
  {
   "cell_type": "code",
   "execution_count": 53,
   "metadata": {},
   "outputs": [
    {
     "data": {
      "text/plain": [
       "<seaborn.axisgrid.FacetGrid at 0x1469abc3f98>"
      ]
     },
     "execution_count": 53,
     "metadata": {},
     "output_type": "execute_result"
    },
    {
     "data": {
      "image/png": "[encoded data removed]",
      "text/plain": [
       "<matplotlib.figure.Figure at 0x1469ac35390>"
      ]
     },
     "metadata": {},
     "output_type": "display_data"
    }
   ],
   "source": [
    "sns.factorplot(x=\"MONTH\", hue=\"GENDER\", data=df1[df1['YEAR']==2017], kind=\"count\", order=np.arange(1,13), palette=\"Set2\")"
   ]
  },
  {
   "cell_type": "markdown",
   "metadata": {},
   "source": [
    "The second graph shows us that the absence of records is not occuring at the same time between the genders. As a side note, the disparity between the two genders as presented in the second graph is startling. Let us see if the proportions are the same at least among the years."
   ]
  },
  {
   "cell_type": "code",
   "execution_count": 24,
   "metadata": {},
   "outputs": [
    {
     "name": "stdout",
     "output_type": "stream",
     "text": [
      "<class 'pandas.core.frame.DataFrame'>\n",
      "Int64Index: 7222 entries, 6 to 8227\n",
      "Data columns (total 14 columns):\n",
      "INMATE_ID             7222 non-null int64\n",
      "CUSTODY_LEVEL         7222 non-null object\n",
      "MENTAL_OBSERVATION    7222 non-null object\n",
      "RACE                  7222 non-null object\n",
      "GENDER                7222 non-null object\n",
      "AGE                   7222 non-null float64\n",
      "INMATE_STATUS_CODE    7222 non-null object\n",
      "GANG_AFFILIATION      7222 non-null object\n",
      "TOP_CHARGE            7222 non-null object\n",
      "INFRACTION            7222 non-null object\n",
      "YEAR                  7222 non-null int64\n",
      "MONTH                 7222 non-null int64\n",
      "DAY                   7222 non-null int64\n",
      "HOUR                  7222 non-null int64\n",
      "dtypes: float64(1), int64(5), object(8)\n",
      "memory usage: 846.3+ KB\n"
     ]
    }
   ],
   "source": [
    "df2 = df.dropna(axis=0, how='any', subset=['TOP_CHARGE']) \n",
    "df2.info()"
   ]
  },
  {
   "cell_type": "code",
   "execution_count": 25,
   "metadata": {},
   "outputs": [],
   "source": [
    "female_tc = df2[df2.GENDER == 'F']\n",
    "male_tc = df2[df2.GENDER == 'M'] "
   ]
  },
  {
   "cell_type": "code",
   "execution_count": 26,
   "metadata": {},
   "outputs": [],
   "source": [
    "female_ntc = df1[df1.GENDER == 'F']\n",
    "male_ntc = df1[df1.GENDER == 'M'] "
   ]
  },
  {
   "cell_type": "code",
   "execution_count": 27,
   "metadata": {},
   "outputs": [
    {
     "name": "stderr",
     "output_type": "stream",
     "text": [
      "C:\\Users\\Owner\\Anaconda3\\lib\\site-packages\\ipykernel_launcher.py:6: RuntimeWarning: divide by zero encountered in long_scalars\n",
      "  \n"
     ]
    }
   ],
   "source": [
    "female_tc_2015 = female_tc[female_tc.YEAR == 2015]\n",
    "male_tc_2015 = male_tc[male_tc.YEAR == 2015]\n",
    "female_ntc_2015 = female_ntc[female_ntc.YEAR == 2015]\n",
    "male_ntc_2015 = male_ntc[male_ntc.YEAR == 2015]\n",
    "ratio_tc2ntc_males_15 = male_tc_2015.GENDER.count()/male_ntc_2015.GENDER.count()\n",
    "ratio_tc2ntc_females_15 = female_tc_2015.GENDER.count()/female_ntc_2015.GENDER.count()"
   ]
  },
  {
   "cell_type": "code",
   "execution_count": 28,
   "metadata": {},
   "outputs": [],
   "source": [
    "female_tc_2016 = female_tc[female_tc.YEAR == 2016]\n",
    "male_tc_2016 = male_tc[male_tc.YEAR == 2016]\n",
    "female_ntc_2016 = female_ntc[female_ntc.YEAR == 2016]\n",
    "male_ntc_2016 = male_ntc[male_ntc.YEAR == 2016]\n",
    "ratio_tc2ntc_males_16 = male_tc_2016.GENDER.count()/male_ntc_2016.GENDER.count()\n",
    "ratio_tc2ntc_females_16 = female_tc_2016.GENDER.count()/female_ntc_2016.GENDER.count()"
   ]
  },
  {
   "cell_type": "code",
   "execution_count": 29,
   "metadata": {},
   "outputs": [],
   "source": [
    "female_tc_2017 = female_tc[female_tc.YEAR == 2017]\n",
    "male_tc_2017 = male_tc[male_tc.YEAR == 2017]\n",
    "female_ntc_2017 = female_ntc[female_ntc.YEAR == 2017]\n",
    "male_ntc_2017 = male_ntc[male_ntc.YEAR == 2017]\n",
    "ratio_tc2ntc_males_17 = male_tc_2017.GENDER.count()/male_ntc_2017.GENDER.count()\n",
    "ratio_tc2ntc_females_17 = female_tc_2017.GENDER.count()/female_ntc_2017.GENDER.count()"
   ]
  },
  {
   "cell_type": "code",
   "execution_count": 30,
   "metadata": {},
   "outputs": [],
   "source": [
    "female_tc_2018 = female_tc[female_tc.YEAR == 2018]\n",
    "male_tc_2018 = male_tc[male_tc.YEAR == 2018]\n",
    "female_ntc_2018 = female_ntc[female_ntc.YEAR == 2018]\n",
    "male_ntc_2018 = male_ntc[male_ntc.YEAR == 2018]\n",
    "ratio_tc2ntc_males_18 = male_tc_2018.GENDER.count()/male_ntc_2018.GENDER.count()\n",
    "ratio_tc2ntc_females_18 = female_tc_2018.GENDER.count()/female_ntc_2018.GENDER.count()"
   ]
  },
  {
   "cell_type": "code",
   "execution_count": 31,
   "metadata": {},
   "outputs": [
    {
     "name": "stdout",
     "output_type": "stream",
     "text": [
      "2015 males:  22.666666666666668 2015 females:  inf\n"
     ]
    }
   ],
   "source": [
    "print(\"2015 males: \", ratio_tc2ntc_males_15, \"2015 females: \", ratio_tc2ntc_females_15)"
   ]
  },
  {
   "cell_type": "code",
   "execution_count": 32,
   "metadata": {},
   "outputs": [
    {
     "name": "stdout",
     "output_type": "stream",
     "text": [
      "2016 males:  25.083333333333332 2016 females:  15.0\n"
     ]
    }
   ],
   "source": [
    "print(\"2016 males: \", ratio_tc2ntc_males_16, \"2016 females: \", ratio_tc2ntc_females_16)"
   ]
  },
  {
   "cell_type": "code",
   "execution_count": 33,
   "metadata": {},
   "outputs": [
    {
     "name": "stdout",
     "output_type": "stream",
     "text": [
      "2017 males:  20.391304347826086 2017 females:  9.0\n"
     ]
    }
   ],
   "source": [
    "print(\"2017 males: \", ratio_tc2ntc_males_17, \"2017 females: \", ratio_tc2ntc_females_17)"
   ]
  },
  {
   "cell_type": "code",
   "execution_count": 34,
   "metadata": {},
   "outputs": [
    {
     "name": "stdout",
     "output_type": "stream",
     "text": [
      "2018 males:  7.0042194092827 2018 females:  5.27536231884058\n"
     ]
    }
   ],
   "source": [
    "print(\"2018 males: \", ratio_tc2ntc_males_18, \"2018 females: \", ratio_tc2ntc_females_18)"
   ]
  },
  {
   "cell_type": "markdown",
   "metadata": {},
   "source": [
    "The ratio of 2015 females is marked as infinity because the number of incarcerated females that year who did not have their top charge recorded is 0. We can say that overall the proportion of non-recorded top charges is decreasing. If the trend holds, the in perhaps a year or two, we will see the number of unrecorded top charges disappear entirely.\n",
    "\n",
    "Let us now see what the top 10 top charges are."
   ]
  },
  {
   "cell_type": "code",
   "execution_count": 35,
   "metadata": {},
   "outputs": [
    {
     "data": {
      "text/plain": [
       "125.25        518\n",
       "160.15        407\n",
       "110-125.25    345\n",
       "120.05        340\n",
       "265.03        318\n",
       "140.25        317\n",
       "220.39        283\n",
       "220.16        280\n",
       "160.10        268\n",
       "140.20        237\n",
       "Name: TOP_CHARGE, dtype: int64"
      ]
     },
     "execution_count": 35,
     "metadata": {},
     "output_type": "execute_result"
    }
   ],
   "source": [
    "df['TOP_CHARGE'].value_counts().head(10)"
   ]
  },
  {
   "cell_type": "markdown",
   "metadata": {},
   "source": [
    "Using the New York State Law website, the following labels to the above charges were found. THe wensite is here: http://ypdcrime.com/. \n",
    "\n",
    "- 125.25 is 'Murder in the second degree'.\n",
    "- 160.15 is 'Robbery in the first degree'.\n",
    "- 110-125.25, if treated as a range, is 'Attempt to commit a crime' to 'Murder in the first degree'. No singular offense was found for this charge.\n",
    "- 120.05 is 'Assault in the second degree'.\n",
    "- 265.03 is 'Criminal possession of a weapon in the second degree'.\n",
    "- 140.25 is 'Burglary in the second degree'.\n",
    "- 220.39 is 'Criminal sale of a controlled substance in the third degree'.\n",
    "- 220.16 is 'Criminal possession of a controlled substance in the third degree'.\n",
    "- 160.10 is 'Robbery in the second degree'.\n",
    "- 140.20 is 'Burglary in the third degree'.\n",
    "\n",
    "We can see that four of ten of these most frequent charges are of or relating to theft or the intention to commit theft. Six of the charges require faceto-face interaction with another person, namely a victim."
   ]
  },
  {
   "cell_type": "code",
   "execution_count": 60,
   "metadata": {},
   "outputs": [
    {
     "data": {
      "text/plain": [
       "Text(0.5,0,'Age')"
      ]
     },
     "execution_count": 60,
     "metadata": {},
     "output_type": "execute_result"
    },
    {
     "data": {
      "image/png": "[encoded data removed]",
      "text/plain": [
       "<matplotlib.figure.Figure at 0x1469ad62b38>"
      ]
     },
     "metadata": {},
     "output_type": "display_data"
    }
   ],
   "source": [
    "age_df = df[\"AGE\"].dropna()\n",
    "age_df.plot.hist()\n",
    "plt.xlabel(\"Age\")"
   ]
  },
  {
   "cell_type": "code",
   "execution_count": 37,
   "metadata": {},
   "outputs": [
    {
     "data": {
      "text/html": [
       "<div>\n",
       "<style scoped>\n",
       "    .dataframe tbody tr th:only-of-type {\n",
       "        vertical-align: middle;\n",
       "    }\n",
       "\n",
       "    .dataframe tbody tr th {\n",
       "        vertical-align: top;\n",
       "    }\n",
       "\n",
       "    .dataframe thead th {\n",
       "        text-align: right;\n",
       "    }\n",
       "</style>\n",
       "<table border=\"1\" class=\"dataframe\">\n",
       "  <thead>\n",
       "    <tr style=\"text-align: right;\">\n",
       "      <th></th>\n",
       "      <th>INMATE_ID</th>\n",
       "      <th>CUSTODY_LEVEL</th>\n",
       "      <th>MENTAL_OBSERVATION</th>\n",
       "      <th>RACE</th>\n",
       "      <th>GENDER</th>\n",
       "      <th>AGE</th>\n",
       "      <th>INMATE_STATUS_CODE</th>\n",
       "      <th>GANG_AFFILIATION</th>\n",
       "      <th>TOP_CHARGE</th>\n",
       "      <th>INFRACTION</th>\n",
       "      <th>YEAR</th>\n",
       "      <th>MONTH</th>\n",
       "      <th>DAY</th>\n",
       "      <th>HOUR</th>\n",
       "    </tr>\n",
       "  </thead>\n",
       "  <tbody>\n",
       "    <tr>\n",
       "      <th>184</th>\n",
       "      <td>20186674</td>\n",
       "      <td>MAX</td>\n",
       "      <td>N</td>\n",
       "      <td>B</td>\n",
       "      <td>M</td>\n",
       "      <td>17.0</td>\n",
       "      <td>DE</td>\n",
       "      <td>Y</td>\n",
       "      <td>160.15</td>\n",
       "      <td>Y</td>\n",
       "      <td>2017</td>\n",
       "      <td>9</td>\n",
       "      <td>8</td>\n",
       "      <td>13</td>\n",
       "    </tr>\n",
       "    <tr>\n",
       "      <th>501</th>\n",
       "      <td>20180140</td>\n",
       "      <td>MAX</td>\n",
       "      <td>Y</td>\n",
       "      <td>O</td>\n",
       "      <td>M</td>\n",
       "      <td>17.0</td>\n",
       "      <td>DE</td>\n",
       "      <td>Y</td>\n",
       "      <td>120.10</td>\n",
       "      <td>Y</td>\n",
       "      <td>2017</td>\n",
       "      <td>3</td>\n",
       "      <td>28</td>\n",
       "      <td>1</td>\n",
       "    </tr>\n",
       "    <tr>\n",
       "      <th>1190</th>\n",
       "      <td>20191841</td>\n",
       "      <td>MAX</td>\n",
       "      <td>Y</td>\n",
       "      <td>B</td>\n",
       "      <td>M</td>\n",
       "      <td>17.0</td>\n",
       "      <td>DE</td>\n",
       "      <td>N</td>\n",
       "      <td>110-125.25</td>\n",
       "      <td>Y</td>\n",
       "      <td>2018</td>\n",
       "      <td>2</td>\n",
       "      <td>3</td>\n",
       "      <td>2</td>\n",
       "    </tr>\n",
       "    <tr>\n",
       "      <th>1236</th>\n",
       "      <td>20183832</td>\n",
       "      <td>MAX</td>\n",
       "      <td>Y</td>\n",
       "      <td>O</td>\n",
       "      <td>M</td>\n",
       "      <td>17.0</td>\n",
       "      <td>DE</td>\n",
       "      <td>Y</td>\n",
       "      <td>160.10</td>\n",
       "      <td>Y</td>\n",
       "      <td>2018</td>\n",
       "      <td>3</td>\n",
       "      <td>12</td>\n",
       "      <td>11</td>\n",
       "    </tr>\n",
       "    <tr>\n",
       "      <th>1336</th>\n",
       "      <td>20187343</td>\n",
       "      <td>MAX</td>\n",
       "      <td>Y</td>\n",
       "      <td>B</td>\n",
       "      <td>M</td>\n",
       "      <td>17.0</td>\n",
       "      <td>DE</td>\n",
       "      <td>Y</td>\n",
       "      <td>160.15</td>\n",
       "      <td>Y</td>\n",
       "      <td>2018</td>\n",
       "      <td>2</td>\n",
       "      <td>28</td>\n",
       "      <td>17</td>\n",
       "    </tr>\n",
       "  </tbody>\n",
       "</table>\n",
       "</div>"
      ],
      "text/plain": [
       "      INMATE_ID CUSTODY_LEVEL MENTAL_OBSERVATION RACE GENDER   AGE  \\\n",
       "184    20186674           MAX                  N    B      M  17.0   \n",
       "501    20180140           MAX                  Y    O      M  17.0   \n",
       "1190   20191841           MAX                  Y    B      M  17.0   \n",
       "1236   20183832           MAX                  Y    O      M  17.0   \n",
       "1336   20187343           MAX                  Y    B      M  17.0   \n",
       "\n",
       "     INMATE_STATUS_CODE GANG_AFFILIATION  TOP_CHARGE INFRACTION  YEAR  MONTH  \\\n",
       "184                  DE                Y      160.15          Y  2017      9   \n",
       "501                  DE                Y      120.10          Y  2017      3   \n",
       "1190                 DE                N  110-125.25          Y  2018      2   \n",
       "1236                 DE                Y      160.10          Y  2018      3   \n",
       "1336                 DE                Y      160.15          Y  2018      2   \n",
       "\n",
       "      DAY  HOUR  \n",
       "184     8    13  \n",
       "501    28     1  \n",
       "1190    3     2  \n",
       "1236   12    11  \n",
       "1336   28    17  "
      ]
     },
     "execution_count": 37,
     "metadata": {},
     "output_type": "execute_result"
    }
   ],
   "source": [
    "df3 = df[df['AGE'] < 18]\n",
    "df3.head()"
   ]
  },
  {
   "cell_type": "code",
   "execution_count": 38,
   "metadata": {},
   "outputs": [
    {
     "name": "stdout",
     "output_type": "stream",
     "text": [
      "<class 'pandas.core.frame.DataFrame'>\n",
      "Int64Index: 87 entries, 184 to 8035\n",
      "Data columns (total 14 columns):\n",
      "INMATE_ID             87 non-null int64\n",
      "CUSTODY_LEVEL         87 non-null object\n",
      "MENTAL_OBSERVATION    87 non-null object\n",
      "RACE                  87 non-null object\n",
      "GENDER                87 non-null object\n",
      "AGE                   87 non-null float64\n",
      "INMATE_STATUS_CODE    87 non-null object\n",
      "GANG_AFFILIATION      87 non-null object\n",
      "TOP_CHARGE            85 non-null object\n",
      "INFRACTION            87 non-null object\n",
      "YEAR                  87 non-null int64\n",
      "MONTH                 87 non-null int64\n",
      "DAY                   87 non-null int64\n",
      "HOUR                  87 non-null int64\n",
      "dtypes: float64(1), int64(5), object(8)\n",
      "memory usage: 10.2+ KB\n"
     ]
    }
   ],
   "source": [
    "df3.info()"
   ]
  },
  {
   "cell_type": "code",
   "execution_count": 65,
   "metadata": {},
   "outputs": [
    {
     "data": {
      "text/plain": [
       "Text(0.5,1,'Level of Security of 16-17 YO Prisoners by Gender')"
      ]
     },
     "execution_count": 65,
     "metadata": {},
     "output_type": "execute_result"
    },
    {
     "data": {
      "image/png": "[encoded data removed]",
      "text/plain": [
       "<matplotlib.figure.Figure at 0x1469b1b3a20>"
      ]
     },
     "metadata": {},
     "output_type": "display_data"
    }
   ],
   "source": [
    "sns.countplot(x = 'CUSTODY_LEVEL', hue = 'GENDER', data = df3, palette=\"Set2\")\n",
    "plt.title('Level of Security of 16-17 YO Prisoners by Gender')"
   ]
  },
  {
   "cell_type": "code",
   "execution_count": 57,
   "metadata": {},
   "outputs": [
    {
     "data": {
      "text/plain": [
       "Text(0.5,1,'Gang Affiliation of 16-17 YO Prisoners by Gender')"
      ]
     },
     "execution_count": 57,
     "metadata": {},
     "output_type": "execute_result"
    },
    {
     "data": {
      "image/png": "[encoded data removed]",
      "text/plain": [
       "<matplotlib.figure.Figure at 0x1469aca7e10>"
      ]
     },
     "metadata": {},
     "output_type": "display_data"
    }
   ],
   "source": [
    "sns.countplot(x = 'GANG_AFFILIATION', hue = 'GENDER', data = df3, palette=\"Set2\")\n",
    "plt.title('Gang Affiliation of 16-17 YO Prisoners by Gender')"
   ]
  },
  {
   "cell_type": "markdown",
   "metadata": {},
   "source": [
    "A majority of the 16-17 year olds are placed in maximum security custody levels! However we can see, thankfully, that a majority of them do not have gang affiliations at the time of their incarceration using the yscale. However the proportions are larger than tha of the adults."
   ]
  },
  {
   "cell_type": "code",
   "execution_count": 39,
   "metadata": {},
   "outputs": [
    {
     "data": {
      "text/plain": [
       "160.15        23\n",
       "160.10        15\n",
       "110-125.25    12\n",
       "265.03         7\n",
       "125.25         6\n",
       "105.15         4\n",
       "140.25         3\n",
       "120.00         2\n",
       "110-160.15     2\n",
       "110-160.10     1\n",
       "Name: TOP_CHARGE, dtype: int64"
      ]
     },
     "execution_count": 39,
     "metadata": {},
     "output_type": "execute_result"
    }
   ],
   "source": [
    "df3['TOP_CHARGE'].value_counts().head(10)"
   ]
  },
  {
   "cell_type": "markdown",
   "metadata": {},
   "source": [
    "The most frequent charges for 16-17 year olds is as follows:\n",
    "\n",
    "- 160.15 is 'Robbery in the first degree'.\n",
    "- 160.10 is 'Robbery in the second degree'.\n",
    "- 110-125.25, if treated as a range, is 'Attempt to commit a crime' to 'Murder in the first degree'. No singular offense was found for this charge.\n",
    "- 265.03 is 'Criminal possession of a weapon in the second degree'.\n",
    "- 125.25 is 'Murder in the second degree'.\n",
    "- 105.15 is 'Conspiracy in the second degree'.\n",
    "- 140.25 is 'Burglary in the second degree'.\n",
    "- 120.00 is 'Assault in the third degree'.\n",
    "- 110-160.15, if treated as a range, is 'Attempt to commit a crime' to 'Robbery in the first degree'. No singular offense was found for this charge.\n",
    "- 110-160.10, if treated as a range, is 'Attempt to commit a crime' to 'Robbery in the second degree'. No singular offense was found for this charge. \n",
    "\n",
    "Five of these top ten most frequent charges involve theft or the intent to commit theft.\n",
    "\n",
    "Now that we've explored age and gender, let's take a look at race."
   ]
  },
  {
   "cell_type": "code",
   "execution_count": 67,
   "metadata": {},
   "outputs": [
    {
     "data": {
      "text/plain": [
       "Text(0,0.5,'Number of Inmates')"
      ]
     },
     "execution_count": 67,
     "metadata": {},
     "output_type": "execute_result"
    },
    {
     "data": {
      "image/png": "[encoded data removed]",
      "text/plain": [
       "<matplotlib.figure.Figure at 0x1469b66f2e8>"
      ]
     },
     "metadata": {},
     "output_type": "display_data"
    }
   ],
   "source": [
    "plt.figure(figsize=(20,7))\n",
    "sns.countplot(x='RACE', hue='GENDER', data=df, palette=\"Set2\")\n",
    "plt.ylabel(\"Number of Inmates\")"
   ]
  },
  {
   "cell_type": "code",
   "execution_count": 68,
   "metadata": {},
   "outputs": [
    {
     "data": {
      "text/plain": [
       "Text(0,0.5,'Number of Inmates')"
      ]
     },
     "execution_count": 68,
     "metadata": {},
     "output_type": "execute_result"
    },
    {
     "data": {
      "image/png": "[encoded data removed]",
      "text/plain": [
       "<matplotlib.figure.Figure at 0x1469b6947f0>"
      ]
     },
     "metadata": {},
     "output_type": "display_data"
    }
   ],
   "source": [
    "plt.figure(figsize=(10,7))\n",
    "sns.countplot(x='GENDER', hue='RACE', data=df, palette=\"Set2\")\n",
    "plt.ylabel(\"Number of Inmates\")"
   ]
  },
  {
   "cell_type": "markdown",
   "metadata": {},
   "source": [
    "These two graphs present the SAME INFORMATION but in two different visualizations."
   ]
  },
  {
   "cell_type": "code",
   "execution_count": 78,
   "metadata": {},
   "outputs": [
    {
     "data": {
      "text/plain": [
       "Text(0,0.5,'Number of Inmates')"
      ]
     },
     "execution_count": 78,
     "metadata": {},
     "output_type": "execute_result"
    },
    {
     "data": {
      "image/png": "[encoded data removed]",
      "text/plain": [
       "<matplotlib.figure.Figure at 0x1469ce67d30>"
      ]
     },
     "metadata": {},
     "output_type": "display_data"
    }
   ],
   "source": [
    "plt.figure(figsize=(10,7))\n",
    "sns.countplot(x='MENTAL_OBSERVATION', hue='RACE', data=df, palette=\"Set2\")\n",
    "plt.ylabel(\"Number of Inmates\")"
   ]
  },
  {
   "cell_type": "code",
   "execution_count": 79,
   "metadata": {},
   "outputs": [
    {
     "data": {
      "text/plain": [
       "Text(0,0.5,'Number of Inmates')"
      ]
     },
     "execution_count": 79,
     "metadata": {},
     "output_type": "execute_result"
    },
    {
     "data": {
      "image/png": "[encoded data removed]",
      "text/plain": [
       "<matplotlib.figure.Figure at 0x1469ced0518>"
      ]
     },
     "metadata": {},
     "output_type": "display_data"
    }
   ],
   "source": [
    "plt.figure(figsize=(10,7))\n",
    "sns.countplot(x='INFRACTION', hue='RACE', data=df, palette=\"Set2\")\n",
    "plt.ylabel(\"Number of Inmates\")"
   ]
  },
  {
   "cell_type": "code",
   "execution_count": null,
   "metadata": {},
   "outputs": [],
   "source": []
  }
 ],
 "metadata": {
  "kernelspec": {
   "display_name": "Python 3",
   "language": "python",
   "name": "python3"
  },
  "language_info": {
   "codemirror_mode": {
    "name": "ipython",
    "version": 3
   },
   "file_extension": ".py",
   "mimetype": "text/x-python",
   "name": "python",
   "nbconvert_exporter": "python",
   "pygments_lexer": "ipython3",
   "version": "3.6.4"
  }
 },
 "nbformat": 4,
 "nbformat_minor": 2
}
