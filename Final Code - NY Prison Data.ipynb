{
 "cells": [
  {
   "cell_type": "markdown",
   "metadata": {},
   "source": [
    "# Table of contents\n",
    "1. [Cleaning](#cleaning)\n",
    "2. [Exploring to Answer Unasked Questions (EDA)](#myanswers)\n",
    "3. [Machine Learning](#ml)"
   ]
  },
  {
   "cell_type": "code",
   "execution_count": 1,
   "metadata": {},
   "outputs": [],
   "source": [
    "import numpy as np\n",
    "import pandas as pd \n",
    "import matplotlib.pyplot as plt\n",
    "import seaborn as sns\n",
    "from sklearn.preprocessing import Imputer\n",
    "from datetime import datetime"
   ]
  },
  {
   "cell_type": "markdown",
   "metadata": {},
   "source": [
    "## Cleaning the Dataframe <a name=\"cleaning\"></a>"
   ]
  },
  {
   "cell_type": "code",
   "execution_count": 2,
   "metadata": {},
   "outputs": [
    {
     "data": {
      "text/html": [
       "<div>\n",
       "<style scoped>\n",
       "    .dataframe tbody tr th:only-of-type {\n",
       "        vertical-align: middle;\n",
       "    }\n",
       "\n",
       "    .dataframe tbody tr th {\n",
       "        vertical-align: top;\n",
       "    }\n",
       "\n",
       "    .dataframe thead th {\n",
       "        text-align: right;\n",
       "    }\n",
       "</style>\n",
       "<table border=\"1\" class=\"dataframe\">\n",
       "  <thead>\n",
       "    <tr style=\"text-align: right;\">\n",
       "      <th></th>\n",
       "      <th>0</th>\n",
       "      <th>1</th>\n",
       "      <th>2</th>\n",
       "      <th>3</th>\n",
       "      <th>4</th>\n",
       "    </tr>\n",
       "  </thead>\n",
       "  <tbody>\n",
       "    <tr>\n",
       "      <th>INMATEID</th>\n",
       "      <td>20159382</td>\n",
       "      <td>20120917</td>\n",
       "      <td>20174220</td>\n",
       "      <td>20174619</td>\n",
       "      <td>20175929</td>\n",
       "    </tr>\n",
       "    <tr>\n",
       "      <th>ADMITTED_DT</th>\n",
       "      <td>2015-11-14T18:22:02</td>\n",
       "      <td>2013-10-11T18:34:33</td>\n",
       "      <td>2016-10-25T16:33:35</td>\n",
       "      <td>2016-11-03T18:11:30</td>\n",
       "      <td>2016-12-09T02:20:21</td>\n",
       "    </tr>\n",
       "    <tr>\n",
       "      <th>DISCHARGED_DT</th>\n",
       "      <td>NaN</td>\n",
       "      <td>NaN</td>\n",
       "      <td>NaN</td>\n",
       "      <td>NaN</td>\n",
       "      <td>NaN</td>\n",
       "    </tr>\n",
       "    <tr>\n",
       "      <th>CUSTODY_LEVEL</th>\n",
       "      <td>NaN</td>\n",
       "      <td>NaN</td>\n",
       "      <td>NaN</td>\n",
       "      <td>NaN</td>\n",
       "      <td>NaN</td>\n",
       "    </tr>\n",
       "    <tr>\n",
       "      <th>BRADH</th>\n",
       "      <td>N</td>\n",
       "      <td>N</td>\n",
       "      <td>N</td>\n",
       "      <td>N</td>\n",
       "      <td>N</td>\n",
       "    </tr>\n",
       "    <tr>\n",
       "      <th>RACE</th>\n",
       "      <td>NaN</td>\n",
       "      <td>NaN</td>\n",
       "      <td>NaN</td>\n",
       "      <td>NaN</td>\n",
       "      <td>NaN</td>\n",
       "    </tr>\n",
       "    <tr>\n",
       "      <th>GENDER</th>\n",
       "      <td>NaN</td>\n",
       "      <td>NaN</td>\n",
       "      <td>NaN</td>\n",
       "      <td>NaN</td>\n",
       "      <td>NaN</td>\n",
       "    </tr>\n",
       "    <tr>\n",
       "      <th>AGE</th>\n",
       "      <td>NaN</td>\n",
       "      <td>NaN</td>\n",
       "      <td>NaN</td>\n",
       "      <td>NaN</td>\n",
       "      <td>NaN</td>\n",
       "    </tr>\n",
       "    <tr>\n",
       "      <th>INMATE_STATUS_CODE</th>\n",
       "      <td>DE</td>\n",
       "      <td>DE</td>\n",
       "      <td>DE</td>\n",
       "      <td>DE</td>\n",
       "      <td>DE</td>\n",
       "    </tr>\n",
       "    <tr>\n",
       "      <th>SEALED</th>\n",
       "      <td>N</td>\n",
       "      <td>N</td>\n",
       "      <td>N</td>\n",
       "      <td>N</td>\n",
       "      <td>N</td>\n",
       "    </tr>\n",
       "    <tr>\n",
       "      <th>SRG_FLG</th>\n",
       "      <td>N</td>\n",
       "      <td>N</td>\n",
       "      <td>N</td>\n",
       "      <td>N</td>\n",
       "      <td>N</td>\n",
       "    </tr>\n",
       "    <tr>\n",
       "      <th>TOP_CHARGE</th>\n",
       "      <td>NaN</td>\n",
       "      <td>NaN</td>\n",
       "      <td>NaN</td>\n",
       "      <td>NaN</td>\n",
       "      <td>NaN</td>\n",
       "    </tr>\n",
       "    <tr>\n",
       "      <th>INFRACTION</th>\n",
       "      <td>N</td>\n",
       "      <td>N</td>\n",
       "      <td>N</td>\n",
       "      <td>N</td>\n",
       "      <td>N</td>\n",
       "    </tr>\n",
       "  </tbody>\n",
       "</table>\n",
       "</div>"
      ],
      "text/plain": [
       "                                      0                    1  \\\n",
       "INMATEID                       20159382             20120917   \n",
       "ADMITTED_DT         2015-11-14T18:22:02  2013-10-11T18:34:33   \n",
       "DISCHARGED_DT                       NaN                  NaN   \n",
       "CUSTODY_LEVEL                       NaN                  NaN   \n",
       "BRADH                                 N                    N   \n",
       "RACE                                NaN                  NaN   \n",
       "GENDER                              NaN                  NaN   \n",
       "AGE                                 NaN                  NaN   \n",
       "INMATE_STATUS_CODE                   DE                   DE   \n",
       "SEALED                                N                    N   \n",
       "SRG_FLG                               N                    N   \n",
       "TOP_CHARGE                          NaN                  NaN   \n",
       "INFRACTION                            N                    N   \n",
       "\n",
       "                                      2                    3  \\\n",
       "INMATEID                       20174220             20174619   \n",
       "ADMITTED_DT         2016-10-25T16:33:35  2016-11-03T18:11:30   \n",
       "DISCHARGED_DT                       NaN                  NaN   \n",
       "CUSTODY_LEVEL                       NaN                  NaN   \n",
       "BRADH                                 N                    N   \n",
       "RACE                                NaN                  NaN   \n",
       "GENDER                              NaN                  NaN   \n",
       "AGE                                 NaN                  NaN   \n",
       "INMATE_STATUS_CODE                   DE                   DE   \n",
       "SEALED                                N                    N   \n",
       "SRG_FLG                               N                    N   \n",
       "TOP_CHARGE                          NaN                  NaN   \n",
       "INFRACTION                            N                    N   \n",
       "\n",
       "                                      4  \n",
       "INMATEID                       20175929  \n",
       "ADMITTED_DT         2016-12-09T02:20:21  \n",
       "DISCHARGED_DT                       NaN  \n",
       "CUSTODY_LEVEL                       NaN  \n",
       "BRADH                                 N  \n",
       "RACE                                NaN  \n",
       "GENDER                              NaN  \n",
       "AGE                                 NaN  \n",
       "INMATE_STATUS_CODE                   DE  \n",
       "SEALED                                N  \n",
       "SRG_FLG                               N  \n",
       "TOP_CHARGE                          NaN  \n",
       "INFRACTION                            N  "
      ]
     },
     "execution_count": 2,
     "metadata": {},
     "output_type": "execute_result"
    }
   ],
   "source": [
    "df = pd.read_csv(\"daily-inmates-in-custody.csv\")\n",
    "df.head().T"
   ]
  },
  {
   "cell_type": "code",
   "execution_count": 3,
   "metadata": {},
   "outputs": [
    {
     "data": {
      "text/html": [
       "<div>\n",
       "<style scoped>\n",
       "    .dataframe tbody tr th:only-of-type {\n",
       "        vertical-align: middle;\n",
       "    }\n",
       "\n",
       "    .dataframe tbody tr th {\n",
       "        vertical-align: top;\n",
       "    }\n",
       "\n",
       "    .dataframe thead th {\n",
       "        text-align: right;\n",
       "    }\n",
       "</style>\n",
       "<table border=\"1\" class=\"dataframe\">\n",
       "  <thead>\n",
       "    <tr style=\"text-align: right;\">\n",
       "      <th></th>\n",
       "      <th>0</th>\n",
       "      <th>1</th>\n",
       "      <th>2</th>\n",
       "      <th>3</th>\n",
       "      <th>4</th>\n",
       "    </tr>\n",
       "  </thead>\n",
       "  <tbody>\n",
       "    <tr>\n",
       "      <th>INMATE_ID</th>\n",
       "      <td>20159382</td>\n",
       "      <td>20120917</td>\n",
       "      <td>20174220</td>\n",
       "      <td>20174619</td>\n",
       "      <td>20175929</td>\n",
       "    </tr>\n",
       "    <tr>\n",
       "      <th>ADMITTED_DT</th>\n",
       "      <td>2015-11-14T18:22:02</td>\n",
       "      <td>2013-10-11T18:34:33</td>\n",
       "      <td>2016-10-25T16:33:35</td>\n",
       "      <td>2016-11-03T18:11:30</td>\n",
       "      <td>2016-12-09T02:20:21</td>\n",
       "    </tr>\n",
       "    <tr>\n",
       "      <th>DISCHARGED_DT</th>\n",
       "      <td>NaN</td>\n",
       "      <td>NaN</td>\n",
       "      <td>NaN</td>\n",
       "      <td>NaN</td>\n",
       "      <td>NaN</td>\n",
       "    </tr>\n",
       "    <tr>\n",
       "      <th>CUSTODY_LEVEL</th>\n",
       "      <td>NaN</td>\n",
       "      <td>NaN</td>\n",
       "      <td>NaN</td>\n",
       "      <td>NaN</td>\n",
       "      <td>NaN</td>\n",
       "    </tr>\n",
       "    <tr>\n",
       "      <th>MENTAL_OBSERVATION</th>\n",
       "      <td>N</td>\n",
       "      <td>N</td>\n",
       "      <td>N</td>\n",
       "      <td>N</td>\n",
       "      <td>N</td>\n",
       "    </tr>\n",
       "    <tr>\n",
       "      <th>RACE</th>\n",
       "      <td>NaN</td>\n",
       "      <td>NaN</td>\n",
       "      <td>NaN</td>\n",
       "      <td>NaN</td>\n",
       "      <td>NaN</td>\n",
       "    </tr>\n",
       "    <tr>\n",
       "      <th>GENDER</th>\n",
       "      <td>NaN</td>\n",
       "      <td>NaN</td>\n",
       "      <td>NaN</td>\n",
       "      <td>NaN</td>\n",
       "      <td>NaN</td>\n",
       "    </tr>\n",
       "    <tr>\n",
       "      <th>AGE</th>\n",
       "      <td>NaN</td>\n",
       "      <td>NaN</td>\n",
       "      <td>NaN</td>\n",
       "      <td>NaN</td>\n",
       "      <td>NaN</td>\n",
       "    </tr>\n",
       "    <tr>\n",
       "      <th>INMATE_STATUS_CODE</th>\n",
       "      <td>DE</td>\n",
       "      <td>DE</td>\n",
       "      <td>DE</td>\n",
       "      <td>DE</td>\n",
       "      <td>DE</td>\n",
       "    </tr>\n",
       "    <tr>\n",
       "      <th>SEALED</th>\n",
       "      <td>N</td>\n",
       "      <td>N</td>\n",
       "      <td>N</td>\n",
       "      <td>N</td>\n",
       "      <td>N</td>\n",
       "    </tr>\n",
       "    <tr>\n",
       "      <th>GANG_AFFILIATION</th>\n",
       "      <td>N</td>\n",
       "      <td>N</td>\n",
       "      <td>N</td>\n",
       "      <td>N</td>\n",
       "      <td>N</td>\n",
       "    </tr>\n",
       "    <tr>\n",
       "      <th>TOP_CHARGE</th>\n",
       "      <td>NaN</td>\n",
       "      <td>NaN</td>\n",
       "      <td>NaN</td>\n",
       "      <td>NaN</td>\n",
       "      <td>NaN</td>\n",
       "    </tr>\n",
       "    <tr>\n",
       "      <th>INFRACTION</th>\n",
       "      <td>N</td>\n",
       "      <td>N</td>\n",
       "      <td>N</td>\n",
       "      <td>N</td>\n",
       "      <td>N</td>\n",
       "    </tr>\n",
       "  </tbody>\n",
       "</table>\n",
       "</div>"
      ],
      "text/plain": [
       "                                      0                    1  \\\n",
       "INMATE_ID                      20159382             20120917   \n",
       "ADMITTED_DT         2015-11-14T18:22:02  2013-10-11T18:34:33   \n",
       "DISCHARGED_DT                       NaN                  NaN   \n",
       "CUSTODY_LEVEL                       NaN                  NaN   \n",
       "MENTAL_OBSERVATION                    N                    N   \n",
       "RACE                                NaN                  NaN   \n",
       "GENDER                              NaN                  NaN   \n",
       "AGE                                 NaN                  NaN   \n",
       "INMATE_STATUS_CODE                   DE                   DE   \n",
       "SEALED                                N                    N   \n",
       "GANG_AFFILIATION                      N                    N   \n",
       "TOP_CHARGE                          NaN                  NaN   \n",
       "INFRACTION                            N                    N   \n",
       "\n",
       "                                      2                    3  \\\n",
       "INMATE_ID                      20174220             20174619   \n",
       "ADMITTED_DT         2016-10-25T16:33:35  2016-11-03T18:11:30   \n",
       "DISCHARGED_DT                       NaN                  NaN   \n",
       "CUSTODY_LEVEL                       NaN                  NaN   \n",
       "MENTAL_OBSERVATION                    N                    N   \n",
       "RACE                                NaN                  NaN   \n",
       "GENDER                              NaN                  NaN   \n",
       "AGE                                 NaN                  NaN   \n",
       "INMATE_STATUS_CODE                   DE                   DE   \n",
       "SEALED                                N                    N   \n",
       "GANG_AFFILIATION                      N                    N   \n",
       "TOP_CHARGE                          NaN                  NaN   \n",
       "INFRACTION                            N                    N   \n",
       "\n",
       "                                      4  \n",
       "INMATE_ID                      20175929  \n",
       "ADMITTED_DT         2016-12-09T02:20:21  \n",
       "DISCHARGED_DT                       NaN  \n",
       "CUSTODY_LEVEL                       NaN  \n",
       "MENTAL_OBSERVATION                    N  \n",
       "RACE                                NaN  \n",
       "GENDER                              NaN  \n",
       "AGE                                 NaN  \n",
       "INMATE_STATUS_CODE                   DE  \n",
       "SEALED                                N  \n",
       "GANG_AFFILIATION                      N  \n",
       "TOP_CHARGE                          NaN  \n",
       "INFRACTION                            N  "
      ]
     },
     "execution_count": 3,
     "metadata": {},
     "output_type": "execute_result"
    }
   ],
   "source": [
    "original_colnames = df.columns\n",
    "new_colnames = ['INMATE_ID', 'ADMITTED_DT', 'DISCHARGED_DT', 'CUSTODY_LEVEL', 'MENTAL_OBSERVATION', 'RACE', 'GENDER', 'AGE', 'INMATE_STATUS_CODE', 'SEALED', 'GANG_AFFILIATION', 'TOP_CHARGE', 'INFRACTION']\n",
    "df = df.rename(columns=dict(zip(original_colnames, new_colnames)))\n",
    "df.head().T"
   ]
  },
  {
   "cell_type": "code",
   "execution_count": 4,
   "metadata": {},
   "outputs": [
    {
     "data": {
      "text/html": [
       "<div>\n",
       "<style scoped>\n",
       "    .dataframe tbody tr th:only-of-type {\n",
       "        vertical-align: middle;\n",
       "    }\n",
       "\n",
       "    .dataframe tbody tr th {\n",
       "        vertical-align: top;\n",
       "    }\n",
       "\n",
       "    .dataframe thead th {\n",
       "        text-align: right;\n",
       "    }\n",
       "</style>\n",
       "<table border=\"1\" class=\"dataframe\">\n",
       "  <thead>\n",
       "    <tr style=\"text-align: right;\">\n",
       "      <th></th>\n",
       "      <th>8223</th>\n",
       "      <th>8224</th>\n",
       "      <th>8225</th>\n",
       "      <th>8226</th>\n",
       "      <th>8227</th>\n",
       "    </tr>\n",
       "  </thead>\n",
       "  <tbody>\n",
       "    <tr>\n",
       "      <th>INMATE_ID</th>\n",
       "      <td>20101081</td>\n",
       "      <td>80499</td>\n",
       "      <td>168995</td>\n",
       "      <td>20197793</td>\n",
       "      <td>20185441</td>\n",
       "    </tr>\n",
       "    <tr>\n",
       "      <th>ADMITTED_DT</th>\n",
       "      <td>2018-08-27T12:43:45</td>\n",
       "      <td>2018-08-26T01:16:28</td>\n",
       "      <td>2018-08-27T13:46:28</td>\n",
       "      <td>2018-08-24T20:59:00</td>\n",
       "      <td>2018-06-27T19:18:55</td>\n",
       "    </tr>\n",
       "    <tr>\n",
       "      <th>DISCHARGED_DT</th>\n",
       "      <td>NaN</td>\n",
       "      <td>NaN</td>\n",
       "      <td>NaN</td>\n",
       "      <td>NaN</td>\n",
       "      <td>NaN</td>\n",
       "    </tr>\n",
       "    <tr>\n",
       "      <th>CUSTODY_LEVEL</th>\n",
       "      <td>MED</td>\n",
       "      <td>MIN</td>\n",
       "      <td>MED</td>\n",
       "      <td>MIN</td>\n",
       "      <td>MAX</td>\n",
       "    </tr>\n",
       "    <tr>\n",
       "      <th>MENTAL_OBSERVATION</th>\n",
       "      <td>N</td>\n",
       "      <td>N</td>\n",
       "      <td>N</td>\n",
       "      <td>N</td>\n",
       "      <td>Y</td>\n",
       "    </tr>\n",
       "    <tr>\n",
       "      <th>RACE</th>\n",
       "      <td>O</td>\n",
       "      <td>B</td>\n",
       "      <td>O</td>\n",
       "      <td>W</td>\n",
       "      <td>O</td>\n",
       "    </tr>\n",
       "    <tr>\n",
       "      <th>GENDER</th>\n",
       "      <td>M</td>\n",
       "      <td>M</td>\n",
       "      <td>M</td>\n",
       "      <td>F</td>\n",
       "      <td>M</td>\n",
       "    </tr>\n",
       "    <tr>\n",
       "      <th>AGE</th>\n",
       "      <td>48</td>\n",
       "      <td>51</td>\n",
       "      <td>30</td>\n",
       "      <td>42</td>\n",
       "      <td>21</td>\n",
       "    </tr>\n",
       "    <tr>\n",
       "      <th>INMATE_STATUS_CODE</th>\n",
       "      <td>DE</td>\n",
       "      <td>DE</td>\n",
       "      <td>DE</td>\n",
       "      <td>DE</td>\n",
       "      <td>DE</td>\n",
       "    </tr>\n",
       "    <tr>\n",
       "      <th>SEALED</th>\n",
       "      <td>N</td>\n",
       "      <td>N</td>\n",
       "      <td>N</td>\n",
       "      <td>N</td>\n",
       "      <td>N</td>\n",
       "    </tr>\n",
       "    <tr>\n",
       "      <th>GANG_AFFILIATION</th>\n",
       "      <td>N</td>\n",
       "      <td>N</td>\n",
       "      <td>N</td>\n",
       "      <td>N</td>\n",
       "      <td>Y</td>\n",
       "    </tr>\n",
       "    <tr>\n",
       "      <th>TOP_CHARGE</th>\n",
       "      <td>130.35</td>\n",
       "      <td>160.15</td>\n",
       "      <td>120.05</td>\n",
       "      <td>140.20</td>\n",
       "      <td>125.27</td>\n",
       "    </tr>\n",
       "    <tr>\n",
       "      <th>INFRACTION</th>\n",
       "      <td>N</td>\n",
       "      <td>N</td>\n",
       "      <td>N</td>\n",
       "      <td>N</td>\n",
       "      <td>Y</td>\n",
       "    </tr>\n",
       "  </tbody>\n",
       "</table>\n",
       "</div>"
      ],
      "text/plain": [
       "                                   8223                 8224  \\\n",
       "INMATE_ID                      20101081                80499   \n",
       "ADMITTED_DT         2018-08-27T12:43:45  2018-08-26T01:16:28   \n",
       "DISCHARGED_DT                       NaN                  NaN   \n",
       "CUSTODY_LEVEL                       MED                  MIN   \n",
       "MENTAL_OBSERVATION                    N                    N   \n",
       "RACE                                  O                    B   \n",
       "GENDER                                M                    M   \n",
       "AGE                                  48                   51   \n",
       "INMATE_STATUS_CODE                   DE                   DE   \n",
       "SEALED                                N                    N   \n",
       "GANG_AFFILIATION                      N                    N   \n",
       "TOP_CHARGE                       130.35               160.15   \n",
       "INFRACTION                            N                    N   \n",
       "\n",
       "                                   8225                 8226  \\\n",
       "INMATE_ID                        168995             20197793   \n",
       "ADMITTED_DT         2018-08-27T13:46:28  2018-08-24T20:59:00   \n",
       "DISCHARGED_DT                       NaN                  NaN   \n",
       "CUSTODY_LEVEL                       MED                  MIN   \n",
       "MENTAL_OBSERVATION                    N                    N   \n",
       "RACE                                  O                    W   \n",
       "GENDER                                M                    F   \n",
       "AGE                                  30                   42   \n",
       "INMATE_STATUS_CODE                   DE                   DE   \n",
       "SEALED                                N                    N   \n",
       "GANG_AFFILIATION                      N                    N   \n",
       "TOP_CHARGE                       120.05               140.20   \n",
       "INFRACTION                            N                    N   \n",
       "\n",
       "                                   8227  \n",
       "INMATE_ID                      20185441  \n",
       "ADMITTED_DT         2018-06-27T19:18:55  \n",
       "DISCHARGED_DT                       NaN  \n",
       "CUSTODY_LEVEL                       MAX  \n",
       "MENTAL_OBSERVATION                    Y  \n",
       "RACE                                  O  \n",
       "GENDER                                M  \n",
       "AGE                                  21  \n",
       "INMATE_STATUS_CODE                   DE  \n",
       "SEALED                                N  \n",
       "GANG_AFFILIATION                      Y  \n",
       "TOP_CHARGE                       125.27  \n",
       "INFRACTION                            Y  "
      ]
     },
     "execution_count": 4,
     "metadata": {},
     "output_type": "execute_result"
    }
   ],
   "source": [
    "df.tail().T"
   ]
  },
  {
   "cell_type": "markdown",
   "metadata": {},
   "source": [
    "It looks like a lot of the inmates have not been released yet. Also, the older the data is, the less complete it is. Race, gender, age, custody level and top charge are values that are missing from the oldest records. We can also see from the head of the dataframe that the dataframe is not in chronological order."
   ]
  },
  {
   "cell_type": "code",
   "execution_count": 5,
   "metadata": {},
   "outputs": [
    {
     "name": "stdout",
     "output_type": "stream",
     "text": [
      "<class 'pandas.core.frame.DataFrame'>\n",
      "RangeIndex: 8228 entries, 0 to 8227\n",
      "Data columns (total 13 columns):\n",
      "INMATE_ID             8228 non-null int64\n",
      "ADMITTED_DT           8228 non-null object\n",
      "DISCHARGED_DT         0 non-null float64\n",
      "CUSTODY_LEVEL         8107 non-null object\n",
      "MENTAL_OBSERVATION    8228 non-null object\n",
      "RACE                  8206 non-null object\n",
      "GENDER                8206 non-null object\n",
      "AGE                   8218 non-null float64\n",
      "INMATE_STATUS_CODE    8228 non-null object\n",
      "SEALED                8228 non-null object\n",
      "GANG_AFFILIATION      8228 non-null object\n",
      "TOP_CHARGE            7294 non-null object\n",
      "INFRACTION            8228 non-null object\n",
      "dtypes: float64(2), int64(1), object(10)\n",
      "memory usage: 835.7+ KB\n"
     ]
    }
   ],
   "source": [
    "df.info()"
   ]
  },
  {
   "cell_type": "markdown",
   "metadata": {},
   "source": [
    "We will check to see if all of the files of the inmates are sealed since that is what the head and tail of the dataframe seem to indicate."
   ]
  },
  {
   "cell_type": "code",
   "execution_count": 6,
   "metadata": {},
   "outputs": [
    {
     "data": {
      "text/plain": [
       "1.0"
      ]
     },
     "execution_count": 6,
     "metadata": {},
     "output_type": "execute_result"
    }
   ],
   "source": [
    "sealed = df['SEALED'].dropna()\n",
    "sealed = sealed.map({'Y' :0, 'N' :1})\n",
    "sum(sealed)/len(sealed)"
   ]
  },
  {
   "cell_type": "markdown",
   "metadata": {},
   "source": [
    "This shows that 100% of the values for the SEALED column are 'N' for no. Since they are all consistent, we will remove the column from the dataframe. It will have no bearing on our results unless and until the results can be compared with results where the inmates' records are sealed.\n",
    "\n",
    "We will also remove the column DISCHARGED_DT from the dataframe as all of those values are NaN."
   ]
  },
  {
   "cell_type": "code",
   "execution_count": 7,
   "metadata": {},
   "outputs": [],
   "source": [
    "df = df.drop(['DISCHARGED_DT', 'SEALED'],axis=1)"
   ]
  },
  {
   "cell_type": "code",
   "execution_count": 8,
   "metadata": {},
   "outputs": [
    {
     "data": {
      "text/html": [
       "<div>\n",
       "<style scoped>\n",
       "    .dataframe tbody tr th:only-of-type {\n",
       "        vertical-align: middle;\n",
       "    }\n",
       "\n",
       "    .dataframe tbody tr th {\n",
       "        vertical-align: top;\n",
       "    }\n",
       "\n",
       "    .dataframe thead th {\n",
       "        text-align: right;\n",
       "    }\n",
       "</style>\n",
       "<table border=\"1\" class=\"dataframe\">\n",
       "  <thead>\n",
       "    <tr style=\"text-align: right;\">\n",
       "      <th></th>\n",
       "      <th>INMATE_ID</th>\n",
       "      <th>ADMITTED_DT</th>\n",
       "      <th>CUSTODY_LEVEL</th>\n",
       "      <th>MENTAL_OBSERVATION</th>\n",
       "      <th>RACE</th>\n",
       "      <th>GENDER</th>\n",
       "      <th>AGE</th>\n",
       "      <th>INMATE_STATUS_CODE</th>\n",
       "      <th>GANG_AFFILIATION</th>\n",
       "      <th>TOP_CHARGE</th>\n",
       "      <th>INFRACTION</th>\n",
       "    </tr>\n",
       "  </thead>\n",
       "  <tbody>\n",
       "    <tr>\n",
       "      <th>0</th>\n",
       "      <td>20159382</td>\n",
       "      <td>2015-11-14T18:22:02</td>\n",
       "      <td>NaN</td>\n",
       "      <td>N</td>\n",
       "      <td>NaN</td>\n",
       "      <td>NaN</td>\n",
       "      <td>NaN</td>\n",
       "      <td>DE</td>\n",
       "      <td>N</td>\n",
       "      <td>NaN</td>\n",
       "      <td>N</td>\n",
       "    </tr>\n",
       "    <tr>\n",
       "      <th>1</th>\n",
       "      <td>20120917</td>\n",
       "      <td>2013-10-11T18:34:33</td>\n",
       "      <td>NaN</td>\n",
       "      <td>N</td>\n",
       "      <td>NaN</td>\n",
       "      <td>NaN</td>\n",
       "      <td>NaN</td>\n",
       "      <td>DE</td>\n",
       "      <td>N</td>\n",
       "      <td>NaN</td>\n",
       "      <td>N</td>\n",
       "    </tr>\n",
       "    <tr>\n",
       "      <th>2</th>\n",
       "      <td>20174220</td>\n",
       "      <td>2016-10-25T16:33:35</td>\n",
       "      <td>NaN</td>\n",
       "      <td>N</td>\n",
       "      <td>NaN</td>\n",
       "      <td>NaN</td>\n",
       "      <td>NaN</td>\n",
       "      <td>DE</td>\n",
       "      <td>N</td>\n",
       "      <td>NaN</td>\n",
       "      <td>N</td>\n",
       "    </tr>\n",
       "    <tr>\n",
       "      <th>3</th>\n",
       "      <td>20174619</td>\n",
       "      <td>2016-11-03T18:11:30</td>\n",
       "      <td>NaN</td>\n",
       "      <td>N</td>\n",
       "      <td>NaN</td>\n",
       "      <td>NaN</td>\n",
       "      <td>NaN</td>\n",
       "      <td>DE</td>\n",
       "      <td>N</td>\n",
       "      <td>NaN</td>\n",
       "      <td>N</td>\n",
       "    </tr>\n",
       "    <tr>\n",
       "      <th>4</th>\n",
       "      <td>20175929</td>\n",
       "      <td>2016-12-09T02:20:21</td>\n",
       "      <td>NaN</td>\n",
       "      <td>N</td>\n",
       "      <td>NaN</td>\n",
       "      <td>NaN</td>\n",
       "      <td>NaN</td>\n",
       "      <td>DE</td>\n",
       "      <td>N</td>\n",
       "      <td>NaN</td>\n",
       "      <td>N</td>\n",
       "    </tr>\n",
       "  </tbody>\n",
       "</table>\n",
       "</div>"
      ],
      "text/plain": [
       "   INMATE_ID          ADMITTED_DT CUSTODY_LEVEL MENTAL_OBSERVATION RACE  \\\n",
       "0   20159382  2015-11-14T18:22:02           NaN                  N  NaN   \n",
       "1   20120917  2013-10-11T18:34:33           NaN                  N  NaN   \n",
       "2   20174220  2016-10-25T16:33:35           NaN                  N  NaN   \n",
       "3   20174619  2016-11-03T18:11:30           NaN                  N  NaN   \n",
       "4   20175929  2016-12-09T02:20:21           NaN                  N  NaN   \n",
       "\n",
       "  GENDER  AGE INMATE_STATUS_CODE GANG_AFFILIATION TOP_CHARGE INFRACTION  \n",
       "0    NaN  NaN                 DE                N        NaN          N  \n",
       "1    NaN  NaN                 DE                N        NaN          N  \n",
       "2    NaN  NaN                 DE                N        NaN          N  \n",
       "3    NaN  NaN                 DE                N        NaN          N  \n",
       "4    NaN  NaN                 DE                N        NaN          N  "
      ]
     },
     "execution_count": 8,
     "metadata": {},
     "output_type": "execute_result"
    }
   ],
   "source": [
    "df.head()"
   ]
  },
  {
   "cell_type": "markdown",
   "metadata": {},
   "source": [
    "According to cell 5, there are more than 100 missing values from TOP_CHARGE and CUSTODY_LEVEL. However there are only 22 missing from RACE and GENDER and less missing from AGE. Since that is less than 0.2% of overall data, we will drop the rows where there are any NaN values in RACE and GENDER. We will impute the missing values of TOP_CHARGE as -1 so that they can be used in the predictive model we create later. We will not delete the rows that have missing values from CUSTODY_LEVEL. We will attempt to predict these values in the Machine Learning portion of this capstone."
   ]
  },
  {
   "cell_type": "code",
   "execution_count": 9,
   "metadata": {},
   "outputs": [
    {
     "name": "stdout",
     "output_type": "stream",
     "text": [
      "<class 'pandas.core.frame.DataFrame'>\n",
      "Int64Index: 8206 entries, 6 to 8227\n",
      "Data columns (total 11 columns):\n",
      "INMATE_ID             8206 non-null int64\n",
      "ADMITTED_DT           8206 non-null object\n",
      "CUSTODY_LEVEL         8095 non-null object\n",
      "MENTAL_OBSERVATION    8206 non-null object\n",
      "RACE                  8206 non-null object\n",
      "GENDER                8206 non-null object\n",
      "AGE                   8206 non-null float64\n",
      "INMATE_STATUS_CODE    8206 non-null object\n",
      "GANG_AFFILIATION      8206 non-null object\n",
      "TOP_CHARGE            8206 non-null object\n",
      "INFRACTION            8206 non-null object\n",
      "dtypes: float64(1), int64(1), object(9)\n",
      "memory usage: 769.3+ KB\n"
     ]
    }
   ],
   "source": [
    "df = df.dropna(axis=0, how='any', subset=['RACE', 'GENDER']) \n",
    "df['TOP_CHARGE'] = df['TOP_CHARGE'].fillna(-1)\n",
    "df.info()"
   ]
  },
  {
   "cell_type": "markdown",
   "metadata": {},
   "source": [
    "Removing the rows that had missing values in RACE and GENDER also removed 12 values that could have been used for training a predictive model later to help predict CUSTODY_LEVEL. As that still leaves us with more than a hundred values to guess, we will consider that an acceptable loss to this capstone."
   ]
  },
  {
   "cell_type": "code",
   "execution_count": 10,
   "metadata": {},
   "outputs": [
    {
     "data": {
      "text/html": [
       "<div>\n",
       "<style scoped>\n",
       "    .dataframe tbody tr th:only-of-type {\n",
       "        vertical-align: middle;\n",
       "    }\n",
       "\n",
       "    .dataframe tbody tr th {\n",
       "        vertical-align: top;\n",
       "    }\n",
       "\n",
       "    .dataframe thead th {\n",
       "        text-align: right;\n",
       "    }\n",
       "</style>\n",
       "<table border=\"1\" class=\"dataframe\">\n",
       "  <thead>\n",
       "    <tr style=\"text-align: right;\">\n",
       "      <th></th>\n",
       "      <th>6</th>\n",
       "      <th>7</th>\n",
       "      <th>8</th>\n",
       "      <th>9</th>\n",
       "      <th>10</th>\n",
       "    </tr>\n",
       "  </thead>\n",
       "  <tbody>\n",
       "    <tr>\n",
       "      <th>INMATE_ID</th>\n",
       "      <td>56220</td>\n",
       "      <td>99982</td>\n",
       "      <td>110074</td>\n",
       "      <td>20146640</td>\n",
       "      <td>20183607</td>\n",
       "    </tr>\n",
       "    <tr>\n",
       "      <th>ADMITTED_DT</th>\n",
       "      <td>2017-04-04T13:05:26</td>\n",
       "      <td>2017-08-21T12:37:51</td>\n",
       "      <td>2017-06-02T20:47:27</td>\n",
       "      <td>2017-08-01T11:45:11</td>\n",
       "      <td>2017-06-18T12:05:26</td>\n",
       "    </tr>\n",
       "    <tr>\n",
       "      <th>CUSTODY_LEVEL</th>\n",
       "      <td>MIN</td>\n",
       "      <td>MED</td>\n",
       "      <td>MAX</td>\n",
       "      <td>MAX</td>\n",
       "      <td>MIN</td>\n",
       "    </tr>\n",
       "    <tr>\n",
       "      <th>MENTAL_OBSERVATION</th>\n",
       "      <td>Y</td>\n",
       "      <td>Y</td>\n",
       "      <td>N</td>\n",
       "      <td>Y</td>\n",
       "      <td>Y</td>\n",
       "    </tr>\n",
       "    <tr>\n",
       "      <th>RACE</th>\n",
       "      <td>B</td>\n",
       "      <td>O</td>\n",
       "      <td>O</td>\n",
       "      <td>B</td>\n",
       "      <td>B</td>\n",
       "    </tr>\n",
       "    <tr>\n",
       "      <th>GENDER</th>\n",
       "      <td>M</td>\n",
       "      <td>M</td>\n",
       "      <td>M</td>\n",
       "      <td>M</td>\n",
       "      <td>M</td>\n",
       "    </tr>\n",
       "    <tr>\n",
       "      <th>AGE</th>\n",
       "      <td>42</td>\n",
       "      <td>59</td>\n",
       "      <td>38</td>\n",
       "      <td>20</td>\n",
       "      <td>63</td>\n",
       "    </tr>\n",
       "    <tr>\n",
       "      <th>INMATE_STATUS_CODE</th>\n",
       "      <td>DE</td>\n",
       "      <td>DE</td>\n",
       "      <td>DE</td>\n",
       "      <td>DE</td>\n",
       "      <td>DE</td>\n",
       "    </tr>\n",
       "    <tr>\n",
       "      <th>GANG_AFFILIATION</th>\n",
       "      <td>N</td>\n",
       "      <td>N</td>\n",
       "      <td>N</td>\n",
       "      <td>Y</td>\n",
       "      <td>N</td>\n",
       "    </tr>\n",
       "    <tr>\n",
       "      <th>TOP_CHARGE</th>\n",
       "      <td>120.05</td>\n",
       "      <td>130.50</td>\n",
       "      <td>110-125.25</td>\n",
       "      <td>160.10</td>\n",
       "      <td>120.10</td>\n",
       "    </tr>\n",
       "    <tr>\n",
       "      <th>INFRACTION</th>\n",
       "      <td>N</td>\n",
       "      <td>N</td>\n",
       "      <td>N</td>\n",
       "      <td>Y</td>\n",
       "      <td>N</td>\n",
       "    </tr>\n",
       "  </tbody>\n",
       "</table>\n",
       "</div>"
      ],
      "text/plain": [
       "                                     6                    7   \\\n",
       "INMATE_ID                         56220                99982   \n",
       "ADMITTED_DT         2017-04-04T13:05:26  2017-08-21T12:37:51   \n",
       "CUSTODY_LEVEL                       MIN                  MED   \n",
       "MENTAL_OBSERVATION                    Y                    Y   \n",
       "RACE                                  B                    O   \n",
       "GENDER                                M                    M   \n",
       "AGE                                  42                   59   \n",
       "INMATE_STATUS_CODE                   DE                   DE   \n",
       "GANG_AFFILIATION                      N                    N   \n",
       "TOP_CHARGE                       120.05               130.50   \n",
       "INFRACTION                            N                    N   \n",
       "\n",
       "                                     8                    9   \\\n",
       "INMATE_ID                        110074             20146640   \n",
       "ADMITTED_DT         2017-06-02T20:47:27  2017-08-01T11:45:11   \n",
       "CUSTODY_LEVEL                       MAX                  MAX   \n",
       "MENTAL_OBSERVATION                    N                    Y   \n",
       "RACE                                  O                    B   \n",
       "GENDER                                M                    M   \n",
       "AGE                                  38                   20   \n",
       "INMATE_STATUS_CODE                   DE                   DE   \n",
       "GANG_AFFILIATION                      N                    Y   \n",
       "TOP_CHARGE                   110-125.25               160.10   \n",
       "INFRACTION                            N                    Y   \n",
       "\n",
       "                                     10  \n",
       "INMATE_ID                      20183607  \n",
       "ADMITTED_DT         2017-06-18T12:05:26  \n",
       "CUSTODY_LEVEL                       MIN  \n",
       "MENTAL_OBSERVATION                    Y  \n",
       "RACE                                  B  \n",
       "GENDER                                M  \n",
       "AGE                                  63  \n",
       "INMATE_STATUS_CODE                   DE  \n",
       "GANG_AFFILIATION                      N  \n",
       "TOP_CHARGE                       120.10  \n",
       "INFRACTION                            N  "
      ]
     },
     "execution_count": 10,
     "metadata": {},
     "output_type": "execute_result"
    }
   ],
   "source": [
    "df.head().T"
   ]
  },
  {
   "cell_type": "markdown",
   "metadata": {},
   "source": [
    "Now we will break the ADMITTED_DT into column for year, month, day, and hour. This will break the timestamps into more readable data and will be easier for any of the supervised machine learning methods we decide to use later on."
   ]
  },
  {
   "cell_type": "code",
   "execution_count": 13,
   "metadata": {},
   "outputs": [],
   "source": [
    "df['YEAR'] = df['ADMITTED_DT'].apply(lambda x: datetime.strptime(x, '%Y-%m-%dT%H:%M:%S').year)\n",
    "df['MONTH'] = df['ADMITTED_DT'].apply(lambda x: datetime.strptime(x, '%Y-%m-%dT%H:%M:%S').month)\n",
    "df['DAY'] = df['ADMITTED_DT'].apply(lambda x: datetime.strptime(x, '%Y-%m-%dT%H:%M:%S').day)\n",
    "df['HOUR'] = df['ADMITTED_DT'].apply(lambda x: datetime.strptime(x, '%Y-%m-%dT%H:%M:%S').hour)"
   ]
  },
  {
   "cell_type": "code",
   "execution_count": 14,
   "metadata": {},
   "outputs": [
    {
     "data": {
      "text/html": [
       "<div>\n",
       "<style scoped>\n",
       "    .dataframe tbody tr th:only-of-type {\n",
       "        vertical-align: middle;\n",
       "    }\n",
       "\n",
       "    .dataframe tbody tr th {\n",
       "        vertical-align: top;\n",
       "    }\n",
       "\n",
       "    .dataframe thead th {\n",
       "        text-align: right;\n",
       "    }\n",
       "</style>\n",
       "<table border=\"1\" class=\"dataframe\">\n",
       "  <thead>\n",
       "    <tr style=\"text-align: right;\">\n",
       "      <th></th>\n",
       "      <th>6</th>\n",
       "      <th>7</th>\n",
       "      <th>8</th>\n",
       "      <th>9</th>\n",
       "      <th>10</th>\n",
       "    </tr>\n",
       "  </thead>\n",
       "  <tbody>\n",
       "    <tr>\n",
       "      <th>INMATE_ID</th>\n",
       "      <td>56220</td>\n",
       "      <td>99982</td>\n",
       "      <td>110074</td>\n",
       "      <td>20146640</td>\n",
       "      <td>20183607</td>\n",
       "    </tr>\n",
       "    <tr>\n",
       "      <th>ADMITTED_DT</th>\n",
       "      <td>2017-04-04T13:05:26</td>\n",
       "      <td>2017-08-21T12:37:51</td>\n",
       "      <td>2017-06-02T20:47:27</td>\n",
       "      <td>2017-08-01T11:45:11</td>\n",
       "      <td>2017-06-18T12:05:26</td>\n",
       "    </tr>\n",
       "    <tr>\n",
       "      <th>CUSTODY_LEVEL</th>\n",
       "      <td>MIN</td>\n",
       "      <td>MED</td>\n",
       "      <td>MAX</td>\n",
       "      <td>MAX</td>\n",
       "      <td>MIN</td>\n",
       "    </tr>\n",
       "    <tr>\n",
       "      <th>MENTAL_OBSERVATION</th>\n",
       "      <td>Y</td>\n",
       "      <td>Y</td>\n",
       "      <td>N</td>\n",
       "      <td>Y</td>\n",
       "      <td>Y</td>\n",
       "    </tr>\n",
       "    <tr>\n",
       "      <th>RACE</th>\n",
       "      <td>B</td>\n",
       "      <td>O</td>\n",
       "      <td>O</td>\n",
       "      <td>B</td>\n",
       "      <td>B</td>\n",
       "    </tr>\n",
       "    <tr>\n",
       "      <th>GENDER</th>\n",
       "      <td>M</td>\n",
       "      <td>M</td>\n",
       "      <td>M</td>\n",
       "      <td>M</td>\n",
       "      <td>M</td>\n",
       "    </tr>\n",
       "    <tr>\n",
       "      <th>AGE</th>\n",
       "      <td>42</td>\n",
       "      <td>59</td>\n",
       "      <td>38</td>\n",
       "      <td>20</td>\n",
       "      <td>63</td>\n",
       "    </tr>\n",
       "    <tr>\n",
       "      <th>INMATE_STATUS_CODE</th>\n",
       "      <td>DE</td>\n",
       "      <td>DE</td>\n",
       "      <td>DE</td>\n",
       "      <td>DE</td>\n",
       "      <td>DE</td>\n",
       "    </tr>\n",
       "    <tr>\n",
       "      <th>GANG_AFFILIATION</th>\n",
       "      <td>N</td>\n",
       "      <td>N</td>\n",
       "      <td>N</td>\n",
       "      <td>Y</td>\n",
       "      <td>N</td>\n",
       "    </tr>\n",
       "    <tr>\n",
       "      <th>TOP_CHARGE</th>\n",
       "      <td>120.05</td>\n",
       "      <td>130.50</td>\n",
       "      <td>110-125.25</td>\n",
       "      <td>160.10</td>\n",
       "      <td>120.10</td>\n",
       "    </tr>\n",
       "    <tr>\n",
       "      <th>INFRACTION</th>\n",
       "      <td>N</td>\n",
       "      <td>N</td>\n",
       "      <td>N</td>\n",
       "      <td>Y</td>\n",
       "      <td>N</td>\n",
       "    </tr>\n",
       "    <tr>\n",
       "      <th>YEAR</th>\n",
       "      <td>2017</td>\n",
       "      <td>2017</td>\n",
       "      <td>2017</td>\n",
       "      <td>2017</td>\n",
       "      <td>2017</td>\n",
       "    </tr>\n",
       "    <tr>\n",
       "      <th>MONTH</th>\n",
       "      <td>4</td>\n",
       "      <td>8</td>\n",
       "      <td>6</td>\n",
       "      <td>8</td>\n",
       "      <td>6</td>\n",
       "    </tr>\n",
       "    <tr>\n",
       "      <th>DAY</th>\n",
       "      <td>4</td>\n",
       "      <td>21</td>\n",
       "      <td>2</td>\n",
       "      <td>1</td>\n",
       "      <td>18</td>\n",
       "    </tr>\n",
       "    <tr>\n",
       "      <th>HOUR</th>\n",
       "      <td>13</td>\n",
       "      <td>12</td>\n",
       "      <td>20</td>\n",
       "      <td>11</td>\n",
       "      <td>12</td>\n",
       "    </tr>\n",
       "  </tbody>\n",
       "</table>\n",
       "</div>"
      ],
      "text/plain": [
       "                                     6                    7   \\\n",
       "INMATE_ID                         56220                99982   \n",
       "ADMITTED_DT         2017-04-04T13:05:26  2017-08-21T12:37:51   \n",
       "CUSTODY_LEVEL                       MIN                  MED   \n",
       "MENTAL_OBSERVATION                    Y                    Y   \n",
       "RACE                                  B                    O   \n",
       "GENDER                                M                    M   \n",
       "AGE                                  42                   59   \n",
       "INMATE_STATUS_CODE                   DE                   DE   \n",
       "GANG_AFFILIATION                      N                    N   \n",
       "TOP_CHARGE                       120.05               130.50   \n",
       "INFRACTION                            N                    N   \n",
       "YEAR                               2017                 2017   \n",
       "MONTH                                 4                    8   \n",
       "DAY                                   4                   21   \n",
       "HOUR                                 13                   12   \n",
       "\n",
       "                                     8                    9   \\\n",
       "INMATE_ID                        110074             20146640   \n",
       "ADMITTED_DT         2017-06-02T20:47:27  2017-08-01T11:45:11   \n",
       "CUSTODY_LEVEL                       MAX                  MAX   \n",
       "MENTAL_OBSERVATION                    N                    Y   \n",
       "RACE                                  O                    B   \n",
       "GENDER                                M                    M   \n",
       "AGE                                  38                   20   \n",
       "INMATE_STATUS_CODE                   DE                   DE   \n",
       "GANG_AFFILIATION                      N                    Y   \n",
       "TOP_CHARGE                   110-125.25               160.10   \n",
       "INFRACTION                            N                    Y   \n",
       "YEAR                               2017                 2017   \n",
       "MONTH                                 6                    8   \n",
       "DAY                                   2                    1   \n",
       "HOUR                                 20                   11   \n",
       "\n",
       "                                     10  \n",
       "INMATE_ID                      20183607  \n",
       "ADMITTED_DT         2017-06-18T12:05:26  \n",
       "CUSTODY_LEVEL                       MIN  \n",
       "MENTAL_OBSERVATION                    Y  \n",
       "RACE                                  B  \n",
       "GENDER                                M  \n",
       "AGE                                  63  \n",
       "INMATE_STATUS_CODE                   DE  \n",
       "GANG_AFFILIATION                      N  \n",
       "TOP_CHARGE                       120.10  \n",
       "INFRACTION                            N  \n",
       "YEAR                               2017  \n",
       "MONTH                                 6  \n",
       "DAY                                  18  \n",
       "HOUR                                 12  "
      ]
     },
     "execution_count": 14,
     "metadata": {},
     "output_type": "execute_result"
    }
   ],
   "source": [
    "df.head().T"
   ]
  },
  {
   "cell_type": "code",
   "execution_count": 15,
   "metadata": {},
   "outputs": [],
   "source": [
    "df = df.drop(['ADMITTED_DT'],axis=1)"
   ]
  },
  {
   "cell_type": "markdown",
   "metadata": {},
   "source": [
    "## Exploratory Data Analysis (EDA) <a name=\"myanswers\"></a>\n",
    "\n",
    "Let's see some graphs to explore the data."
   ]
  },
  {
   "cell_type": "code",
   "execution_count": 16,
   "metadata": {},
   "outputs": [
    {
     "data": {
      "text/plain": [
       "<matplotlib.axes._subplots.AxesSubplot at 0x21860dc7ef0>"
      ]
     },
     "execution_count": 16,
     "metadata": {},
     "output_type": "execute_result"
    },
    {
     "data": {
      "image/png": "[encoded data removed]",
      "text/plain": [
       "<matplotlib.figure.Figure at 0x21860d96e10>"
      ]
     },
     "metadata": {},
     "output_type": "display_data"
    }
   ],
   "source": [
    "sns.countplot(x = \"GENDER\", data = df, palette=\"Set2\")"
   ]
  },
  {
   "cell_type": "code",
   "execution_count": 32,
   "metadata": {},
   "outputs": [
    {
     "data": {
      "text/plain": [
       "(     INMATE_ID CUSTODY_LEVEL MENTAL_OBSERVATION RACE GENDER   AGE  \\\n",
       " 21    20164663           MED                  Y    B      F  26.0   \n",
       " 50    20178702           MED                  Y    B      F  24.0   \n",
       " 131   20168420           MED                  Y    B      F  57.0   \n",
       " 156   20187452           MIN                  Y    B      F  45.0   \n",
       " 174   20181480           MED                  N    O      F  44.0   \n",
       " \n",
       "     INMATE_STATUS_CODE GANG_AFFILIATION TOP_CHARGE INFRACTION  YEAR  MONTH  \\\n",
       " 21                  DE                N     125.25          N  2016      3   \n",
       " 50                  DE                N     120.10          N  2017      2   \n",
       " 131                 DE                N     125.25          N  2016      6   \n",
       " 156                 DE                N     125.15          N  2017      9   \n",
       " 174                 DE                N         -1          N  2017      4   \n",
       " \n",
       "      DAY  HOUR  \n",
       " 21    16    11  \n",
       " 50    19    21  \n",
       " 131    9    16  \n",
       " 156   29    15  \n",
       " 174   28    20  ,\n",
       "     INMATE_ID CUSTODY_LEVEL MENTAL_OBSERVATION RACE GENDER   AGE  \\\n",
       " 6       56220           MIN                  Y    B      M  42.0   \n",
       " 7       99982           MED                  Y    O      M  59.0   \n",
       " 8      110074           MAX                  N    O      M  38.0   \n",
       " 9    20146640           MAX                  Y    B      M  20.0   \n",
       " 10   20183607           MIN                  Y    B      M  63.0   \n",
       " \n",
       "    INMATE_STATUS_CODE GANG_AFFILIATION  TOP_CHARGE INFRACTION  YEAR  MONTH  \\\n",
       " 6                  DE                N      120.05          N  2017      4   \n",
       " 7                  DE                N      130.50          N  2017      8   \n",
       " 8                  DE                N  110-125.25          N  2017      6   \n",
       " 9                  DE                Y      160.10          Y  2017      8   \n",
       " 10                 DE                N      120.10          N  2017      6   \n",
       " \n",
       "     DAY  HOUR  \n",
       " 6     4    13  \n",
       " 7    21    12  \n",
       " 8     2    20  \n",
       " 9     1    11  \n",
       " 10   18    12  )"
      ]
     },
     "execution_count": 32,
     "metadata": {},
     "output_type": "execute_result"
    }
   ],
   "source": [
    "female = df[df.GENDER == 'F']\n",
    "male = df[df.GENDER == 'M'] \n",
    "female.head(), male.head()"
   ]
  },
  {
   "cell_type": "code",
   "execution_count": 33,
   "metadata": {},
   "outputs": [
    {
     "data": {
      "text/plain": [
       "INMATE_ID             14.512287\n",
       "CUSTODY_LEVEL         14.448473\n",
       "MENTAL_OBSERVATION    14.512287\n",
       "RACE                  14.512287\n",
       "GENDER                14.512287\n",
       "AGE                   14.512287\n",
       "INMATE_STATUS_CODE    14.512287\n",
       "GANG_AFFILIATION      14.512287\n",
       "TOP_CHARGE            14.512287\n",
       "INFRACTION            14.512287\n",
       "YEAR                  14.512287\n",
       "MONTH                 14.512287\n",
       "DAY                   14.512287\n",
       "HOUR                  14.512287\n",
       "dtype: float64"
      ]
     },
     "execution_count": 33,
     "metadata": {},
     "output_type": "execute_result"
    }
   ],
   "source": [
    "ratio = male.count()/female.count()\n",
    "ratio"
   ]
  },
  {
   "cell_type": "markdown",
   "metadata": {},
   "source": [
    "There are 14.45 times as many incarcertaed men as there are women. \n",
    "\n",
    "Let us compare the incarceration of males and females in a more proportioned graph."
   ]
  },
  {
   "cell_type": "code",
   "execution_count": 107,
   "metadata": {},
   "outputs": [
    {
     "data": {
      "text/plain": [
       "Text(0.5,1,'Number of Prisoners who Committed at least One Infraction')"
      ]
     },
     "execution_count": 107,
     "metadata": {},
     "output_type": "execute_result"
    },
    {
     "data": {
      "image/png": "[encoded data removed]",
      "text/plain": [
       "<matplotlib.figure.Figure at 0x2186597f080>"
      ]
     },
     "metadata": {},
     "output_type": "display_data"
    }
   ],
   "source": [
    "sns.countplot(x = 'INFRACTION', hue = 'GENDER', data = df, palette=\"Set2\")\n",
    "plt.title('Number of Prisoners who Committed at least One Infraction')"
   ]
  },
  {
   "cell_type": "code",
   "execution_count": 48,
   "metadata": {},
   "outputs": [
    {
     "data": {
      "text/plain": [
       "Text(0.5,1,'Number of Male Prisoners Under Mental Observation')"
      ]
     },
     "execution_count": 48,
     "metadata": {},
     "output_type": "execute_result"
    },
    {
     "data": {
      "image/png": "[encoded data removed]",
      "text/plain": [
       "<matplotlib.figure.Figure at 0x2186282cf28>"
      ]
     },
     "metadata": {},
     "output_type": "display_data"
    }
   ],
   "source": [
    "sns.countplot(x = 'MENTAL_OBSERVATION', hue = 'GENDER', data = male, palette=\"Set2\")\n",
    "plt.title('Number of Male Prisoners Under Mental Observation')"
   ]
  },
  {
   "cell_type": "code",
   "execution_count": 49,
   "metadata": {},
   "outputs": [
    {
     "data": {
      "text/plain": [
       "Text(0.5,1,'Number of Female Prisoners Under Mental Observation')"
      ]
     },
     "execution_count": 49,
     "metadata": {},
     "output_type": "execute_result"
    },
    {
     "data": {
      "image/png": "[encoded data removed]",
      "text/plain": [
       "<matplotlib.figure.Figure at 0x218627ba828>"
      ]
     },
     "metadata": {},
     "output_type": "display_data"
    }
   ],
   "source": [
    "sns.countplot(x = 'MENTAL_OBSERVATION', hue = 'GENDER', data = female, palette=\"Set2\")\n",
    "plt.title('Number of Female Prisoners Under Mental Observation')"
   ]
  },
  {
   "cell_type": "markdown",
   "metadata": {},
   "source": [
    "A significantly higher ratio of women than men are placed under mental observation."
   ]
  },
  {
   "cell_type": "code",
   "execution_count": 50,
   "metadata": {},
   "outputs": [
    {
     "data": {
      "text/plain": [
       "Text(0.5,1,'Number of Male Prisoners with Gang Affiliations')"
      ]
     },
     "execution_count": 50,
     "metadata": {},
     "output_type": "execute_result"
    },
    {
     "data": {
      "image/png": "[encoded data removed]",
      "text/plain": [
       "<matplotlib.figure.Figure at 0x218616cf048>"
      ]
     },
     "metadata": {},
     "output_type": "display_data"
    }
   ],
   "source": [
    "sns.countplot(x = 'GANG_AFFILIATION', hue = 'GENDER', data = male, palette=\"Set2\")\n",
    "plt.title('Number of Male Prisoners with Gang Affiliations')"
   ]
  },
  {
   "cell_type": "code",
   "execution_count": 51,
   "metadata": {},
   "outputs": [
    {
     "data": {
      "text/plain": [
       "Text(0.5,1,'Number of Female Prisoners with Gang Affiliations')"
      ]
     },
     "execution_count": 51,
     "metadata": {},
     "output_type": "execute_result"
    },
    {
     "data": {
      "image/png": "[encoded data removed]",
      "text/plain": [
       "<matplotlib.figure.Figure at 0x2186296de80>"
      ]
     },
     "metadata": {},
     "output_type": "display_data"
    }
   ],
   "source": [
    "sns.countplot(x = 'GANG_AFFILIATION', hue = 'GENDER', data = female, palette=\"Set2\")\n",
    "plt.title('Number of Female Prisoners with Gang Affiliations')"
   ]
  },
  {
   "cell_type": "code",
   "execution_count": 111,
   "metadata": {},
   "outputs": [
    {
     "data": {
      "text/plain": [
       "Text(0.5,1,'Number of Infractions with Gang Affiliations')"
      ]
     },
     "execution_count": 111,
     "metadata": {},
     "output_type": "execute_result"
    },
    {
     "data": {
      "image/png": "[encoded data removed]",
      "text/plain": [
       "<matplotlib.figure.Figure at 0x21865d2c898>"
      ]
     },
     "metadata": {},
     "output_type": "display_data"
    }
   ],
   "source": [
    "sns.countplot(x = 'INFRACTION', hue = 'GANG_AFFILIATION', data = df, palette=\"Set2\")\n",
    "plt.title('Number of Infractions with Gang Affiliations')"
   ]
  },
  {
   "cell_type": "markdown",
   "metadata": {},
   "source": [
    "Thankfully there does not seem to be a great amount of relative gang affiliation among the inmates. We expected to see higher numbers but we are happily wrong. We are hoping that means that gang life is not proliferant in the City of New York instead of taking the low numbers to mean that a good number of gang members have not caught or incarcerated yet. It could be that the gang members are committing no crime to be arrested for or that they are very good at not getting caught. We will leave that to the appropriate departments and experts to decide."
   ]
  },
  {
   "cell_type": "code",
   "execution_count": 99,
   "metadata": {},
   "outputs": [
    {
     "data": {
      "text/plain": [
       "Text(0.5,1,'Level of Security of Prisoners by Gender')"
      ]
     },
     "execution_count": 99,
     "metadata": {},
     "output_type": "execute_result"
    },
    {
     "data": {
      "image/png": "[encoded data removed]",
      "text/plain": [
       "<matplotlib.figure.Figure at 0x2186553be80>"
      ]
     },
     "metadata": {},
     "output_type": "display_data"
    }
   ],
   "source": [
    "sns.countplot(x = 'CUSTODY_LEVEL', hue = 'GENDER', data = df, palette=\"Set2\", order = df['CUSTODY_LEVEL'].value_counts().index)\n",
    "plt.title('Level of Security of Prisoners by Gender')"
   ]
  },
  {
   "cell_type": "code",
   "execution_count": 98,
   "metadata": {},
   "outputs": [
    {
     "data": {
      "text/plain": [
       "Text(0.5,1,'Level of Security of Male Prisoners')"
      ]
     },
     "execution_count": 98,
     "metadata": {},
     "output_type": "execute_result"
    },
    {
     "data": {
      "image/png": "[encoded data removed]",
      "text/plain": [
       "<matplotlib.figure.Figure at 0x21864c2cf98>"
      ]
     },
     "metadata": {},
     "output_type": "display_data"
    }
   ],
   "source": [
    "sns.countplot(x = 'CUSTODY_LEVEL', hue = 'GENDER', data = male, palette=\"Set2\")\n",
    "plt.title('Level of Security of Male Prisoners')"
   ]
  },
  {
   "cell_type": "code",
   "execution_count": 100,
   "metadata": {},
   "outputs": [
    {
     "data": {
      "text/plain": [
       "Text(0.5,1,'Level of Security of Female Prisoners')"
      ]
     },
     "execution_count": 100,
     "metadata": {},
     "output_type": "execute_result"
    },
    {
     "data": {
      "image/png": "[encoded data removed]",
      "text/plain": [
       "<matplotlib.figure.Figure at 0x21865592c88>"
      ]
     },
     "metadata": {},
     "output_type": "display_data"
    }
   ],
   "source": [
    "sns.countplot(x = 'CUSTODY_LEVEL', hue = 'GENDER', data = female, palette=\"Set2\")\n",
    "plt.title('Level of Security of Female Prisoners')"
   ]
  },
  {
   "cell_type": "markdown",
   "metadata": {},
   "source": [
    "We can see that the highest proportion of men and women are at medium security custody level and that the least proportion is in maximum security. That holds true for both genders. \n",
    "\n",
    "Let us now see what the top 10 top charges are."
   ]
  },
  {
   "cell_type": "code",
   "execution_count": 67,
   "metadata": {},
   "outputs": [
    {
     "data": {
      "text/plain": [
       "-1            922\n",
       "125.25        521\n",
       "160.15        407\n",
       "120.05        349\n",
       "110-125.25    347\n",
       "265.03        321\n",
       "140.25        317\n",
       "220.39        284\n",
       "220.16        281\n",
       "160.10        268\n",
       "140.20        237\n",
       "Name: TOP_CHARGE, dtype: int64"
      ]
     },
     "execution_count": 67,
     "metadata": {},
     "output_type": "execute_result"
    }
   ],
   "source": [
    "df['TOP_CHARGE'].value_counts().head(11)"
   ]
  },
  {
   "cell_type": "markdown",
   "metadata": {},
   "source": [
    "Recall that a '-1' was imputed in place of all the TOP_CHARGE values that were missing from the original dataframe. Using the New York State Law website, the following labels to the above charges were found. The website is here: http://ypdcrime.com/. \n",
    "\n",
    "- 125.25 is 'Murder in the second degree'.\n",
    "- 160.15 is 'Robbery in the first degree'.\n",
    "- 110-125.25, if treated as a range, is 'Attempt to commit a crime' to 'Murder in the first degree'. No singular offense was found for this charge.\n",
    "- 120.05 is 'Assault in the second degree'.\n",
    "- 265.03 is 'Criminal possession of a weapon in the second degree'.\n",
    "- 140.25 is 'Burglary in the second degree'.\n",
    "- 220.39 is 'Criminal sale of a controlled substance in the third degree'.\n",
    "- 220.16 is 'Criminal possession of a controlled substance in the third degree'.\n",
    "- 160.10 is 'Robbery in the second degree'.\n",
    "- 140.20 is 'Burglary in the third degree'.\n",
    "\n",
    "We can see that four of ten of these most frequent charges are of or relating to theft or the intention to commit theft. Six of the charges require face-to-face interaction with another person, presumably a victim."
   ]
  },
  {
   "cell_type": "code",
   "execution_count": 75,
   "metadata": {},
   "outputs": [
    {
     "data": {
      "text/plain": [
       "Text(0.5,0,'Age')"
      ]
     },
     "execution_count": 75,
     "metadata": {},
     "output_type": "execute_result"
    },
    {
     "data": {
      "image/png": "[encoded data removed]",
      "text/plain": [
       "<matplotlib.figure.Figure at 0x21862c213c8>"
      ]
     },
     "metadata": {},
     "output_type": "display_data"
    }
   ],
   "source": [
    "age_df = df[\"AGE\"].dropna()\n",
    "age_df.plot.hist()\n",
    "plt.xlabel(\"Age\")"
   ]
  },
  {
   "cell_type": "code",
   "execution_count": 76,
   "metadata": {},
   "outputs": [
    {
     "data": {
      "text/html": [
       "<div>\n",
       "<style scoped>\n",
       "    .dataframe tbody tr th:only-of-type {\n",
       "        vertical-align: middle;\n",
       "    }\n",
       "\n",
       "    .dataframe tbody tr th {\n",
       "        vertical-align: top;\n",
       "    }\n",
       "\n",
       "    .dataframe thead th {\n",
       "        text-align: right;\n",
       "    }\n",
       "</style>\n",
       "<table border=\"1\" class=\"dataframe\">\n",
       "  <thead>\n",
       "    <tr style=\"text-align: right;\">\n",
       "      <th></th>\n",
       "      <th>INMATE_ID</th>\n",
       "      <th>CUSTODY_LEVEL</th>\n",
       "      <th>MENTAL_OBSERVATION</th>\n",
       "      <th>RACE</th>\n",
       "      <th>GENDER</th>\n",
       "      <th>AGE</th>\n",
       "      <th>INMATE_STATUS_CODE</th>\n",
       "      <th>GANG_AFFILIATION</th>\n",
       "      <th>TOP_CHARGE</th>\n",
       "      <th>INFRACTION</th>\n",
       "      <th>YEAR</th>\n",
       "      <th>MONTH</th>\n",
       "      <th>DAY</th>\n",
       "      <th>HOUR</th>\n",
       "    </tr>\n",
       "  </thead>\n",
       "  <tbody>\n",
       "    <tr>\n",
       "      <th>33</th>\n",
       "      <td>20175963</td>\n",
       "      <td>NaN</td>\n",
       "      <td>N</td>\n",
       "      <td>B</td>\n",
       "      <td>M</td>\n",
       "      <td>17.0</td>\n",
       "      <td>DE</td>\n",
       "      <td>N</td>\n",
       "      <td>-1</td>\n",
       "      <td>N</td>\n",
       "      <td>2016</td>\n",
       "      <td>12</td>\n",
       "      <td>9</td>\n",
       "      <td>20</td>\n",
       "    </tr>\n",
       "    <tr>\n",
       "      <th>184</th>\n",
       "      <td>20186674</td>\n",
       "      <td>MAX</td>\n",
       "      <td>N</td>\n",
       "      <td>B</td>\n",
       "      <td>M</td>\n",
       "      <td>17.0</td>\n",
       "      <td>DE</td>\n",
       "      <td>Y</td>\n",
       "      <td>160.15</td>\n",
       "      <td>Y</td>\n",
       "      <td>2017</td>\n",
       "      <td>9</td>\n",
       "      <td>8</td>\n",
       "      <td>13</td>\n",
       "    </tr>\n",
       "    <tr>\n",
       "      <th>501</th>\n",
       "      <td>20180140</td>\n",
       "      <td>MAX</td>\n",
       "      <td>Y</td>\n",
       "      <td>O</td>\n",
       "      <td>M</td>\n",
       "      <td>17.0</td>\n",
       "      <td>DE</td>\n",
       "      <td>Y</td>\n",
       "      <td>120.10</td>\n",
       "      <td>Y</td>\n",
       "      <td>2017</td>\n",
       "      <td>3</td>\n",
       "      <td>28</td>\n",
       "      <td>1</td>\n",
       "    </tr>\n",
       "    <tr>\n",
       "      <th>1190</th>\n",
       "      <td>20191841</td>\n",
       "      <td>MAX</td>\n",
       "      <td>Y</td>\n",
       "      <td>B</td>\n",
       "      <td>M</td>\n",
       "      <td>17.0</td>\n",
       "      <td>DE</td>\n",
       "      <td>N</td>\n",
       "      <td>110-125.25</td>\n",
       "      <td>Y</td>\n",
       "      <td>2018</td>\n",
       "      <td>2</td>\n",
       "      <td>3</td>\n",
       "      <td>2</td>\n",
       "    </tr>\n",
       "    <tr>\n",
       "      <th>1236</th>\n",
       "      <td>20183832</td>\n",
       "      <td>MAX</td>\n",
       "      <td>Y</td>\n",
       "      <td>O</td>\n",
       "      <td>M</td>\n",
       "      <td>17.0</td>\n",
       "      <td>DE</td>\n",
       "      <td>Y</td>\n",
       "      <td>160.10</td>\n",
       "      <td>Y</td>\n",
       "      <td>2018</td>\n",
       "      <td>3</td>\n",
       "      <td>12</td>\n",
       "      <td>11</td>\n",
       "    </tr>\n",
       "  </tbody>\n",
       "</table>\n",
       "</div>"
      ],
      "text/plain": [
       "      INMATE_ID CUSTODY_LEVEL MENTAL_OBSERVATION RACE GENDER   AGE  \\\n",
       "33     20175963           NaN                  N    B      M  17.0   \n",
       "184    20186674           MAX                  N    B      M  17.0   \n",
       "501    20180140           MAX                  Y    O      M  17.0   \n",
       "1190   20191841           MAX                  Y    B      M  17.0   \n",
       "1236   20183832           MAX                  Y    O      M  17.0   \n",
       "\n",
       "     INMATE_STATUS_CODE GANG_AFFILIATION  TOP_CHARGE INFRACTION  YEAR  MONTH  \\\n",
       "33                   DE                N          -1          N  2016     12   \n",
       "184                  DE                Y      160.15          Y  2017      9   \n",
       "501                  DE                Y      120.10          Y  2017      3   \n",
       "1190                 DE                N  110-125.25          Y  2018      2   \n",
       "1236                 DE                Y      160.10          Y  2018      3   \n",
       "\n",
       "      DAY  HOUR  \n",
       "33      9    20  \n",
       "184     8    13  \n",
       "501    28     1  \n",
       "1190    3     2  \n",
       "1236   12    11  "
      ]
     },
     "execution_count": 76,
     "metadata": {},
     "output_type": "execute_result"
    }
   ],
   "source": [
    "df3 = df[df['AGE'] < 18]\n",
    "df3.head()"
   ]
  },
  {
   "cell_type": "code",
   "execution_count": 77,
   "metadata": {},
   "outputs": [
    {
     "name": "stdout",
     "output_type": "stream",
     "text": [
      "<class 'pandas.core.frame.DataFrame'>\n",
      "Int64Index: 94 entries, 33 to 8035\n",
      "Data columns (total 14 columns):\n",
      "INMATE_ID             94 non-null int64\n",
      "CUSTODY_LEVEL         87 non-null object\n",
      "MENTAL_OBSERVATION    94 non-null object\n",
      "RACE                  94 non-null object\n",
      "GENDER                94 non-null object\n",
      "AGE                   94 non-null float64\n",
      "INMATE_STATUS_CODE    94 non-null object\n",
      "GANG_AFFILIATION      94 non-null object\n",
      "TOP_CHARGE            94 non-null object\n",
      "INFRACTION            94 non-null object\n",
      "YEAR                  94 non-null int64\n",
      "MONTH                 94 non-null int64\n",
      "DAY                   94 non-null int64\n",
      "HOUR                  94 non-null int64\n",
      "dtypes: float64(1), int64(5), object(8)\n",
      "memory usage: 11.0+ KB\n"
     ]
    }
   ],
   "source": [
    "df3.info()"
   ]
  },
  {
   "cell_type": "code",
   "execution_count": 78,
   "metadata": {},
   "outputs": [
    {
     "data": {
      "text/plain": [
       "Text(0.5,1,'Level of Security of 16-17 YO Prisoners by Gender')"
      ]
     },
     "execution_count": 78,
     "metadata": {},
     "output_type": "execute_result"
    },
    {
     "data": {
      "image/png": "[encoded data removed]",
      "text/plain": [
       "<matplotlib.figure.Figure at 0x2186284fbe0>"
      ]
     },
     "metadata": {},
     "output_type": "display_data"
    }
   ],
   "source": [
    "sns.countplot(x = 'CUSTODY_LEVEL', hue = 'GENDER', data = df3, palette=\"Set2\")\n",
    "plt.title('Level of Security of 16-17 YO Prisoners by Gender')"
   ]
  },
  {
   "cell_type": "code",
   "execution_count": 79,
   "metadata": {},
   "outputs": [
    {
     "data": {
      "text/plain": [
       "Text(0.5,1,'Gang Affiliation of 16-17 YO Prisoners by Gender')"
      ]
     },
     "execution_count": 79,
     "metadata": {},
     "output_type": "execute_result"
    },
    {
     "data": {
      "image/png": "[encoded data removed]",
      "text/plain": [
       "<matplotlib.figure.Figure at 0x21862b81780>"
      ]
     },
     "metadata": {},
     "output_type": "display_data"
    }
   ],
   "source": [
    "sns.countplot(x = 'GANG_AFFILIATION', hue = 'GENDER', data = df3, palette=\"Set2\")\n",
    "plt.title('Gang Affiliation of 16-17 YO Prisoners by Gender')"
   ]
  },
  {
   "cell_type": "markdown",
   "metadata": {},
   "source": [
    "A majority of the 16-17 year olds are placed in maximum security custody levels! However we can see, thankfully, that a majority of them do not have gang affiliations at the time of their incarceration using the yscale. However the proportions are larger than that of the adults."
   ]
  },
  {
   "cell_type": "code",
   "execution_count": 80,
   "metadata": {},
   "outputs": [
    {
     "data": {
      "text/plain": [
       "160.15        23\n",
       "160.10        15\n",
       "110-125.25    12\n",
       "265.03         8\n",
       "125.25         6\n",
       "-1             6\n",
       "105.15         4\n",
       "140.25         3\n",
       "120.00         2\n",
       "110-160.15     2\n",
       "110-160.10     1\n",
       "Name: TOP_CHARGE, dtype: int64"
      ]
     },
     "execution_count": 80,
     "metadata": {},
     "output_type": "execute_result"
    }
   ],
   "source": [
    "df3['TOP_CHARGE'].value_counts().head(11)"
   ]
  },
  {
   "cell_type": "markdown",
   "metadata": {},
   "source": [
    "The most frequent charges for 16-17 year olds is as follows:\n",
    "\n",
    "- 160.15 is 'Robbery in the first degree'.\n",
    "- 160.10 is 'Robbery in the second degree'.\n",
    "- 110-125.25, if treated as a range, is 'Attempt to commit a crime' to 'Murder in the first degree'. No singular offense was found for this charge.\n",
    "- 265.03 is 'Criminal possession of a weapon in the second degree'.\n",
    "- 125.25 is 'Murder in the second degree'.\n",
    "- 105.15 is 'Conspiracy in the second degree'.\n",
    "- 140.25 is 'Burglary in the second degree'.\n",
    "- 120.00 is 'Assault in the third degree'.\n",
    "- 110-160.15, if treated as a range, is 'Attempt to commit a crime' to 'Robbery in the first degree'. No singular offense was found for this charge.\n",
    "- 110-160.10, if treated as a range, is 'Attempt to commit a crime' to 'Robbery in the second degree'. No singular offense was found for this charge. \n",
    "\n",
    "Five of these top ten most frequent charges involve theft or the intent to commit theft. Four of the top ten required face-to-face interaction with, again presumably, a victim.\n",
    "\n",
    "Two of the most frequent charges for 16-17 year olds were of the murder variety. Same with the 18+ year olds. However, we can see in the graphs that a majority of the adults are under a medium CUSTODY_LEVEL whereas a majority of the 16-17 year olds are under a maximum CUSTODY_LEVEL.\n",
    "\n",
    "Now that we've explored age and gender, let's take a look at race."
   ]
  },
  {
   "cell_type": "code",
   "execution_count": 81,
   "metadata": {},
   "outputs": [
    {
     "data": {
      "text/plain": [
       "Text(0,0.5,'Number of Inmates')"
      ]
     },
     "execution_count": 81,
     "metadata": {},
     "output_type": "execute_result"
    },
    {
     "data": {
      "image/png": "[encoded data removed]",
      "text/plain": [
       "<matplotlib.figure.Figure at 0x21862d0f908>"
      ]
     },
     "metadata": {},
     "output_type": "display_data"
    }
   ],
   "source": [
    "plt.figure(figsize=(20,7))\n",
    "sns.countplot(x='RACE', hue='GENDER', data=df, palette=\"Set2\")\n",
    "plt.ylabel(\"Number of Inmates\")"
   ]
  },
  {
   "cell_type": "code",
   "execution_count": 82,
   "metadata": {},
   "outputs": [
    {
     "data": {
      "text/plain": [
       "Text(0,0.5,'Number of Inmates')"
      ]
     },
     "execution_count": 82,
     "metadata": {},
     "output_type": "execute_result"
    },
    {
     "data": {
      "image/png": "[encoded data removed]",
      "text/plain": [
       "<matplotlib.figure.Figure at 0x21862d7f668>"
      ]
     },
     "metadata": {},
     "output_type": "display_data"
    }
   ],
   "source": [
    "plt.figure(figsize=(10,7))\n",
    "sns.countplot(x='GENDER', hue='RACE', data=df, palette=\"Set2\")\n",
    "plt.ylabel(\"Number of Inmates\")"
   ]
  },
  {
   "cell_type": "markdown",
   "metadata": {},
   "source": [
    "These two graphs present the SAME INFORMATION but in two different visualizations."
   ]
  },
  {
   "cell_type": "code",
   "execution_count": 83,
   "metadata": {},
   "outputs": [
    {
     "data": {
      "text/plain": [
       "Text(0,0.5,'Number of Inmates')"
      ]
     },
     "execution_count": 83,
     "metadata": {},
     "output_type": "execute_result"
    },
    {
     "data": {
      "image/png": "[encoded data removed]",
      "text/plain": [
       "<matplotlib.figure.Figure at 0x21864287e48>"
      ]
     },
     "metadata": {},
     "output_type": "display_data"
    }
   ],
   "source": [
    "plt.figure(figsize=(10,7))\n",
    "sns.countplot(x='MENTAL_OBSERVATION', hue='RACE', data=df, palette=\"Set2\")\n",
    "plt.ylabel(\"Number of Inmates\")"
   ]
  },
  {
   "cell_type": "code",
   "execution_count": 103,
   "metadata": {},
   "outputs": [
    {
     "data": {
      "text/plain": [
       "Text(0.5,1,'Race on Infraction')"
      ]
     },
     "execution_count": 103,
     "metadata": {},
     "output_type": "execute_result"
    },
    {
     "data": {
      "image/png": "[encoded data removed]",
      "text/plain": [
       "<matplotlib.figure.Figure at 0x218656d4a90>"
      ]
     },
     "metadata": {},
     "output_type": "display_data"
    }
   ],
   "source": [
    "plt.figure(figsize=(10,7))\n",
    "sns.countplot(x='INFRACTION', hue='RACE', data=df, palette=\"Set2\")\n",
    "plt.ylabel(\"Number of Inmates\")\n",
    "plt.title('Race on Infraction')"
   ]
  },
  {
   "cell_type": "code",
   "execution_count": 104,
   "metadata": {},
   "outputs": [
    {
     "data": {
      "text/plain": [
       "Text(0.5,1,'Race on Custody Level')"
      ]
     },
     "execution_count": 104,
     "metadata": {},
     "output_type": "execute_result"
    },
    {
     "data": {
      "image/png": "[encoded data removed]",
      "text/plain": [
       "<matplotlib.figure.Figure at 0x2186574fac8>"
      ]
     },
     "metadata": {},
     "output_type": "display_data"
    }
   ],
   "source": [
    "plt.figure(figsize=(10,7))\n",
    "sns.countplot(x='CUSTODY_LEVEL', hue='RACE', data=df, palette=\"Set2\")\n",
    "plt.ylabel(\"Number of Inmates\")\n",
    "plt.title('Race on Custody Level')"
   ]
  },
  {
   "cell_type": "markdown",
   "metadata": {},
   "source": [
    "In relevance to race, there is nothing noteworthy when comparing the genders in incarceration. Race has no bearing on the existence of infractions either. There are proportionally less of each race under mental observation except for the White and Islander populations. Those races have more people under mental observation than not. "
   ]
  },
  {
   "cell_type": "markdown",
   "metadata": {},
   "source": [
    "## Machine Learning <a name=\"ml\"></a>"
   ]
  },
  {
   "cell_type": "markdown",
   "metadata": {},
   "source": [
    "Now is the time to build an algorithm that will allow us to predict the missing CUSTODY_LEVEL values without doing a simple imputation. For this we will drop the AGE feature from the dataframe. This is because if they are included in this dataset they were tried as an adult and not in a juvenile court. Therefore the 16-17 year olds would have been given the same level of consideration as the adults.\n",
    "\n",
    "We will also drop the MONTH, DAY, and HOUR features from the dataframe as we do not believe that any pattern will emerge distinctly on a month-to-month or smaller basis that has a bearing on the CUSTODY_LEVEL. We believe that should a pattern occur, it will likely be found and visible in the YEAR feature. Any changes in law or the policies of the presiding judge would be more evident by the YEAR.\n",
    "\n",
    "We will also drop INMATE_ID as that will not help us determine any distinctions in CUSTODY_LABEL."
   ]
  },
  {
   "cell_type": "code",
   "execution_count": 89,
   "metadata": {},
   "outputs": [
    {
     "name": "stdout",
     "output_type": "stream",
     "text": [
      "<class 'pandas.core.frame.DataFrame'>\n",
      "Int64Index: 8206 entries, 6 to 8227\n",
      "Data columns (total 14 columns):\n",
      "INMATE_ID             8206 non-null int64\n",
      "CUSTODY_LEVEL         8095 non-null object\n",
      "MENTAL_OBSERVATION    8206 non-null object\n",
      "RACE                  8206 non-null object\n",
      "GENDER                8206 non-null object\n",
      "AGE                   8206 non-null float64\n",
      "INMATE_STATUS_CODE    8206 non-null object\n",
      "GANG_AFFILIATION      8206 non-null object\n",
      "TOP_CHARGE            8206 non-null object\n",
      "INFRACTION            8206 non-null object\n",
      "YEAR                  8206 non-null int64\n",
      "MONTH                 8206 non-null int64\n",
      "DAY                   8206 non-null int64\n",
      "HOUR                  8206 non-null int64\n",
      "dtypes: float64(1), int64(5), object(8)\n",
      "memory usage: 1.3+ MB\n"
     ]
    }
   ],
   "source": [
    "df.info()"
   ]
  },
  {
   "cell_type": "code",
   "execution_count": 90,
   "metadata": {},
   "outputs": [
    {
     "data": {
      "text/html": [
       "<div>\n",
       "<style scoped>\n",
       "    .dataframe tbody tr th:only-of-type {\n",
       "        vertical-align: middle;\n",
       "    }\n",
       "\n",
       "    .dataframe tbody tr th {\n",
       "        vertical-align: top;\n",
       "    }\n",
       "\n",
       "    .dataframe thead th {\n",
       "        text-align: right;\n",
       "    }\n",
       "</style>\n",
       "<table border=\"1\" class=\"dataframe\">\n",
       "  <thead>\n",
       "    <tr style=\"text-align: right;\">\n",
       "      <th></th>\n",
       "      <th>CUSTODY_LEVEL</th>\n",
       "      <th>MENTAL_OBSERVATION</th>\n",
       "      <th>RACE</th>\n",
       "      <th>GENDER</th>\n",
       "      <th>INMATE_STATUS_CODE</th>\n",
       "      <th>GANG_AFFILIATION</th>\n",
       "      <th>TOP_CHARGE</th>\n",
       "      <th>INFRACTION</th>\n",
       "      <th>YEAR</th>\n",
       "    </tr>\n",
       "  </thead>\n",
       "  <tbody>\n",
       "    <tr>\n",
       "      <th>6</th>\n",
       "      <td>MIN</td>\n",
       "      <td>Y</td>\n",
       "      <td>B</td>\n",
       "      <td>M</td>\n",
       "      <td>DE</td>\n",
       "      <td>N</td>\n",
       "      <td>120.05</td>\n",
       "      <td>N</td>\n",
       "      <td>2017</td>\n",
       "    </tr>\n",
       "    <tr>\n",
       "      <th>7</th>\n",
       "      <td>MED</td>\n",
       "      <td>Y</td>\n",
       "      <td>O</td>\n",
       "      <td>M</td>\n",
       "      <td>DE</td>\n",
       "      <td>N</td>\n",
       "      <td>130.50</td>\n",
       "      <td>N</td>\n",
       "      <td>2017</td>\n",
       "    </tr>\n",
       "    <tr>\n",
       "      <th>8</th>\n",
       "      <td>MAX</td>\n",
       "      <td>N</td>\n",
       "      <td>O</td>\n",
       "      <td>M</td>\n",
       "      <td>DE</td>\n",
       "      <td>N</td>\n",
       "      <td>110-125.25</td>\n",
       "      <td>N</td>\n",
       "      <td>2017</td>\n",
       "    </tr>\n",
       "    <tr>\n",
       "      <th>9</th>\n",
       "      <td>MAX</td>\n",
       "      <td>Y</td>\n",
       "      <td>B</td>\n",
       "      <td>M</td>\n",
       "      <td>DE</td>\n",
       "      <td>Y</td>\n",
       "      <td>160.10</td>\n",
       "      <td>Y</td>\n",
       "      <td>2017</td>\n",
       "    </tr>\n",
       "    <tr>\n",
       "      <th>10</th>\n",
       "      <td>MIN</td>\n",
       "      <td>Y</td>\n",
       "      <td>B</td>\n",
       "      <td>M</td>\n",
       "      <td>DE</td>\n",
       "      <td>N</td>\n",
       "      <td>120.10</td>\n",
       "      <td>N</td>\n",
       "      <td>2017</td>\n",
       "    </tr>\n",
       "  </tbody>\n",
       "</table>\n",
       "</div>"
      ],
      "text/plain": [
       "   CUSTODY_LEVEL MENTAL_OBSERVATION RACE GENDER INMATE_STATUS_CODE  \\\n",
       "6            MIN                  Y    B      M                 DE   \n",
       "7            MED                  Y    O      M                 DE   \n",
       "8            MAX                  N    O      M                 DE   \n",
       "9            MAX                  Y    B      M                 DE   \n",
       "10           MIN                  Y    B      M                 DE   \n",
       "\n",
       "   GANG_AFFILIATION  TOP_CHARGE INFRACTION  YEAR  \n",
       "6                 N      120.05          N  2017  \n",
       "7                 N      130.50          N  2017  \n",
       "8                 N  110-125.25          N  2017  \n",
       "9                 Y      160.10          Y  2017  \n",
       "10                N      120.10          N  2017  "
      ]
     },
     "execution_count": 90,
     "metadata": {},
     "output_type": "execute_result"
    }
   ],
   "source": [
    "del df['INMATE_ID']\n",
    "del df['AGE'] \n",
    "del df['MONTH']\n",
    "del df['DAY']\n",
    "del df['HOUR']\n",
    "df.head()"
   ]
  },
  {
   "cell_type": "code",
   "execution_count": 112,
   "metadata": {},
   "outputs": [
    {
     "data": {
      "text/html": [
       "<div>\n",
       "<style scoped>\n",
       "    .dataframe tbody tr th:only-of-type {\n",
       "        vertical-align: middle;\n",
       "    }\n",
       "\n",
       "    .dataframe tbody tr th {\n",
       "        vertical-align: top;\n",
       "    }\n",
       "\n",
       "    .dataframe thead th {\n",
       "        text-align: right;\n",
       "    }\n",
       "</style>\n",
       "<table border=\"1\" class=\"dataframe\">\n",
       "  <thead>\n",
       "    <tr style=\"text-align: right;\">\n",
       "      <th></th>\n",
       "      <th>MENTAL_OBSERVATION</th>\n",
       "      <th>RACE</th>\n",
       "      <th>GENDER</th>\n",
       "      <th>INMATE_STATUS_CODE</th>\n",
       "      <th>GANG_AFFILIATION</th>\n",
       "      <th>TOP_CHARGE</th>\n",
       "      <th>INFRACTION</th>\n",
       "      <th>YEAR</th>\n",
       "    </tr>\n",
       "  </thead>\n",
       "  <tbody>\n",
       "    <tr>\n",
       "      <th>6</th>\n",
       "      <td>Y</td>\n",
       "      <td>B</td>\n",
       "      <td>M</td>\n",
       "      <td>DE</td>\n",
       "      <td>N</td>\n",
       "      <td>120.05</td>\n",
       "      <td>N</td>\n",
       "      <td>2017</td>\n",
       "    </tr>\n",
       "    <tr>\n",
       "      <th>7</th>\n",
       "      <td>Y</td>\n",
       "      <td>O</td>\n",
       "      <td>M</td>\n",
       "      <td>DE</td>\n",
       "      <td>N</td>\n",
       "      <td>130.50</td>\n",
       "      <td>N</td>\n",
       "      <td>2017</td>\n",
       "    </tr>\n",
       "    <tr>\n",
       "      <th>8</th>\n",
       "      <td>N</td>\n",
       "      <td>O</td>\n",
       "      <td>M</td>\n",
       "      <td>DE</td>\n",
       "      <td>N</td>\n",
       "      <td>110-125.25</td>\n",
       "      <td>N</td>\n",
       "      <td>2017</td>\n",
       "    </tr>\n",
       "    <tr>\n",
       "      <th>9</th>\n",
       "      <td>Y</td>\n",
       "      <td>B</td>\n",
       "      <td>M</td>\n",
       "      <td>DE</td>\n",
       "      <td>Y</td>\n",
       "      <td>160.10</td>\n",
       "      <td>Y</td>\n",
       "      <td>2017</td>\n",
       "    </tr>\n",
       "    <tr>\n",
       "      <th>10</th>\n",
       "      <td>Y</td>\n",
       "      <td>B</td>\n",
       "      <td>M</td>\n",
       "      <td>DE</td>\n",
       "      <td>N</td>\n",
       "      <td>120.10</td>\n",
       "      <td>N</td>\n",
       "      <td>2017</td>\n",
       "    </tr>\n",
       "  </tbody>\n",
       "</table>\n",
       "</div>"
      ],
      "text/plain": [
       "   MENTAL_OBSERVATION RACE GENDER INMATE_STATUS_CODE GANG_AFFILIATION  \\\n",
       "6                   Y    B      M                 DE                N   \n",
       "7                   Y    O      M                 DE                N   \n",
       "8                   N    O      M                 DE                N   \n",
       "9                   Y    B      M                 DE                Y   \n",
       "10                  Y    B      M                 DE                N   \n",
       "\n",
       "    TOP_CHARGE INFRACTION  YEAR  \n",
       "6       120.05          N  2017  \n",
       "7       130.50          N  2017  \n",
       "8   110-125.25          N  2017  \n",
       "9       160.10          Y  2017  \n",
       "10      120.10          N  2017  "
      ]
     },
     "execution_count": 112,
     "metadata": {},
     "output_type": "execute_result"
    }
   ],
   "source": [
    "X = df.drop('CUSTODY_LEVEL', axis = 1) \n",
    "y = df['CUSTODY_LEVEL']\n",
    "\n",
    "X.head()"
   ]
  },
  {
   "cell_type": "markdown",
   "metadata": {},
   "source": [
    "Since these values and those in CUSTODY_LABEL are all labelled we will use a supervised machine learning method. Since these values are all categorical, they will need to be converted to numeric to work with any algorithm. We will use a one-hot encoder for each of the features. This will give us an estimated 300 columns of data."
   ]
  },
  {
   "cell_type": "code",
   "execution_count": 115,
   "metadata": {},
   "outputs": [
    {
     "ename": "ValueError",
     "evalue": "labels ['MENTAL_OBSERVATION' 'RACE' 'GENDER' 'INMATE_STATUS_CODE'\n 'GANG_AFFILIATION' 'TOP_CHARGE' 'INFRACTION' 'YEAR'] not contained in axis",
     "output_type": "error",
     "traceback": [
      "\u001b[1;31m---------------------------------------------------------------------------\u001b[0m",
      "\u001b[1;31mValueError\u001b[0m                                Traceback (most recent call last)",
      "\u001b[1;32m<ipython-input-115-d21841836543>\u001b[0m in \u001b[0;36m<module>\u001b[1;34m()\u001b[0m\n\u001b[1;32m----> 1\u001b[1;33m \u001b[0mX\u001b[0m \u001b[1;33m=\u001b[0m \u001b[0mpd\u001b[0m\u001b[1;33m.\u001b[0m\u001b[0mget_dummies\u001b[0m\u001b[1;33m(\u001b[0m\u001b[0mX\u001b[0m\u001b[1;33m,\u001b[0m \u001b[0mcolumns\u001b[0m\u001b[1;33m=\u001b[0m\u001b[1;33m[\u001b[0m\u001b[1;34m'MENTAL_OBSERVATION'\u001b[0m\u001b[1;33m,\u001b[0m \u001b[1;34m'RACE'\u001b[0m\u001b[1;33m,\u001b[0m \u001b[1;34m'GENDER'\u001b[0m\u001b[1;33m,\u001b[0m \u001b[1;34m'INMATE_STATUS_CODE'\u001b[0m\u001b[1;33m,\u001b[0m \u001b[1;34m'GANG_AFFILIATION'\u001b[0m\u001b[1;33m,\u001b[0m \u001b[1;34m'TOP_CHARGE'\u001b[0m\u001b[1;33m,\u001b[0m \u001b[1;34m'INFRACTION'\u001b[0m\u001b[1;33m,\u001b[0m \u001b[1;34m'YEAR'\u001b[0m\u001b[1;33m]\u001b[0m\u001b[1;33m)\u001b[0m\u001b[1;33m\u001b[0m\u001b[0m\n\u001b[0m\u001b[0;32m      2\u001b[0m \u001b[0mX\u001b[0m\u001b[1;33m.\u001b[0m\u001b[0mhead\u001b[0m\u001b[1;33m(\u001b[0m\u001b[1;33m)\u001b[0m\u001b[1;33m\u001b[0m\u001b[0m\n",
      "\u001b[1;32m~\\Anaconda3\\lib\\site-packages\\pandas\\core\\reshape\\reshape.py\u001b[0m in \u001b[0;36mget_dummies\u001b[1;34m(data, prefix, prefix_sep, dummy_na, columns, sparse, drop_first)\u001b[0m\n\u001b[0;32m   1202\u001b[0m             \u001b[0mwith_dummies\u001b[0m \u001b[1;33m=\u001b[0m \u001b[1;33m[\u001b[0m\u001b[1;33m]\u001b[0m\u001b[1;33m\u001b[0m\u001b[0m\n\u001b[0;32m   1203\u001b[0m         \u001b[1;32melse\u001b[0m\u001b[1;33m:\u001b[0m\u001b[1;33m\u001b[0m\u001b[0m\n\u001b[1;32m-> 1204\u001b[1;33m             \u001b[0mwith_dummies\u001b[0m \u001b[1;33m=\u001b[0m \u001b[1;33m[\u001b[0m\u001b[0mdata\u001b[0m\u001b[1;33m.\u001b[0m\u001b[0mdrop\u001b[0m\u001b[1;33m(\u001b[0m\u001b[0mcolumns_to_encode\u001b[0m\u001b[1;33m,\u001b[0m \u001b[0maxis\u001b[0m\u001b[1;33m=\u001b[0m\u001b[1;36m1\u001b[0m\u001b[1;33m)\u001b[0m\u001b[1;33m]\u001b[0m\u001b[1;33m\u001b[0m\u001b[0m\n\u001b[0m\u001b[0;32m   1205\u001b[0m \u001b[1;33m\u001b[0m\u001b[0m\n\u001b[0;32m   1206\u001b[0m         \u001b[1;32mfor\u001b[0m \u001b[1;33m(\u001b[0m\u001b[0mcol\u001b[0m\u001b[1;33m,\u001b[0m \u001b[0mpre\u001b[0m\u001b[1;33m,\u001b[0m \u001b[0msep\u001b[0m\u001b[1;33m)\u001b[0m \u001b[1;32min\u001b[0m \u001b[0mzip\u001b[0m\u001b[1;33m(\u001b[0m\u001b[0mcolumns_to_encode\u001b[0m\u001b[1;33m,\u001b[0m \u001b[0mprefix\u001b[0m\u001b[1;33m,\u001b[0m \u001b[0mprefix_sep\u001b[0m\u001b[1;33m)\u001b[0m\u001b[1;33m:\u001b[0m\u001b[1;33m\u001b[0m\u001b[0m\n",
      "\u001b[1;32m~\\Anaconda3\\lib\\site-packages\\pandas\\core\\generic.py\u001b[0m in \u001b[0;36mdrop\u001b[1;34m(self, labels, axis, index, columns, level, inplace, errors)\u001b[0m\n\u001b[0;32m   2528\u001b[0m         \u001b[1;32mfor\u001b[0m \u001b[0maxis\u001b[0m\u001b[1;33m,\u001b[0m \u001b[0mlabels\u001b[0m \u001b[1;32min\u001b[0m \u001b[0maxes\u001b[0m\u001b[1;33m.\u001b[0m\u001b[0mitems\u001b[0m\u001b[1;33m(\u001b[0m\u001b[1;33m)\u001b[0m\u001b[1;33m:\u001b[0m\u001b[1;33m\u001b[0m\u001b[0m\n\u001b[0;32m   2529\u001b[0m             \u001b[1;32mif\u001b[0m \u001b[0mlabels\u001b[0m \u001b[1;32mis\u001b[0m \u001b[1;32mnot\u001b[0m \u001b[1;32mNone\u001b[0m\u001b[1;33m:\u001b[0m\u001b[1;33m\u001b[0m\u001b[0m\n\u001b[1;32m-> 2530\u001b[1;33m                 \u001b[0mobj\u001b[0m \u001b[1;33m=\u001b[0m \u001b[0mobj\u001b[0m\u001b[1;33m.\u001b[0m\u001b[0m_drop_axis\u001b[0m\u001b[1;33m(\u001b[0m\u001b[0mlabels\u001b[0m\u001b[1;33m,\u001b[0m \u001b[0maxis\u001b[0m\u001b[1;33m,\u001b[0m \u001b[0mlevel\u001b[0m\u001b[1;33m=\u001b[0m\u001b[0mlevel\u001b[0m\u001b[1;33m,\u001b[0m \u001b[0merrors\u001b[0m\u001b[1;33m=\u001b[0m\u001b[0merrors\u001b[0m\u001b[1;33m)\u001b[0m\u001b[1;33m\u001b[0m\u001b[0m\n\u001b[0m\u001b[0;32m   2531\u001b[0m \u001b[1;33m\u001b[0m\u001b[0m\n\u001b[0;32m   2532\u001b[0m         \u001b[1;32mif\u001b[0m \u001b[0minplace\u001b[0m\u001b[1;33m:\u001b[0m\u001b[1;33m\u001b[0m\u001b[0m\n",
      "\u001b[1;32m~\\Anaconda3\\lib\\site-packages\\pandas\\core\\generic.py\u001b[0m in \u001b[0;36m_drop_axis\u001b[1;34m(self, labels, axis, level, errors)\u001b[0m\n\u001b[0;32m   2560\u001b[0m                 \u001b[0mnew_axis\u001b[0m \u001b[1;33m=\u001b[0m \u001b[0maxis\u001b[0m\u001b[1;33m.\u001b[0m\u001b[0mdrop\u001b[0m\u001b[1;33m(\u001b[0m\u001b[0mlabels\u001b[0m\u001b[1;33m,\u001b[0m \u001b[0mlevel\u001b[0m\u001b[1;33m=\u001b[0m\u001b[0mlevel\u001b[0m\u001b[1;33m,\u001b[0m \u001b[0merrors\u001b[0m\u001b[1;33m=\u001b[0m\u001b[0merrors\u001b[0m\u001b[1;33m)\u001b[0m\u001b[1;33m\u001b[0m\u001b[0m\n\u001b[0;32m   2561\u001b[0m             \u001b[1;32melse\u001b[0m\u001b[1;33m:\u001b[0m\u001b[1;33m\u001b[0m\u001b[0m\n\u001b[1;32m-> 2562\u001b[1;33m                 \u001b[0mnew_axis\u001b[0m \u001b[1;33m=\u001b[0m \u001b[0maxis\u001b[0m\u001b[1;33m.\u001b[0m\u001b[0mdrop\u001b[0m\u001b[1;33m(\u001b[0m\u001b[0mlabels\u001b[0m\u001b[1;33m,\u001b[0m \u001b[0merrors\u001b[0m\u001b[1;33m=\u001b[0m\u001b[0merrors\u001b[0m\u001b[1;33m)\u001b[0m\u001b[1;33m\u001b[0m\u001b[0m\n\u001b[0m\u001b[0;32m   2563\u001b[0m             \u001b[0mdropped\u001b[0m \u001b[1;33m=\u001b[0m \u001b[0mself\u001b[0m\u001b[1;33m.\u001b[0m\u001b[0mreindex\u001b[0m\u001b[1;33m(\u001b[0m\u001b[1;33m**\u001b[0m\u001b[1;33m{\u001b[0m\u001b[0maxis_name\u001b[0m\u001b[1;33m:\u001b[0m \u001b[0mnew_axis\u001b[0m\u001b[1;33m}\u001b[0m\u001b[1;33m)\u001b[0m\u001b[1;33m\u001b[0m\u001b[0m\n\u001b[0;32m   2564\u001b[0m             \u001b[1;32mtry\u001b[0m\u001b[1;33m:\u001b[0m\u001b[1;33m\u001b[0m\u001b[0m\n",
      "\u001b[1;32m~\\Anaconda3\\lib\\site-packages\\pandas\\core\\indexes\\base.py\u001b[0m in \u001b[0;36mdrop\u001b[1;34m(self, labels, errors)\u001b[0m\n\u001b[0;32m   3742\u001b[0m             \u001b[1;32mif\u001b[0m \u001b[0merrors\u001b[0m \u001b[1;33m!=\u001b[0m \u001b[1;34m'ignore'\u001b[0m\u001b[1;33m:\u001b[0m\u001b[1;33m\u001b[0m\u001b[0m\n\u001b[0;32m   3743\u001b[0m                 raise ValueError('labels %s not contained in axis' %\n\u001b[1;32m-> 3744\u001b[1;33m                                  labels[mask])\n\u001b[0m\u001b[0;32m   3745\u001b[0m             \u001b[0mindexer\u001b[0m \u001b[1;33m=\u001b[0m \u001b[0mindexer\u001b[0m\u001b[1;33m[\u001b[0m\u001b[1;33m~\u001b[0m\u001b[0mmask\u001b[0m\u001b[1;33m]\u001b[0m\u001b[1;33m\u001b[0m\u001b[0m\n\u001b[0;32m   3746\u001b[0m         \u001b[1;32mreturn\u001b[0m \u001b[0mself\u001b[0m\u001b[1;33m.\u001b[0m\u001b[0mdelete\u001b[0m\u001b[1;33m(\u001b[0m\u001b[0mindexer\u001b[0m\u001b[1;33m)\u001b[0m\u001b[1;33m\u001b[0m\u001b[0m\n",
      "\u001b[1;31mValueError\u001b[0m: labels ['MENTAL_OBSERVATION' 'RACE' 'GENDER' 'INMATE_STATUS_CODE'\n 'GANG_AFFILIATION' 'TOP_CHARGE' 'INFRACTION' 'YEAR'] not contained in axis"
     ]
    }
   ],
   "source": [
    "X = pd.get_dummies(X, columns=['MENTAL_OBSERVATION', 'RACE', 'GENDER', 'INMATE_STATUS_CODE', 'GANG_AFFILIATION', 'TOP_CHARGE', 'INFRACTION', 'YEAR'])\n",
    "X.head()"
   ]
  },
  {
   "cell_type": "code",
   "execution_count": 93,
   "metadata": {},
   "outputs": [
    {
     "data": {
      "text/html": [
       "<div>\n",
       "<style scoped>\n",
       "    .dataframe tbody tr th:only-of-type {\n",
       "        vertical-align: middle;\n",
       "    }\n",
       "\n",
       "    .dataframe tbody tr th {\n",
       "        vertical-align: top;\n",
       "    }\n",
       "\n",
       "    .dataframe thead th {\n",
       "        text-align: right;\n",
       "    }\n",
       "</style>\n",
       "<table border=\"1\" class=\"dataframe\">\n",
       "  <thead>\n",
       "    <tr style=\"text-align: right;\">\n",
       "      <th></th>\n",
       "      <th>MAX</th>\n",
       "      <th>MED</th>\n",
       "      <th>MIN</th>\n",
       "    </tr>\n",
       "  </thead>\n",
       "  <tbody>\n",
       "    <tr>\n",
       "      <th>6</th>\n",
       "      <td>0</td>\n",
       "      <td>0</td>\n",
       "      <td>1</td>\n",
       "    </tr>\n",
       "    <tr>\n",
       "      <th>7</th>\n",
       "      <td>0</td>\n",
       "      <td>1</td>\n",
       "      <td>0</td>\n",
       "    </tr>\n",
       "    <tr>\n",
       "      <th>8</th>\n",
       "      <td>1</td>\n",
       "      <td>0</td>\n",
       "      <td>0</td>\n",
       "    </tr>\n",
       "    <tr>\n",
       "      <th>9</th>\n",
       "      <td>1</td>\n",
       "      <td>0</td>\n",
       "      <td>0</td>\n",
       "    </tr>\n",
       "    <tr>\n",
       "      <th>10</th>\n",
       "      <td>0</td>\n",
       "      <td>0</td>\n",
       "      <td>1</td>\n",
       "    </tr>\n",
       "  </tbody>\n",
       "</table>\n",
       "</div>"
      ],
      "text/plain": [
       "    MAX  MED  MIN\n",
       "6     0    0    1\n",
       "7     0    1    0\n",
       "8     1    0    0\n",
       "9     1    0    0\n",
       "10    0    0    1"
      ]
     },
     "execution_count": 93,
     "metadata": {},
     "output_type": "execute_result"
    }
   ],
   "source": [
    "y = pd.get_dummies(y, columns=['CUSTODY_LEVEL'])\n",
    "y.head()"
   ]
  },
  {
   "cell_type": "code",
   "execution_count": 94,
   "metadata": {},
   "outputs": [
    {
     "data": {
      "text/html": [
       "<div>\n",
       "<style scoped>\n",
       "    .dataframe tbody tr th:only-of-type {\n",
       "        vertical-align: middle;\n",
       "    }\n",
       "\n",
       "    .dataframe tbody tr th {\n",
       "        vertical-align: top;\n",
       "    }\n",
       "\n",
       "    .dataframe thead th {\n",
       "        text-align: right;\n",
       "    }\n",
       "</style>\n",
       "<table border=\"1\" class=\"dataframe\">\n",
       "  <thead>\n",
       "    <tr style=\"text-align: right;\">\n",
       "      <th></th>\n",
       "      <th>MENTAL_OBSERVATION_N</th>\n",
       "      <th>MENTAL_OBSERVATION_Y</th>\n",
       "      <th>RACE_A</th>\n",
       "      <th>RACE_B</th>\n",
       "      <th>RACE_I</th>\n",
       "      <th>RACE_O</th>\n",
       "      <th>RACE_U</th>\n",
       "      <th>RACE_W</th>\n",
       "      <th>GENDER_F</th>\n",
       "      <th>GENDER_M</th>\n",
       "      <th>...</th>\n",
       "      <th>INFRACTION_N</th>\n",
       "      <th>INFRACTION_Y</th>\n",
       "      <th>YEAR_1991</th>\n",
       "      <th>YEAR_2012</th>\n",
       "      <th>YEAR_2013</th>\n",
       "      <th>YEAR_2014</th>\n",
       "      <th>YEAR_2015</th>\n",
       "      <th>YEAR_2016</th>\n",
       "      <th>YEAR_2017</th>\n",
       "      <th>YEAR_2018</th>\n",
       "    </tr>\n",
       "  </thead>\n",
       "  <tbody>\n",
       "    <tr>\n",
       "      <th>1334</th>\n",
       "      <td>0</td>\n",
       "      <td>1</td>\n",
       "      <td>0</td>\n",
       "      <td>1</td>\n",
       "      <td>0</td>\n",
       "      <td>0</td>\n",
       "      <td>0</td>\n",
       "      <td>0</td>\n",
       "      <td>0</td>\n",
       "      <td>1</td>\n",
       "      <td>...</td>\n",
       "      <td>1</td>\n",
       "      <td>0</td>\n",
       "      <td>0</td>\n",
       "      <td>0</td>\n",
       "      <td>0</td>\n",
       "      <td>0</td>\n",
       "      <td>0</td>\n",
       "      <td>0</td>\n",
       "      <td>0</td>\n",
       "      <td>1</td>\n",
       "    </tr>\n",
       "    <tr>\n",
       "      <th>2021</th>\n",
       "      <td>0</td>\n",
       "      <td>1</td>\n",
       "      <td>0</td>\n",
       "      <td>0</td>\n",
       "      <td>0</td>\n",
       "      <td>1</td>\n",
       "      <td>0</td>\n",
       "      <td>0</td>\n",
       "      <td>0</td>\n",
       "      <td>1</td>\n",
       "      <td>...</td>\n",
       "      <td>0</td>\n",
       "      <td>1</td>\n",
       "      <td>0</td>\n",
       "      <td>0</td>\n",
       "      <td>0</td>\n",
       "      <td>0</td>\n",
       "      <td>0</td>\n",
       "      <td>0</td>\n",
       "      <td>0</td>\n",
       "      <td>1</td>\n",
       "    </tr>\n",
       "    <tr>\n",
       "      <th>4618</th>\n",
       "      <td>0</td>\n",
       "      <td>1</td>\n",
       "      <td>0</td>\n",
       "      <td>1</td>\n",
       "      <td>0</td>\n",
       "      <td>0</td>\n",
       "      <td>0</td>\n",
       "      <td>0</td>\n",
       "      <td>0</td>\n",
       "      <td>1</td>\n",
       "      <td>...</td>\n",
       "      <td>1</td>\n",
       "      <td>0</td>\n",
       "      <td>0</td>\n",
       "      <td>0</td>\n",
       "      <td>0</td>\n",
       "      <td>0</td>\n",
       "      <td>0</td>\n",
       "      <td>0</td>\n",
       "      <td>0</td>\n",
       "      <td>1</td>\n",
       "    </tr>\n",
       "    <tr>\n",
       "      <th>237</th>\n",
       "      <td>1</td>\n",
       "      <td>0</td>\n",
       "      <td>0</td>\n",
       "      <td>1</td>\n",
       "      <td>0</td>\n",
       "      <td>0</td>\n",
       "      <td>0</td>\n",
       "      <td>0</td>\n",
       "      <td>0</td>\n",
       "      <td>1</td>\n",
       "      <td>...</td>\n",
       "      <td>0</td>\n",
       "      <td>1</td>\n",
       "      <td>0</td>\n",
       "      <td>0</td>\n",
       "      <td>0</td>\n",
       "      <td>0</td>\n",
       "      <td>0</td>\n",
       "      <td>0</td>\n",
       "      <td>1</td>\n",
       "      <td>0</td>\n",
       "    </tr>\n",
       "    <tr>\n",
       "      <th>5045</th>\n",
       "      <td>1</td>\n",
       "      <td>0</td>\n",
       "      <td>0</td>\n",
       "      <td>0</td>\n",
       "      <td>0</td>\n",
       "      <td>1</td>\n",
       "      <td>0</td>\n",
       "      <td>0</td>\n",
       "      <td>0</td>\n",
       "      <td>1</td>\n",
       "      <td>...</td>\n",
       "      <td>1</td>\n",
       "      <td>0</td>\n",
       "      <td>0</td>\n",
       "      <td>0</td>\n",
       "      <td>0</td>\n",
       "      <td>0</td>\n",
       "      <td>0</td>\n",
       "      <td>0</td>\n",
       "      <td>0</td>\n",
       "      <td>1</td>\n",
       "    </tr>\n",
       "  </tbody>\n",
       "</table>\n",
       "<p>5 rows × 317 columns</p>\n",
       "</div>"
      ],
      "text/plain": [
       "      MENTAL_OBSERVATION_N  MENTAL_OBSERVATION_Y  RACE_A  RACE_B  RACE_I  \\\n",
       "1334                     0                     1       0       1       0   \n",
       "2021                     0                     1       0       0       0   \n",
       "4618                     0                     1       0       1       0   \n",
       "237                      1                     0       0       1       0   \n",
       "5045                     1                     0       0       0       0   \n",
       "\n",
       "      RACE_O  RACE_U  RACE_W  GENDER_F  GENDER_M    ...      INFRACTION_N  \\\n",
       "1334       0       0       0         0         1    ...                 1   \n",
       "2021       1       0       0         0         1    ...                 0   \n",
       "4618       0       0       0         0         1    ...                 1   \n",
       "237        0       0       0         0         1    ...                 0   \n",
       "5045       1       0       0         0         1    ...                 1   \n",
       "\n",
       "      INFRACTION_Y  YEAR_1991  YEAR_2012  YEAR_2013  YEAR_2014  YEAR_2015  \\\n",
       "1334             0          0          0          0          0          0   \n",
       "2021             1          0          0          0          0          0   \n",
       "4618             0          0          0          0          0          0   \n",
       "237              1          0          0          0          0          0   \n",
       "5045             0          0          0          0          0          0   \n",
       "\n",
       "      YEAR_2016  YEAR_2017  YEAR_2018  \n",
       "1334          0          0          1  \n",
       "2021          0          0          1  \n",
       "4618          0          0          1  \n",
       "237           0          1          0  \n",
       "5045          0          0          1  \n",
       "\n",
       "[5 rows x 317 columns]"
      ]
     },
     "execution_count": 94,
     "metadata": {},
     "output_type": "execute_result"
    }
   ],
   "source": [
    "from sklearn.model_selection import train_test_split\n",
    "\n",
    "X_train, X_test, y_train, y_test = train_test_split(X, y, test_size=0.20, random_state=7)\n",
    "X_train.head()"
   ]
  },
  {
   "cell_type": "code",
   "execution_count": 96,
   "metadata": {},
   "outputs": [
    {
     "name": "stdout",
     "output_type": "stream",
     "text": [
      "0.09993906154783669\n",
      "0.08973187081048141\n",
      "0.08160779537149818\n"
     ]
    }
   ],
   "source": [
    "from sklearn.ensemble import RandomForestClassifier\n",
    "from sklearn.model_selection import GridSearchCV\n",
    "\n",
    "#parameter combinations to try\n",
    "param_grid = {'n_estimators': [30, 50, 75, 100], \n",
    "              'max_depth': [1, 2, 3, 4]\n",
    "             }\n",
    "\n",
    "clf = RandomForestClassifier()\n",
    "\n",
    "#fitting the model to each combination in the grid\n",
    "model = GridSearchCV(clf, param_grid)\n",
    "#fining the best parameters based on the search grid\n",
    "model.fit(np.matrix(X_train), y_train)\n",
    "\n",
    "#pulling the fitted model on the best settings so we can see the variable importances\n",
    "clf = model.best_estimator_\n",
    "\n",
    "print(model.best_score_)\n",
    "print(model.score(X_train, y_train))\n",
    "print(model.score(X_test, y_test))"
   ]
  },
  {
   "cell_type": "code",
   "execution_count": 97,
   "metadata": {},
   "outputs": [
    {
     "data": {
      "text/html": [
       "<div>\n",
       "<style scoped>\n",
       "    .dataframe tbody tr th:only-of-type {\n",
       "        vertical-align: middle;\n",
       "    }\n",
       "\n",
       "    .dataframe tbody tr th {\n",
       "        vertical-align: top;\n",
       "    }\n",
       "\n",
       "    .dataframe thead th {\n",
       "        text-align: right;\n",
       "    }\n",
       "</style>\n",
       "<table border=\"1\" class=\"dataframe\">\n",
       "  <thead>\n",
       "    <tr style=\"text-align: right;\">\n",
       "      <th></th>\n",
       "      <th>importance</th>\n",
       "      <th>variable</th>\n",
       "    </tr>\n",
       "  </thead>\n",
       "  <tbody>\n",
       "    <tr>\n",
       "      <th>312</th>\n",
       "      <td>TOP_CHARGE_125.25</td>\n",
       "      <td>0.055100</td>\n",
       "    </tr>\n",
       "    <tr>\n",
       "      <th>313</th>\n",
       "      <td>INFRACTION_N</td>\n",
       "      <td>0.085351</td>\n",
       "    </tr>\n",
       "    <tr>\n",
       "      <th>314</th>\n",
       "      <td>GANG_AFFILIATION_N</td>\n",
       "      <td>0.121676</td>\n",
       "    </tr>\n",
       "    <tr>\n",
       "      <th>315</th>\n",
       "      <td>GANG_AFFILIATION_Y</td>\n",
       "      <td>0.186137</td>\n",
       "    </tr>\n",
       "    <tr>\n",
       "      <th>316</th>\n",
       "      <td>INFRACTION_Y</td>\n",
       "      <td>0.212501</td>\n",
       "    </tr>\n",
       "  </tbody>\n",
       "</table>\n",
       "</div>"
      ],
      "text/plain": [
       "             importance  variable\n",
       "312   TOP_CHARGE_125.25  0.055100\n",
       "313        INFRACTION_N  0.085351\n",
       "314  GANG_AFFILIATION_N  0.121676\n",
       "315  GANG_AFFILIATION_Y  0.186137\n",
       "316        INFRACTION_Y  0.212501"
      ]
     },
     "execution_count": 97,
     "metadata": {},
     "output_type": "execute_result"
    }
   ],
   "source": [
    "#finding the indices that would sort the array \n",
    "sorted_indices = np.argsort(clf.feature_importances_)\n",
    "\n",
    "#finding the most important features and associated importance\n",
    "variables = clf.feature_importances_[sorted_indices]\n",
    "importance_rating = X_train.columns.values[sorted_indices]\n",
    "\n",
    "importances = pd.DataFrame({'variable':variables, 'importance':importance_rating})\n",
    "importances.tail(5)"
   ]
  },
  {
   "cell_type": "code",
   "execution_count": null,
   "metadata": {},
   "outputs": [],
   "source": []
  }
 ],
 "metadata": {
  "kernelspec": {
   "display_name": "Python 3",
   "language": "python",
   "name": "python3"
  },
  "language_info": {
   "codemirror_mode": {
    "name": "ipython",
    "version": 3
   },
   "file_extension": ".py",
   "mimetype": "text/x-python",
   "name": "python",
   "nbconvert_exporter": "python",
   "pygments_lexer": "ipython3",
   "version": "3.6.4"
  }
 },
 "nbformat": 4,
 "nbformat_minor": 2
}
